{
 "cells": [
  {
   "cell_type": "markdown",
   "metadata": {},
   "source": [
    "* This is Part 2 of 4 Code files for Week 2 Titanic Modelling assignment\n",
    "### Logitic Regression of data with feature modifications and then fit Logistic Regresion Model\n"
   ]
  },
  {
   "cell_type": "code",
   "execution_count": 1,
   "metadata": {},
   "outputs": [],
   "source": [
    "import pandas as pd\n",
    "import os\n",
    "import numpy as np"
   ]
  },
  {
   "cell_type": "code",
   "execution_count": 2,
   "metadata": {},
   "outputs": [],
   "source": [
    "##Note, you might need to run the '%store df' command at the end of 'Wk2_Proj_acraig.ipynb workbook\n",
    "%store -r df\n",
    "df = df\n"
   ]
  },
  {
   "cell_type": "code",
   "execution_count": 3,
   "metadata": {},
   "outputs": [],
   "source": [
    "##Import Cleaned Dataframe from the first Project Juptyter file"
   ]
  },
  {
   "cell_type": "code",
   "execution_count": 4,
   "metadata": {},
   "outputs": [
    {
     "data": {
      "text/plain": [
       "Index(['index', 'PassengerId', 'Survived', 'Pclass', 'Name', 'Sex', 'Age',\n",
       "       'SibSp', 'Parch', 'Ticket', 'Fare', 'Cabin', 'Embarked', 'C1', 'Age_i',\n",
       "       'Age_Cat', 'Child', 'Elderly', 'Middle_Aged', 'Teenager',\n",
       "       'Young_Adults', 'Age_Cat_i', 'Title', 'Master', 'Miss', 'Mr', 'Mrs',\n",
       "       'RareTitle', 'Title_Cat', 'Fare_Cat', 'Fare_Cat_i', 'Fare_btw_10_25',\n",
       "       'Fare_lt10', 'Fare_mt100', 'Fare_mt25_50', 'Fare_mt50_100', 'Deck',\n",
       "       'Deck_A', 'Deck_B', 'Deck_C', 'Deck_D', 'Deck_E', 'Deck_F', 'Deck_G',\n",
       "       'U'],\n",
       "      dtype='object')"
      ]
     },
     "execution_count": 4,
     "metadata": {},
     "output_type": "execute_result"
    }
   ],
   "source": [
    "df_mod_lr = df\n",
    "df_mod_lr.columns"
   ]
  },
  {
   "cell_type": "code",
   "execution_count": 5,
   "metadata": {},
   "outputs": [
    {
     "data": {
      "text/html": [
       "<div>\n",
       "<style scoped>\n",
       "    .dataframe tbody tr th:only-of-type {\n",
       "        vertical-align: middle;\n",
       "    }\n",
       "\n",
       "    .dataframe tbody tr th {\n",
       "        vertical-align: top;\n",
       "    }\n",
       "\n",
       "    .dataframe thead th {\n",
       "        text-align: right;\n",
       "    }\n",
       "</style>\n",
       "<table border=\"1\" class=\"dataframe\">\n",
       "  <thead>\n",
       "    <tr style=\"text-align: right;\">\n",
       "      <th></th>\n",
       "      <th>index</th>\n",
       "      <th>PassengerId</th>\n",
       "      <th>Survived</th>\n",
       "      <th>Pclass</th>\n",
       "      <th>Name</th>\n",
       "      <th>Sex</th>\n",
       "      <th>Age</th>\n",
       "      <th>SibSp</th>\n",
       "      <th>Parch</th>\n",
       "      <th>Ticket</th>\n",
       "      <th>...</th>\n",
       "      <th>Fare_mt50_100</th>\n",
       "      <th>Deck</th>\n",
       "      <th>Deck_A</th>\n",
       "      <th>Deck_B</th>\n",
       "      <th>Deck_C</th>\n",
       "      <th>Deck_D</th>\n",
       "      <th>Deck_E</th>\n",
       "      <th>Deck_F</th>\n",
       "      <th>Deck_G</th>\n",
       "      <th>U</th>\n",
       "    </tr>\n",
       "  </thead>\n",
       "  <tbody>\n",
       "    <tr>\n",
       "      <th>0</th>\n",
       "      <td>0</td>\n",
       "      <td>1</td>\n",
       "      <td>0</td>\n",
       "      <td>3</td>\n",
       "      <td>Braund, Mr. Owen Harris</td>\n",
       "      <td>1</td>\n",
       "      <td>22.0</td>\n",
       "      <td>1</td>\n",
       "      <td>0</td>\n",
       "      <td>A/5 21171</td>\n",
       "      <td>...</td>\n",
       "      <td>0</td>\n",
       "      <td>7.0</td>\n",
       "      <td>0</td>\n",
       "      <td>0</td>\n",
       "      <td>0</td>\n",
       "      <td>0</td>\n",
       "      <td>0</td>\n",
       "      <td>0</td>\n",
       "      <td>0</td>\n",
       "      <td>1</td>\n",
       "    </tr>\n",
       "    <tr>\n",
       "      <th>1</th>\n",
       "      <td>1</td>\n",
       "      <td>2</td>\n",
       "      <td>1</td>\n",
       "      <td>1</td>\n",
       "      <td>Cumings, Mrs. John Bradley (Florence Briggs Th...</td>\n",
       "      <td>0</td>\n",
       "      <td>38.0</td>\n",
       "      <td>1</td>\n",
       "      <td>0</td>\n",
       "      <td>PC 17599</td>\n",
       "      <td>...</td>\n",
       "      <td>1</td>\n",
       "      <td>2.0</td>\n",
       "      <td>0</td>\n",
       "      <td>0</td>\n",
       "      <td>1</td>\n",
       "      <td>0</td>\n",
       "      <td>0</td>\n",
       "      <td>0</td>\n",
       "      <td>0</td>\n",
       "      <td>0</td>\n",
       "    </tr>\n",
       "  </tbody>\n",
       "</table>\n",
       "<p>2 rows × 45 columns</p>\n",
       "</div>"
      ],
      "text/plain": [
       "   index  PassengerId  Survived  Pclass  \\\n",
       "0      0            1         0       3   \n",
       "1      1            2         1       1   \n",
       "\n",
       "                                                Name  Sex   Age  SibSp  Parch  \\\n",
       "0                            Braund, Mr. Owen Harris    1  22.0      1      0   \n",
       "1  Cumings, Mrs. John Bradley (Florence Briggs Th...    0  38.0      1      0   \n",
       "\n",
       "      Ticket  ...  Fare_mt50_100 Deck  Deck_A  Deck_B  Deck_C Deck_D  Deck_E  \\\n",
       "0  A/5 21171  ...              0  7.0       0       0       0      0       0   \n",
       "1   PC 17599  ...              1  2.0       0       0       1      0       0   \n",
       "\n",
       "   Deck_F  Deck_G  U  \n",
       "0       0       0  1  \n",
       "1       0       0  0  \n",
       "\n",
       "[2 rows x 45 columns]"
      ]
     },
     "execution_count": 5,
     "metadata": {},
     "output_type": "execute_result"
    }
   ],
   "source": [
    "df_mod_lr.head(2)"
   ]
  },
  {
   "cell_type": "code",
   "execution_count": 6,
   "metadata": {},
   "outputs": [],
   "source": [
    "##Select columns for final model dataset for the Logistic Regression model\n",
    "\n",
    "df_mod_lr = df_mod_lr[['Survived','Pclass', 'Sex', 'SibSp', 'Parch', 'Embarked', 'Child','Elderly',\n",
    " 'Middle_Aged', 'Teenager', 'Young_Adults', 'Master', 'Miss','Mr', 'Mrs', 'RareTitle', \n",
    " 'Fare_btw_10_25', 'Fare_lt10', 'Fare_mt100','Fare_mt25_50', 'Fare_mt50_100', 'Deck_A', 'Deck_B', \n",
    " 'Deck_C', 'Deck_D','Deck_E', 'Deck_F', 'Deck_G', 'U' ]]\n"
   ]
  },
  {
   "cell_type": "code",
   "execution_count": 7,
   "metadata": {},
   "outputs": [
    {
     "data": {
      "text/plain": [
       "Index(['Survived', 'Pclass', 'Sex', 'SibSp', 'Parch', 'Embarked', 'Child',\n",
       "       'Elderly', 'Middle_Aged', 'Teenager', 'Young_Adults', 'Master', 'Miss',\n",
       "       'Mr', 'Mrs', 'RareTitle', 'Fare_btw_10_25', 'Fare_lt10', 'Fare_mt100',\n",
       "       'Fare_mt25_50', 'Fare_mt50_100', 'Deck_A', 'Deck_B', 'Deck_C', 'Deck_D',\n",
       "       'Deck_E', 'Deck_F', 'Deck_G', 'U'],\n",
       "      dtype='object')"
      ]
     },
     "execution_count": 7,
     "metadata": {},
     "output_type": "execute_result"
    }
   ],
   "source": [
    "df_mod_lr.columns"
   ]
  },
  {
   "cell_type": "code",
   "execution_count": 8,
   "metadata": {},
   "outputs": [],
   "source": [
    "###Logistic Regression Model for the Titanic data"
   ]
  },
  {
   "cell_type": "code",
   "execution_count": 9,
   "metadata": {},
   "outputs": [
    {
     "data": {
      "text/plain": [
       "((143, 28), (143,))"
      ]
     },
     "execution_count": 9,
     "metadata": {},
     "output_type": "execute_result"
    }
   ],
   "source": [
    "\n",
    "import pandas as pd\n",
    "import numpy as np\n",
    "import seaborn as sns\n",
    "import matplotlib.pyplot as plt\n",
    "from sklearn.model_selection import train_test_split\n",
    "from sklearn.dummy import DummyClassifier\n",
    "\n",
    "X = df[['Pclass', 'Sex', 'SibSp', 'Parch', 'Embarked', 'Child',\n",
    "       'Elderly', 'Middle_Aged', 'Teenager', 'Young_Adults', 'Master', 'Miss',\n",
    "       'Mr', 'Mrs', 'RareTitle', 'Fare_btw_10_25', 'Fare_lt10', 'Fare_mt100',\n",
    "       'Fare_mt25_50', 'Fare_mt50_100', 'Deck_A', 'Deck_B', 'Deck_C', 'Deck_D',\n",
    "       'Deck_E', 'Deck_F', 'Deck_G', 'U']]\n",
    "y = df[\"Survived\"]\n",
    "\n",
    "X_train, X_test, y_train, y_test = train_test_split(X,y, test_size = 0.2, random_state =319)\n",
    "X_train.shape, y_train.shape,\n",
    "X_test.shape, y_test.shape\n"
   ]
  },
  {
   "cell_type": "markdown",
   "metadata": {},
   "source": [
    "#Fit Logistic regression Model"
   ]
  },
  {
   "cell_type": "code",
   "execution_count": 10,
   "metadata": {},
   "outputs": [
    {
     "data": {
      "text/plain": [
       "(0.83, 0.79)"
      ]
     },
     "execution_count": 10,
     "metadata": {},
     "output_type": "execute_result"
    }
   ],
   "source": [
    "from sklearn.linear_model import LogisticRegression\n",
    "\n",
    "lg_mod = LogisticRegression(class_weight='balanced', max_iter=10000)\n",
    "lg_mod.fit(X_train, y_train)\n",
    "\n",
    "lg_mod.coef_ ,\n",
    "lg_mod.intercept_\n",
    "\n",
    "# calculate the accuracy\n",
    "round(  lg_mod.score(X_train, y_train,)  ,2), round(lg_mod.score( X_test, y_test),2)\n"
   ]
  },
  {
   "cell_type": "code",
   "execution_count": 11,
   "metadata": {},
   "outputs": [
    {
     "data": {
      "text/plain": [
       "array([0, 0, 0, 1, 1, 0, 0, 0, 0, 0, 1, 0, 0, 0, 1, 0, 1, 1, 1, 0, 0, 0,\n",
       "       0, 1, 0, 1, 0, 0, 1, 0, 0, 0, 1, 0, 1, 1, 0, 1, 1, 0, 0, 0, 0, 1,\n",
       "       1, 1, 1, 0, 1, 0, 0, 1, 1, 0, 1, 0, 0, 1, 0, 0, 0, 0, 0, 0, 1, 0,\n",
       "       1, 0, 1, 0, 1, 0, 1, 1, 0, 1, 0, 0, 0, 1, 0, 1, 1, 0, 0, 1, 1, 0,\n",
       "       0, 0, 0, 0, 0, 0, 1, 0, 1, 1, 0, 0, 1, 1, 0, 0, 1, 0, 0, 1, 1, 1,\n",
       "       0, 0, 1, 1, 0, 0, 0, 0, 1, 1, 1, 1, 1, 0, 0, 0, 1, 0, 0, 1, 1, 1,\n",
       "       1, 1, 1, 1, 0, 0, 1, 1, 1, 0, 0], dtype=int64)"
      ]
     },
     "execution_count": 11,
     "metadata": {},
     "output_type": "execute_result"
    }
   ],
   "source": [
    "lg_mod.predict(X_test)\n"
   ]
  },
  {
   "cell_type": "code",
   "execution_count": 12,
   "metadata": {},
   "outputs": [
    {
     "data": {
      "text/plain": [
       "array([[0.81911446, 0.18088554],\n",
       "       [0.83755657, 0.16244343],\n",
       "       [0.6248407 , 0.3751593 ],\n",
       "       [0.40895519, 0.59104481],\n",
       "       [0.33625216, 0.66374784],\n",
       "       [0.81286309, 0.18713691],\n",
       "       [0.85123783, 0.14876217],\n",
       "       [0.92087844, 0.07912156],\n",
       "       [0.62645905, 0.37354095],\n",
       "       [0.71828483, 0.28171517],\n",
       "       [0.28773539, 0.71226461],\n",
       "       [0.85123783, 0.14876217],\n",
       "       [0.83755657, 0.16244343],\n",
       "       [0.65185955, 0.34814045],\n",
       "       [0.01041273, 0.98958727],\n",
       "       [0.68721015, 0.31278985],\n",
       "       [0.10823951, 0.89176049],\n",
       "       [0.03547   , 0.96453   ],\n",
       "       [0.03645815, 0.96354185],\n",
       "       [0.90198675, 0.09801325],\n",
       "       [0.83755657, 0.16244343],\n",
       "       [0.70913578, 0.29086422],\n",
       "       [0.69843483, 0.30156517],\n",
       "       [0.21370179, 0.78629821],\n",
       "       [0.79908089, 0.20091911],\n",
       "       [0.03777636, 0.96222364],\n",
       "       [0.63466745, 0.36533255],\n",
       "       [0.84935044, 0.15064956],\n",
       "       [0.06346661, 0.93653339],\n",
       "       [0.89735531, 0.10264469],\n",
       "       [0.66880795, 0.33119205],\n",
       "       [0.92991385, 0.07008615],\n",
       "       [0.14751369, 0.85248631],\n",
       "       [0.92329977, 0.07670023],\n",
       "       [0.37873409, 0.62126591],\n",
       "       [0.09858604, 0.90141396],\n",
       "       [0.83755657, 0.16244343],\n",
       "       [0.20229516, 0.79770484],\n",
       "       [0.15524699, 0.84475301],\n",
       "       [0.83755657, 0.16244343],\n",
       "       [0.83755657, 0.16244343],\n",
       "       [0.91892112, 0.08107888],\n",
       "       [0.79908089, 0.20091911],\n",
       "       [0.26918144, 0.73081856],\n",
       "       [0.10461214, 0.89538786],\n",
       "       [0.04624527, 0.95375473],\n",
       "       [0.12818005, 0.87181995],\n",
       "       [0.80106172, 0.19893828],\n",
       "       [0.38581238, 0.61418762],\n",
       "       [0.83923439, 0.16076561],\n",
       "       [0.90870945, 0.09129055],\n",
       "       [0.31116215, 0.68883785],\n",
       "       [0.24918507, 0.75081493],\n",
       "       [0.68616023, 0.31383977],\n",
       "       [0.44767156, 0.55232844],\n",
       "       [0.83755657, 0.16244343],\n",
       "       [0.8368247 , 0.1631753 ],\n",
       "       [0.11767919, 0.88232081],\n",
       "       [0.79908089, 0.20091911],\n",
       "       [0.93756786, 0.06243214],\n",
       "       [0.81286309, 0.18713691],\n",
       "       [0.692433  , 0.307567  ],\n",
       "       [0.91892112, 0.08107888],\n",
       "       [0.59946037, 0.40053963],\n",
       "       [0.18172682, 0.81827318],\n",
       "       [0.75064159, 0.24935841],\n",
       "       [0.03538091, 0.96461909],\n",
       "       [0.83755657, 0.16244343],\n",
       "       [0.23941216, 0.76058784],\n",
       "       [0.79908089, 0.20091911],\n",
       "       [0.09858604, 0.90141396],\n",
       "       [0.81911446, 0.18088554],\n",
       "       [0.30121097, 0.69878903],\n",
       "       [0.13545415, 0.86454585],\n",
       "       [0.94618052, 0.05381948],\n",
       "       [0.37399034, 0.62600966],\n",
       "       [0.83755657, 0.16244343],\n",
       "       [0.75064159, 0.24935841],\n",
       "       [0.92435291, 0.07564709],\n",
       "       [0.48196285, 0.51803715],\n",
       "       [0.85123783, 0.14876217],\n",
       "       [0.12189444, 0.87810556],\n",
       "       [0.30121097, 0.69878903],\n",
       "       [0.83755657, 0.16244343],\n",
       "       [0.51704663, 0.48295337],\n",
       "       [0.14886576, 0.85113424],\n",
       "       [0.10421882, 0.89578118],\n",
       "       [0.97208375, 0.02791625],\n",
       "       [0.83189777, 0.16810223],\n",
       "       [0.85123783, 0.14876217],\n",
       "       [0.83755657, 0.16244343],\n",
       "       [0.75342811, 0.24657189],\n",
       "       [0.64930866, 0.35069134],\n",
       "       [0.83755657, 0.16244343],\n",
       "       [0.21728281, 0.78271719],\n",
       "       [0.88347672, 0.11652328],\n",
       "       [0.09881709, 0.90118291],\n",
       "       [0.39498887, 0.60501113],\n",
       "       [0.83755657, 0.16244343],\n",
       "       [0.96530177, 0.03469823],\n",
       "       [0.34906481, 0.65093519],\n",
       "       [0.22306184, 0.77693816],\n",
       "       [0.85123783, 0.14876217],\n",
       "       [0.6232604 , 0.3767396 ],\n",
       "       [0.43030793, 0.56969207],\n",
       "       [0.94062181, 0.05937819],\n",
       "       [0.83755657, 0.16244343],\n",
       "       [0.09554245, 0.90445755],\n",
       "       [0.02101953, 0.97898047],\n",
       "       [0.12957031, 0.87042969],\n",
       "       [0.83755657, 0.16244343],\n",
       "       [0.54240936, 0.45759064],\n",
       "       [0.16329821, 0.83670179],\n",
       "       [0.44569998, 0.55430002],\n",
       "       [0.87231565, 0.12768435],\n",
       "       [0.85123783, 0.14876217],\n",
       "       [0.95653157, 0.04346843],\n",
       "       [0.83755657, 0.16244343],\n",
       "       [0.39525996, 0.60474004],\n",
       "       [0.04507233, 0.95492767],\n",
       "       [0.25889471, 0.74110529],\n",
       "       [0.01521181, 0.98478819],\n",
       "       [0.03788454, 0.96211546],\n",
       "       [0.75064159, 0.24935841],\n",
       "       [0.85123783, 0.14876217],\n",
       "       [0.65196733, 0.34803267],\n",
       "       [0.19381391, 0.80618609],\n",
       "       [0.96056328, 0.03943672],\n",
       "       [0.65196733, 0.34803267],\n",
       "       [0.16940596, 0.83059404],\n",
       "       [0.49868829, 0.50131171],\n",
       "       [0.06346661, 0.93653339],\n",
       "       [0.28478545, 0.71521455],\n",
       "       [0.49922693, 0.50077307],\n",
       "       [0.36580547, 0.63419453],\n",
       "       [0.2363472 , 0.7636528 ],\n",
       "       [0.79908089, 0.20091911],\n",
       "       [0.86871627, 0.13128373],\n",
       "       [0.42947267, 0.57052733],\n",
       "       [0.16112285, 0.83887715],\n",
       "       [0.24918507, 0.75081493],\n",
       "       [0.83755657, 0.16244343],\n",
       "       [0.74468699, 0.25531301]])"
      ]
     },
     "execution_count": 12,
     "metadata": {},
     "output_type": "execute_result"
    }
   ],
   "source": [
    "lg_mod.predict_proba(X_test)"
   ]
  },
  {
   "cell_type": "markdown",
   "metadata": {},
   "source": [
    "### Cross validation of Logistic regression Model"
   ]
  },
  {
   "cell_type": "code",
   "execution_count": 13,
   "metadata": {},
   "outputs": [
    {
     "name": "stderr",
     "output_type": "stream",
     "text": [
      "[Parallel(n_jobs=1)]: Using backend SequentialBackend with 1 concurrent workers.\n",
      "[Parallel(n_jobs=1)]: Done   1 out of   1 | elapsed:    0.0s remaining:    0.0s\n",
      "[Parallel(n_jobs=1)]: Done   2 out of   2 | elapsed:    0.0s remaining:    0.0s\n"
     ]
    },
    {
     "name": "stdout",
     "output_type": "stream",
     "text": [
      "[CV] END ................................ score: (test=0.864) total time=   0.0s\n",
      "[CV] END ................................ score: (test=0.655) total time=   0.0s\n",
      "[CV] END ................................ score: (test=0.778) total time=   0.0s\n",
      "[CV] END ................................ score: (test=0.875) total time=   0.0s\n",
      "[CV] END ................................ score: (test=0.793) total time=   0.0s\n",
      "[CV] END ................................ score: (test=0.783) total time=   0.0s\n",
      "[CV] END ................................ score: (test=0.720) total time=   0.0s\n",
      "[CV] END ................................ score: (test=0.720) total time=   0.0s\n",
      "[CV] END ................................ score: (test=0.680) total time=   0.0s\n",
      "[CV] END ................................ score: (test=0.769) total time=   0.0s\n"
     ]
    },
    {
     "name": "stderr",
     "output_type": "stream",
     "text": [
      "[Parallel(n_jobs=1)]: Done  10 out of  10 | elapsed:    0.2s finished\n"
     ]
    }
   ],
   "source": [
    "from sklearn.model_selection import GridSearchCV\n",
    "from IPython.display import Image\n",
    "from sklearn.linear_model import LogisticRegression\n",
    "from sklearn.model_selection import train_test_split, cross_validate, cross_val_score\n",
    "\n",
    "\n",
    "lg_mod_cv = cross_val_score(lg_mod, X_train, y_train, \\\n",
    "                      cv=10, verbose =3 , scoring='precision')\n",
    "\n"
   ]
  },
  {
   "cell_type": "code",
   "execution_count": 14,
   "metadata": {},
   "outputs": [
    {
     "data": {
      "text/plain": [
       "array([0.85964912, 0.73684211, 0.84210526, 0.89473684, 0.87719298,\n",
       "       0.80701754, 0.77192982, 0.77192982, 0.73684211, 0.80701754])"
      ]
     },
     "execution_count": 14,
     "metadata": {},
     "output_type": "execute_result"
    }
   ],
   "source": [
    "cv_results = cross_val_score(lg_mod,X_train, y_train,cv=10) \n",
    "cv_results"
   ]
  },
  {
   "cell_type": "code",
   "execution_count": 15,
   "metadata": {},
   "outputs": [
    {
     "data": {
      "text/plain": [
       "0.8105263157894737"
      ]
     },
     "execution_count": 15,
     "metadata": {},
     "output_type": "execute_result"
    }
   ],
   "source": [
    "cv_results.mean()"
   ]
  },
  {
   "cell_type": "code",
   "execution_count": 16,
   "metadata": {},
   "outputs": [
    {
     "data": {
      "text/plain": [
       "0.05367388961676617"
      ]
     },
     "execution_count": 16,
     "metadata": {},
     "output_type": "execute_result"
    }
   ],
   "source": [
    "cv_results.std()"
   ]
  },
  {
   "cell_type": "markdown",
   "metadata": {},
   "source": [
    "##  EVALUATION METRICS\n"
   ]
  },
  {
   "cell_type": "code",
   "execution_count": 17,
   "metadata": {},
   "outputs": [
    {
     "data": {
      "text/plain": [
       "0.8263157894736842"
      ]
     },
     "execution_count": 17,
     "metadata": {},
     "output_type": "execute_result"
    }
   ],
   "source": [
    "#Accuracy\n",
    "from sklearn.metrics import accuracy_score \n",
    "ypred = lg_mod.predict(X_train) #generating predictive results\n",
    "accuracy =accuracy_score(y_train, ypred) #compare predictive results to actual results\n",
    "accuracy"
   ]
  },
  {
   "cell_type": "markdown",
   "metadata": {},
   "source": [
    "Precision"
   ]
  },
  {
   "cell_type": "code",
   "execution_count": 18,
   "metadata": {},
   "outputs": [],
   "source": [
    "from sklearn.metrics import precision_score, recall_score, f1_score"
   ]
  },
  {
   "cell_type": "code",
   "execution_count": 19,
   "metadata": {},
   "outputs": [
    {
     "name": "stdout",
     "output_type": "stream",
     "text": [
      "Accuracy: 0.83\n",
      "Precision: 0.78\n",
      "recall: 0.83\n",
      "f1:0.8\n"
     ]
    }
   ],
   "source": [
    "precision = round(precision_score(y_train,ypred),2)\n",
    "\n",
    "recall = round(recall_score(y_train,ypred),2)\n",
    "f1 = round(f1_score(y_train,ypred),2)\n",
    "\n",
    "print('Accuracy: ' + str(round(accuracy,2)) + '\\n' + 'Precision: ' + str(precision) + '\\n' + 'recall: ' + str(recall) + '\\n' + 'f1:' + str(f1) )\n"
   ]
  },
  {
   "cell_type": "markdown",
   "metadata": {},
   "source": [
    "###Confusion Matrx fot the Logistic Regression Model"
   ]
  },
  {
   "cell_type": "code",
   "execution_count": 20,
   "metadata": {},
   "outputs": [
    {
     "data": {
      "text/plain": [
       "<sklearn.metrics._plot.confusion_matrix.ConfusionMatrixDisplay at 0x15610e30>"
      ]
     },
     "execution_count": 20,
     "metadata": {},
     "output_type": "execute_result"
    },
    {
     "data": {
      "image/png": "[encoded data removed]",
      "text/plain": [
       "<Figure size 640x480 with 2 Axes>"
      ]
     },
     "metadata": {},
     "output_type": "display_data"
    }
   ],
   "source": [
    "from sklearn.metrics import confusion_matrix\n",
    "from sklearn.metrics import plot_confusion_matrix\n",
    "\n",
    "conf = confusion_matrix(y_train, ypred)\n",
    "conf\n",
    "plot_confusion_matrix(lg_mod, X_train, y_train, normalize=None)\n",
    "\n",
    "\n"
   ]
  },
  {
   "cell_type": "code",
   "execution_count": 21,
   "metadata": {},
   "outputs": [
    {
     "data": {
      "text/plain": [
       "array([0, 0, 0, 0, 0, 1, 0, 0, 0, 0, 1, 1, 1, 0, 0, 0, 1, 0, 1, 0, 0, 0,\n",
       "       0, 1, 0, 0, 1, 1, 1, 1, 0, 1, 0, 0, 0, 0, 0, 0, 0, 1, 0, 0, 0, 1,\n",
       "       0, 0, 0, 1, 0, 0, 1, 1, 0, 0, 0, 0, 0, 0, 1, 1, 1, 0, 1, 1, 0, 1,\n",
       "       1, 1, 1, 0, 1, 1, 1, 1, 0, 1, 1, 0, 1, 0, 0, 0, 1, 1, 0, 1, 0, 0,\n",
       "       0, 1, 0, 0, 0, 0, 0, 1, 0, 1, 0, 0, 1, 1, 1, 1, 1, 1, 1, 0, 1, 0,\n",
       "       0, 1, 1, 0, 0, 1, 1, 0, 1, 0, 0, 0, 0, 1, 0, 1, 1, 1, 1, 0, 1, 0,\n",
       "       1, 1, 0, 0, 1, 0, 1, 1, 0, 1, 0, 1, 0, 0, 0, 0, 1, 1, 1, 1, 0, 1,\n",
       "       0, 1, 0, 0, 0, 0, 1, 0, 1, 0, 0, 0, 0, 1, 0, 1, 0, 1, 1, 1, 0, 0,\n",
       "       0, 1, 1, 0, 0, 0, 0, 0, 1, 0, 1, 0, 1, 1, 0, 0, 1, 1, 0, 1, 0, 0,\n",
       "       0, 0, 1, 0, 0, 0, 0, 0, 0, 0, 1, 1, 1, 0, 1, 1, 0, 1, 1, 1, 1, 0,\n",
       "       1, 1, 0, 0, 0, 0, 1, 1, 0, 0, 0, 0, 1, 0, 0, 1, 1, 1, 1, 1, 1, 0,\n",
       "       0, 1, 1, 0, 1, 0, 1, 0, 1, 0, 0, 1, 0, 0, 0, 1, 1, 0, 1, 1, 0, 1,\n",
       "       0, 1, 1, 0, 1, 1, 0, 1, 0, 0, 1, 1, 1, 1, 0, 0, 0, 1, 0, 1, 0, 0,\n",
       "       0, 0, 1, 1, 1, 0, 0, 0, 1, 1, 0, 0, 1, 1, 1, 1, 0, 0, 0, 0, 0, 0,\n",
       "       1, 0, 0, 1, 0, 1, 1, 1, 0, 1, 1, 0, 0, 0, 1, 1, 1, 0, 0, 0, 0, 0,\n",
       "       0, 0, 0, 1, 0, 1, 1, 1, 0, 0, 0, 1, 1, 0, 0, 1, 1, 1, 0, 1, 1, 1,\n",
       "       0, 0, 1, 0, 1, 1, 1, 1, 1, 0, 0, 0, 0, 0, 1, 0, 0, 0, 1, 0, 0, 1,\n",
       "       1, 1, 0, 0, 0, 1, 0, 0, 1, 0, 0, 0, 0, 0, 0, 0, 0, 1, 1, 1, 0, 1,\n",
       "       1, 0, 0, 0, 0, 1, 0, 1, 0, 1, 1, 1, 0, 1, 0, 1, 1, 0, 0, 1, 1, 0,\n",
       "       1, 0, 1, 0, 0, 1, 0, 0, 0, 1, 0, 0, 0, 0, 0, 1, 1, 0, 0, 0, 1, 0,\n",
       "       0, 1, 0, 0, 1, 0, 0, 1, 1, 0, 1, 1, 1, 0, 0, 0, 0, 0, 0, 0, 1, 1,\n",
       "       1, 0, 0, 1, 1, 1, 1, 1, 1, 1, 1, 1, 1, 0, 1, 1, 1, 1, 1, 0, 0, 0,\n",
       "       0, 0, 0, 0, 0, 1, 1, 0, 1, 1, 1, 0, 0, 1, 1, 0, 1, 1, 1, 0, 1, 1,\n",
       "       0, 0, 0, 1, 0, 0, 0, 0, 1, 0, 1, 1, 0, 0, 0, 0, 1, 1, 0, 1, 0, 1,\n",
       "       0, 0, 0, 1, 1, 0, 0, 1, 0, 1, 1, 0, 0, 0, 0, 0, 0, 0, 1, 1, 0, 0,\n",
       "       1, 1, 1, 0, 0, 0, 1, 0, 1, 1, 0, 0, 0, 0, 0, 0, 1, 0, 1, 0],\n",
       "      dtype=int64)"
      ]
     },
     "execution_count": 21,
     "metadata": {},
     "output_type": "execute_result"
    }
   ],
   "source": [
    "from sklearn.metrics import plot_roc_curve, roc_curve, auc\n",
    "lg_mod.predict(X_train)"
   ]
  },
  {
   "cell_type": "code",
   "execution_count": 22,
   "metadata": {},
   "outputs": [
    {
     "data": {
      "text/plain": [
       "array([[0.79908089, 0.20091911],\n",
       "       [0.84569335, 0.15430665],\n",
       "       [0.91892112, 0.08107888],\n",
       "       ...,\n",
       "       [0.75064159, 0.24935841],\n",
       "       [0.37821377, 0.62178623],\n",
       "       [0.97049604, 0.02950396]])"
      ]
     },
     "execution_count": 22,
     "metadata": {},
     "output_type": "execute_result"
    }
   ],
   "source": [
    "lg_mod.predict_proba(X_train)"
   ]
  },
  {
   "cell_type": "code",
   "execution_count": 23,
   "metadata": {},
   "outputs": [
    {
     "data": {
      "text/plain": [
       "<sklearn.metrics._plot.roc_curve.RocCurveDisplay at 0x15610a70>"
      ]
     },
     "execution_count": 23,
     "metadata": {},
     "output_type": "execute_result"
    },
    {
     "data": {
      "image/png": "[encoded data removed]",
      "text/plain": [
       "<Figure size 640x480 with 1 Axes>"
      ]
     },
     "metadata": {},
     "output_type": "display_data"
    }
   ],
   "source": [
    "plot_roc_curve(lg_mod, X_train, y_train)"
   ]
  },
  {
   "cell_type": "code",
   "execution_count": 24,
   "metadata": {},
   "outputs": [],
   "source": [
    "fpr, tpr, threshold = roc_curve(y_train, lg_mod.predict_proba(X_train)[:,1]);\n",
    "\n"
   ]
  },
  {
   "cell_type": "code",
   "execution_count": 25,
   "metadata": {},
   "outputs": [
    {
     "name": "stdout",
     "output_type": "stream",
     "text": [
      "\n",
      "      fpr=[0.         0.         0.         0.         0.         0.\n",
      " 0.         0.         0.         0.         0.         0.\n",
      " 0.         0.         0.         0.00303951 0.00303951 0.00303951\n",
      " 0.00303951 0.00607903 0.00607903 0.00607903 0.00607903 0.00911854\n",
      " 0.00911854 0.00911854 0.00911854 0.00911854 0.00911854 0.01215805\n",
      " 0.01519757 0.01519757 0.01823708 0.01823708 0.01823708 0.01823708\n",
      " 0.0212766  0.0212766  0.0212766  0.0212766  0.0212766  0.0212766\n",
      " 0.0212766  0.02431611 0.03039514 0.03039514 0.03343465 0.03343465\n",
      " 0.05471125 0.05471125 0.05775076 0.05775076 0.05775076 0.06382979\n",
      " 0.0668693  0.0668693  0.07294833 0.07294833 0.07598784 0.07598784\n",
      " 0.07598784 0.07598784 0.07902736 0.07902736 0.0881459  0.09422492\n",
      " 0.09422492 0.09726444 0.09726444 0.10030395 0.10030395 0.10638298\n",
      " 0.11550152 0.11550152 0.11854103 0.12158055 0.12765957 0.12765957\n",
      " 0.13069909 0.13069909 0.13677812 0.14285714 0.14589666 0.14589666\n",
      " 0.14893617 0.15197568 0.15805471 0.15805471 0.17021277 0.17021277\n",
      " 0.17325228 0.17325228 0.17629179 0.18237082 0.2006079  0.20364742\n",
      " 0.20364742 0.22492401 0.23708207 0.25835866 0.25835866 0.2674772\n",
      " 0.27051672 0.27051672 0.27963526 0.28267477 0.2887538  0.29483283\n",
      " 0.29483283 0.30395137 0.3100304  0.37386018 0.37993921 0.38601824\n",
      " 0.40425532 0.41641337 0.42553191 0.43161094 0.43768997 0.44680851\n",
      " 0.47112462 0.47416413 0.48024316 0.48632219 0.49240122 0.49544073\n",
      " 0.50455927 0.70212766 0.70212766 0.70516717 0.74164134 0.74468085\n",
      " 0.77203647 0.7781155  0.78115502 0.78723404 0.79027356 0.7993921\n",
      " 0.80243161 0.81458967 0.83890578 0.91489362 0.92097264 0.9331307\n",
      " 0.94224924 0.94832827 0.98480243 0.99088146 1.        ] \n",
      " \n",
      "      \n",
      "      tpr=[0.         0.00414938 0.03319502 0.04564315 0.07883817 0.09543568\n",
      " 0.14107884 0.14937759 0.1659751  0.17842324 0.19917012 0.20746888\n",
      " 0.21161826 0.21991701 0.23236515 0.23236515 0.26141079 0.26970954\n",
      " 0.27385892 0.27385892 0.29460581 0.30290456 0.30705394 0.30705394\n",
      " 0.3153527  0.32365145 0.34024896 0.34854772 0.36929461 0.36929461\n",
      " 0.37759336 0.41493776 0.41493776 0.43153527 0.45228216 0.46887967\n",
      " 0.46887967 0.48547718 0.49792531 0.51452282 0.52282158 0.53526971\n",
      " 0.54356846 0.54356846 0.54771784 0.56846473 0.58506224 0.58921162\n",
      " 0.62240664 0.62655602 0.63070539 0.63900415 0.65145228 0.65560166\n",
      " 0.65560166 0.66804979 0.66804979 0.68049793 0.68049793 0.6846473\n",
      " 0.70124481 0.70954357 0.71369295 0.7219917  0.7219917  0.72614108\n",
      " 0.73029046 0.73029046 0.73858921 0.73858921 0.75103734 0.75103734\n",
      " 0.75103734 0.75518672 0.7593361  0.7593361  0.7593361  0.76348548\n",
      " 0.76348548 0.76763485 0.76763485 0.77178423 0.77593361 0.78423237\n",
      " 0.78423237 0.80497925 0.80497925 0.80912863 0.80912863 0.81742739\n",
      " 0.82572614 0.82987552 0.82987552 0.82987552 0.82987552 0.8340249\n",
      " 0.83817427 0.83817427 0.83817427 0.83817427 0.84647303 0.85062241\n",
      " 0.85477178 0.85892116 0.85892116 0.87136929 0.87136929 0.87966805\n",
      " 0.88381743 0.8879668  0.8879668  0.89211618 0.89211618 0.89211618\n",
      " 0.89626556 0.89626556 0.89626556 0.89626556 0.90041494 0.90041494\n",
      " 0.90456432 0.90456432 0.90871369 0.90871369 0.90871369 0.90871369\n",
      " 0.90871369 0.95435685 0.9626556  0.9626556  0.97510373 0.97510373\n",
      " 0.97925311 0.97925311 0.97925311 0.98340249 0.98340249 0.98340249\n",
      " 0.98340249 0.99170124 0.99170124 1.         1.         1.\n",
      " 1.         1.         1.         1.         1.        ] \n",
      " \n",
      "      \n",
      "      thresholds=[1.99 0.99 0.98 0.98 0.98 0.98 0.97 0.97 0.96 0.96 0.96 0.95 0.95 0.95\n",
      " 0.94 0.93 0.92 0.92 0.92 0.91 0.91 0.91 0.91 0.9  0.9  0.9  0.89 0.89\n",
      " 0.88 0.87 0.87 0.86 0.85 0.85 0.84 0.84 0.84 0.83 0.82 0.81 0.81 0.8\n",
      " 0.79 0.79 0.78 0.77 0.77 0.76 0.76 0.76 0.76 0.75 0.74 0.74 0.74 0.73\n",
      " 0.73 0.72 0.72 0.71 0.71 0.71 0.71 0.7  0.69 0.69 0.68 0.67 0.66 0.66\n",
      " 0.65 0.65 0.64 0.63 0.62 0.62 0.61 0.61 0.6  0.59 0.59 0.58 0.58 0.57\n",
      " 0.56 0.55 0.53 0.53 0.52 0.51 0.5  0.5  0.49 0.46 0.44 0.44 0.44 0.4\n",
      " 0.38 0.35 0.33 0.33 0.31 0.31 0.3  0.3  0.29 0.28 0.28 0.26 0.25 0.25\n",
      " 0.25 0.24 0.23 0.22 0.22 0.21 0.21 0.2  0.2  0.19 0.18 0.18 0.17 0.17\n",
      " 0.16 0.16 0.16 0.15 0.15 0.15 0.13 0.13 0.13 0.12 0.12 0.11 0.1  0.1\n",
      " 0.09 0.08 0.08 0.08 0.08 0.06 0.02 0.02 0.01]\n"
     ]
    }
   ],
   "source": [
    "\n",
    "print(f\"\"\"\n",
    "      fpr={fpr} \\n \n",
    "      \n",
    "      tpr={tpr} \\n \n",
    "      \n",
    "      thresholds={np.round(threshold, 2)}\"\"\")"
   ]
  },
  {
   "cell_type": "code",
   "execution_count": 26,
   "metadata": {},
   "outputs": [
    {
     "data": {
      "text/plain": [
       "91"
      ]
     },
     "execution_count": 26,
     "metadata": {},
     "output_type": "execute_result"
    }
   ],
   "source": [
    "max_index = np.argmax(tpr - fpr)\n",
    "max_index"
   ]
  },
  {
   "cell_type": "code",
   "execution_count": 27,
   "metadata": {},
   "outputs": [
    {
     "name": "stdout",
     "output_type": "stream",
     "text": [
      "0.495595940180712 0.17325227963525835 0.8298755186721992\n"
     ]
    }
   ],
   "source": [
    "print(threshold[max_index],\n",
    "      fpr[max_index],\n",
    "      tpr[max_index])"
   ]
  },
  {
   "cell_type": "code",
   "execution_count": 28,
   "metadata": {},
   "outputs": [
    {
     "name": "stdout",
     "output_type": "stream",
     "text": [
      "Area under the curve =  0.8845047862881358\n"
     ]
    }
   ],
   "source": [
    "auc_score = auc(fpr, tpr)\n",
    "print(\"Area under the curve = \",auc_score)"
   ]
  },
  {
   "cell_type": "code",
   "execution_count": 30,
   "metadata": {},
   "outputs": [
    {
     "name": "stdout",
     "output_type": "stream",
     "text": [
      "Stored 'lg_mod' (LogisticRegression)\n",
      "Stored 'lg_mod' (LogisticRegression)\n"
     ]
    },
    {
     "data": {
      "text/plain": [
       "LogisticRegression(class_weight='balanced', max_iter=10000)"
      ]
     },
     "execution_count": 30,
     "metadata": {},
     "output_type": "execute_result"
    }
   ],
   "source": [
    "%store  lg_mod \n",
    "%store lg_mod \n",
    "\n",
    "\n",
    "lg_mod "
   ]
  }
 ],
 "metadata": {
  "kernelspec": {
   "display_name": "Python 3.10.7 64-bit",
   "language": "python",
   "name": "python3"
  },
  "language_info": {
   "codemirror_mode": {
    "name": "ipython",
    "version": 3
   },
   "file_extension": ".py",
   "mimetype": "text/x-python",
   "name": "python",
   "nbconvert_exporter": "python",
   "pygments_lexer": "ipython3",
   "version": "3.10.7"
  },
  "orig_nbformat": 4,
  "vscode": {
   "interpreter": {
    "hash": "f09ff2775d7407c2cf5d3467f8a20afd6c3e47667e08536d937bcbe3f94dac6a"
   }
  }
 },
 "nbformat": 4,
 "nbformat_minor": 2
}
