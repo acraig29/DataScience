{
 "cells": [
  {
   "cell_type": "markdown",
   "metadata": {},
   "source": [
    "* This is Part 3 of 4 Code files for Week 2 Titanic Modelling assignment\n",
    "### Random Forrest model for Titanic Dataset using feature engineered dataset"
   ]
  },
  {
   "cell_type": "code",
   "execution_count": 58,
   "metadata": {},
   "outputs": [],
   "source": [
    "import pandas as pd\n",
    "import os\n",
    "import numpy as np"
   ]
  },
  {
   "cell_type": "code",
   "execution_count": 69,
   "metadata": {},
   "outputs": [
    {
     "data": {
      "text/plain": [
       "Index(['index', 'PassengerId', 'Survived', 'Pclass', 'Name', 'Sex', 'Age',\n",
       "       'SibSp', 'Parch', 'Ticket', 'Fare', 'Cabin', 'Embarked', 'C1', 'Age_i',\n",
       "       'Age_Cat', 'Child', 'Elderly', 'Middle_Aged', 'Teenager',\n",
       "       'Young_Adults', 'Age_Cat_i', 'Title', 'Master', 'Miss', 'Mr', 'Mrs',\n",
       "       'RareTitle', 'Title_Cat', 'Fare_Cat', 'Fare_Cat_i', 'Fare_btw_10_25',\n",
       "       'Fare_lt10', 'Fare_mt100', 'Fare_mt25_50', 'Fare_mt50_100', 'Deck',\n",
       "       'Deck_A', 'Deck_B', 'Deck_C', 'Deck_D', 'Deck_E', 'Deck_F', 'Deck_G',\n",
       "       'U'],\n",
       "      dtype='object')"
      ]
     },
     "execution_count": 69,
     "metadata": {},
     "output_type": "execute_result"
    }
   ],
   "source": [
    "#Import the cleaned datframe df from the first Project Jupyter file\n",
    "##Select columns for final model dataset for the Random Forest model\n",
    "\n",
    "###Note ## Note## \"Achtung\"###### \n",
    "####Note, you might need to run the last cell  at the end of 'Wk2_Proj_acraig.ipynb notebook file before \n",
    "##running this cell\n",
    "\n",
    "%store -r df\n",
    "df = df\n",
    "df_mod_rf = df\n",
    "df_mod_rf.columns\n",
    "\n"
   ]
  },
  {
   "cell_type": "code",
   "execution_count": 70,
   "metadata": {},
   "outputs": [],
   "source": [
    "#Select only relevant columns for the Random Forrest Model:\n",
    "df_mod_rf.drop(['PassengerId', 'Name','Age', 'Age_Cat', 'Ticket', 'Fare', 'Cabin', 'C1', 'Age_i','Title', 'Fare_Cat','Child', 'Elderly', 'Middle_Aged', 'Teenager','Young_Adults', 'Title', 'Master', 'Miss', 'Mr', 'Mrs', 'RareTitle','Fare_Cat','Fare_btw_10_25', 'Fare_lt10','Fare_mt100', 'Fare_mt25_50', 'Fare_mt50_100', 'Deck_A','Deck_B', 'Deck_C', 'Deck_D', 'Deck_E', 'Deck_F', 'Deck_G', 'U' ], axis=1, inplace=True)\n"
   ]
  },
  {
   "cell_type": "code",
   "execution_count": 84,
   "metadata": {},
   "outputs": [
    {
     "data": {
      "text/plain": [
       "index         int64\n",
       "Survived      int64\n",
       "Pclass        int64\n",
       "Sex           int64\n",
       "SibSp         int64\n",
       "Parch         int64\n",
       "Embarked      int64\n",
       "Age_Cat_i     int64\n",
       "Title_Cat     int32\n",
       "Fare_Cat_i    int32\n",
       "Deck          int32\n",
       "dtype: object"
      ]
     },
     "metadata": {},
     "output_type": "display_data"
    }
   ],
   "source": [
    "df_mod_rf.columns\n",
    "df_mod_rf['Deck'] =df_mod_rf['Deck'].astype(int)\n",
    "\n",
    "  \n",
    "# displaying the datatypes\n",
    "display(df.dtypes)"
   ]
  },
  {
   "cell_type": "code",
   "execution_count": null,
   "metadata": {},
   "outputs": [],
   "source": [
    "###Implement a Random Forrest Model usin SKlearn"
   ]
  },
  {
   "cell_type": "code",
   "execution_count": 97,
   "metadata": {},
   "outputs": [
    {
     "data": {
      "text/plain": [
       "((15, 9), (15,))"
      ]
     },
     "execution_count": 97,
     "metadata": {},
     "output_type": "execute_result"
    }
   ],
   "source": [
    "import pandas as pd\n",
    "import numpy as np\n",
    "import seaborn as sns\n",
    "import matplotlib.pyplot as plt\n",
    "from sklearn.model_selection import train_test_split\n",
    "\n",
    "\n",
    "X = df_mod_rf[['Pclass', 'Sex', 'SibSp', 'Parch', 'Embarked', 'Title_Cat',\n",
    "       'Fare_Cat_i', 'Deck', 'Age_Cat_i']]\n",
    "y = df_mod_rf[\"Survived\"]\n",
    "\n",
    "X_train_rf, X_test_rf, y_train_rf, y_test_rf = train_test_split(X,y, test_size = 0.02, random_state =2129)\n",
    "X_train_rf.shape, y_train_rf.shape,\n",
    "X_test_rf.shape, y_test_rf.shape"
   ]
  },
  {
   "cell_type": "code",
   "execution_count": 110,
   "metadata": {},
   "outputs": [
    {
     "data": {
      "text/plain": [
       "RandomForestClassifier(class_weight='balanced', criterion='entropy',\n",
       "                       max_depth=7, n_estimators=15)"
      ]
     },
     "execution_count": 110,
     "metadata": {},
     "output_type": "execute_result"
    }
   ],
   "source": [
    "from sklearn.ensemble import RandomForestClassifier\n",
    "import pandas as pd\n",
    "import numpy as np\n",
    "import seaborn as sns\n",
    "import matplotlib.pyplot as plt\n",
    "from sklearn.model_selection import train_test_split\n",
    "from sklearn.dummy import DummyClassifier\n",
    "\n",
    "\n",
    "rf_mod = RandomForestClassifier(n_estimators=15, max_depth=7, class_weight='balanced', bootstrap=True,  criterion='entropy',)\n",
    "rf_mod.fit(X_train_rf,y_train_rf)"
   ]
  },
  {
   "cell_type": "code",
   "execution_count": 111,
   "metadata": {},
   "outputs": [
    {
     "name": "stdout",
     "output_type": "stream",
     "text": [
      "<class 'pandas.core.frame.DataFrame'>\n",
      "RangeIndex: 713 entries, 0 to 712\n",
      "Data columns (total 11 columns):\n",
      " #   Column      Non-Null Count  Dtype\n",
      "---  ------      --------------  -----\n",
      " 0   index       713 non-null    int64\n",
      " 1   Survived    713 non-null    int64\n",
      " 2   Pclass      713 non-null    int64\n",
      " 3   Sex         713 non-null    int64\n",
      " 4   SibSp       713 non-null    int64\n",
      " 5   Parch       713 non-null    int64\n",
      " 6   Embarked    713 non-null    int64\n",
      " 7   Age_Cat_i   713 non-null    int64\n",
      " 8   Title_Cat   713 non-null    int32\n",
      " 9   Fare_Cat_i  713 non-null    int32\n",
      " 10  Deck        713 non-null    int32\n",
      "dtypes: int32(3), int64(8)\n",
      "memory usage: 53.0 KB\n"
     ]
    }
   ],
   "source": [
    "df_mod_rf.info()"
   ]
  },
  {
   "cell_type": "code",
   "execution_count": 112,
   "metadata": {},
   "outputs": [
    {
     "data": {
      "text/plain": [
       "(0.87, 0.8)"
      ]
     },
     "execution_count": 112,
     "metadata": {},
     "output_type": "execute_result"
    }
   ],
   "source": [
    "#Accuracy of Random Forrest model: Train and Test\n",
    "ypred = rf_mod.predict(X_test_rf)\n",
    "round( rf_mod.score(X_train_rf, y_train_rf) ,2) , round(rf_mod.score(X_test_rf, y_test_rf)  ,2)"
   ]
  },
  {
   "cell_type": "code",
   "execution_count": 113,
   "metadata": {},
   "outputs": [
    {
     "data": {
      "text/plain": [
       "<sklearn.metrics._plot.confusion_matrix.ConfusionMatrixDisplay at 0x179c1510>"
      ]
     },
     "execution_count": 113,
     "metadata": {},
     "output_type": "execute_result"
    },
    {
     "data": {
      "image/png": "[encoded data removed]",
      "text/plain": [
       "<Figure size 640x480 with 2 Axes>"
      ]
     },
     "metadata": {},
     "output_type": "display_data"
    }
   ],
   "source": [
    "#Confusion Matri\n",
    "from sklearn.metrics import confusion_matrix\n",
    "from sklearn.metrics import plot_confusion_matrix\n",
    "\n",
    "pd.DataFrame(\n",
    "    confusion_matrix(y_test_rf, ypred),\n",
    "    columns=['Predicted Survived', 'Predicted Died'],\n",
    "    index=['True Survived', 'True Died']\n",
    ")\n",
    "\n",
    "plot_confusion_matrix(rf_mod, X_train_rf, y_train_rf, normalize=None)"
   ]
  },
  {
   "cell_type": "code",
   "execution_count": 114,
   "metadata": {},
   "outputs": [
    {
     "name": "stdout",
     "output_type": "stream",
     "text": [
      "Scores: [0.87142857 0.84285714 0.84285714 0.78571429 0.82857143 0.82857143\n",
      " 0.82857143 0.78571429 0.76811594 0.75362319]\n",
      "Mean: 0.8136024844720497\n",
      "Standard Deviation: 0.035985801407560976\n"
     ]
    }
   ],
   "source": [
    "#Cross Validation of Random Forrest Model:\n",
    "from sklearn.model_selection import cross_val_score\n",
    "scores = cross_val_score(rf_mod, X_train_rf, y_train_rf, cv=10, scoring = \"accuracy\")\n",
    "\n",
    "print(\"Scores:\", scores)\n",
    "print(\"Mean:\", scores.mean())\n",
    "print(\"Standard Deviation:\", scores.std())"
   ]
  },
  {
   "cell_type": "code",
   "execution_count": null,
   "metadata": {},
   "outputs": [],
   "source": [
    "#Variable Importance to Probabiity of Survival or Death"
   ]
  },
  {
   "cell_type": "code",
   "execution_count": 102,
   "metadata": {},
   "outputs": [
    {
     "data": {
      "text/html": [
       "<div>\n",
       "<style scoped>\n",
       "    .dataframe tbody tr th:only-of-type {\n",
       "        vertical-align: middle;\n",
       "    }\n",
       "\n",
       "    .dataframe tbody tr th {\n",
       "        vertical-align: top;\n",
       "    }\n",
       "\n",
       "    .dataframe thead th {\n",
       "        text-align: right;\n",
       "    }\n",
       "</style>\n",
       "<table border=\"1\" class=\"dataframe\">\n",
       "  <thead>\n",
       "    <tr style=\"text-align: right;\">\n",
       "      <th></th>\n",
       "      <th>importance</th>\n",
       "    </tr>\n",
       "    <tr>\n",
       "      <th>feature</th>\n",
       "      <th></th>\n",
       "    </tr>\n",
       "  </thead>\n",
       "  <tbody>\n",
       "    <tr>\n",
       "      <th>Title_Cat</th>\n",
       "      <td>0.207</td>\n",
       "    </tr>\n",
       "    <tr>\n",
       "      <th>Sex</th>\n",
       "      <td>0.188</td>\n",
       "    </tr>\n",
       "    <tr>\n",
       "      <th>Pclass</th>\n",
       "      <td>0.122</td>\n",
       "    </tr>\n",
       "    <tr>\n",
       "      <th>Fare_Cat_i</th>\n",
       "      <td>0.107</td>\n",
       "    </tr>\n",
       "    <tr>\n",
       "      <th>Age_Cat_i</th>\n",
       "      <td>0.105</td>\n",
       "    </tr>\n",
       "    <tr>\n",
       "      <th>Deck</th>\n",
       "      <td>0.101</td>\n",
       "    </tr>\n",
       "    <tr>\n",
       "      <th>SibSp</th>\n",
       "      <td>0.081</td>\n",
       "    </tr>\n",
       "    <tr>\n",
       "      <th>Parch</th>\n",
       "      <td>0.051</td>\n",
       "    </tr>\n",
       "    <tr>\n",
       "      <th>Embarked</th>\n",
       "      <td>0.039</td>\n",
       "    </tr>\n",
       "  </tbody>\n",
       "</table>\n",
       "</div>"
      ],
      "text/plain": [
       "            importance\n",
       "feature               \n",
       "Title_Cat        0.207\n",
       "Sex              0.188\n",
       "Pclass           0.122\n",
       "Fare_Cat_i       0.107\n",
       "Age_Cat_i        0.105\n",
       "Deck             0.101\n",
       "SibSp            0.081\n",
       "Parch            0.051\n",
       "Embarked         0.039"
      ]
     },
     "execution_count": 102,
     "metadata": {},
     "output_type": "execute_result"
    }
   ],
   "source": [
    "from sklearn.ensemble import RandomForestRegressor\n",
    "from sklearn.inspection import permutation_importance\n",
    "\n",
    "importances = pd.DataFrame({'feature':X_train_rf.columns,'importance':np.round(rf_mod.feature_importances_,3)})\n",
    "importances = importances.sort_values('importance',ascending=False).set_index('feature')\n",
    "importances.head(15)"
   ]
  },
  {
   "cell_type": "code",
   "execution_count": 93,
   "metadata": {},
   "outputs": [
    {
     "data": {
      "text/plain": [
       "<AxesSubplot:xlabel='feature'>"
      ]
     },
     "execution_count": 93,
     "metadata": {},
     "output_type": "execute_result"
    },
    {
     "data": {
      "image/png": "[encoded data removed]",
      "text/plain": [
       "<Figure size 640x480 with 1 Axes>"
      ]
     },
     "metadata": {},
     "output_type": "display_data"
    }
   ],
   "source": [
    "importances.plot.bar()"
   ]
  },
  {
   "cell_type": "code",
   "execution_count": 1,
   "metadata": {},
   "outputs": [
    {
     "name": "stderr",
     "output_type": "stream",
     "text": [
      "UsageError: Unknown variable 'df_mod_rf'\n"
     ]
    }
   ],
   "source": [
    "%store  df_mod_rf\n",
    "%store rf_mod\n",
    "rf_mod"
   ]
  }
 ],
 "metadata": {
  "kernelspec": {
   "display_name": "Python 3.10.7 64-bit",
   "language": "python",
   "name": "python3"
  },
  "language_info": {
   "codemirror_mode": {
    "name": "ipython",
    "version": 3
   },
   "file_extension": ".py",
   "mimetype": "text/x-python",
   "name": "python",
   "nbconvert_exporter": "python",
   "pygments_lexer": "ipython3",
   "version": "3.10.7"
  },
  "orig_nbformat": 4,
  "vscode": {
   "interpreter": {
    "hash": "f09ff2775d7407c2cf5d3467f8a20afd6c3e47667e08536d937bcbe3f94dac6a"
   }
  }
 },
 "nbformat": 4,
 "nbformat_minor": 2
}
