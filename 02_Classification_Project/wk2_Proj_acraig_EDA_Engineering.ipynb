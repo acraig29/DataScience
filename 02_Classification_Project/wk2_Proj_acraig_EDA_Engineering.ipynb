{
 "cells": [
  {
   "cell_type": "markdown",
   "metadata": {},
   "source": [
    "* This is Part 1 of 4 Code files for Week 2 Titanic Modelling assignment\n",
    "### Week 2 Project Titanic Dataset Classifcation\n",
    "##Load the dataset and preform Data Exploration and perform Feature Engineering"
   ]
  },
  {
   "cell_type": "code",
   "execution_count": 2,
   "metadata": {},
   "outputs": [],
   "source": [
    "\n",
    "import pandas as pd\n",
    "import os\n",
    "import numpy as np\n",
    "#wd = os.getcwd()\n",
    "wd = 'C:/Users/lisbo/OneDrive/AC Career/Spiced_Academy_DS/spiced_projects/cascabel-curve-student-code/week_02/data/'\n",
    "\n",
    "df = pd.read_csv(wd + 'train.csv', index_col=0, header =0)\n"
   ]
  },
  {
   "cell_type": "markdown",
   "metadata": {},
   "source": []
  },
  {
   "cell_type": "markdown",
   "metadata": {},
   "source": [
    "Calculate the number of surviving/non-surviving passengers and display it as a bar plot."
   ]
  },
  {
   "cell_type": "code",
   "execution_count": 3,
   "metadata": {},
   "outputs": [
    {
     "data": {
      "text/plain": [
       "Index(['PassengerId', 'Survived', 'Pclass', 'Name', 'Sex', 'Age', 'SibSp',\n",
       "       'Parch', 'Ticket', 'Fare', 'Cabin', 'Embarked'],\n",
       "      dtype='object')"
      ]
     },
     "execution_count": 3,
     "metadata": {},
     "output_type": "execute_result"
    }
   ],
   "source": [
    "df = df.reset_index()\n",
    "df.columns\n"
   ]
  },
  {
   "cell_type": "code",
   "execution_count": 4,
   "metadata": {},
   "outputs": [
    {
     "name": "stdout",
     "output_type": "stream",
     "text": [
      "       PassengerId    Survived      Pclass         Age       SibSp  \\\n",
      "count   891.000000  891.000000  891.000000  714.000000  891.000000   \n",
      "mean    446.000000    0.383838    2.308642   29.699118    0.523008   \n",
      "std     257.353842    0.486592    0.836071   14.526497    1.102743   \n",
      "min       1.000000    0.000000    1.000000    0.420000    0.000000   \n",
      "25%     223.500000    0.000000    2.000000   20.125000    0.000000   \n",
      "50%     446.000000    0.000000    3.000000   28.000000    0.000000   \n",
      "75%     668.500000    1.000000    3.000000   38.000000    1.000000   \n",
      "max     891.000000    1.000000    3.000000   80.000000    8.000000   \n",
      "\n",
      "            Parch        Fare  \n",
      "count  891.000000  891.000000  \n",
      "mean     0.381594   32.204208  \n",
      "std      0.806057   49.693429  \n",
      "min      0.000000    0.000000  \n",
      "25%      0.000000    7.910400  \n",
      "50%      0.000000   14.454200  \n",
      "75%      0.000000   31.000000  \n",
      "max      6.000000  512.329200  \n",
      "\n",
      "\n",
      "PassengerId      0\n",
      "Survived         0\n",
      "Pclass           0\n",
      "Name             0\n",
      "Sex              0\n",
      "Age            177\n",
      "SibSp            0\n",
      "Parch            0\n",
      "Ticket           0\n",
      "Fare             0\n",
      "Cabin          687\n",
      "Embarked         2\n",
      "dtype: int64\n",
      "\n",
      "\n",
      "<class 'pandas.core.frame.DataFrame'>\n",
      "RangeIndex: 891 entries, 0 to 890\n",
      "Data columns (total 12 columns):\n",
      " #   Column       Non-Null Count  Dtype  \n",
      "---  ------       --------------  -----  \n",
      " 0   PassengerId  891 non-null    int64  \n",
      " 1   Survived     891 non-null    int64  \n",
      " 2   Pclass       891 non-null    int64  \n",
      " 3   Name         891 non-null    object \n",
      " 4   Sex          891 non-null    object \n",
      " 5   Age          714 non-null    float64\n",
      " 6   SibSp        891 non-null    int64  \n",
      " 7   Parch        891 non-null    int64  \n",
      " 8   Ticket       891 non-null    object \n",
      " 9   Fare         891 non-null    float64\n",
      " 10  Cabin        204 non-null    object \n",
      " 11  Embarked     889 non-null    object \n",
      "dtypes: float64(2), int64(5), object(5)\n",
      "memory usage: 66.2+ KB\n",
      "\n",
      "\n"
     ]
    }
   ],
   "source": [
    "##investigate dataset\n",
    "\n",
    "print(df.describe()   );\n",
    "print('\\n')\n",
    "print(df.isna().sum() );\n",
    "print('\\n')\n",
    "df.info()\n",
    "print('\\n')\n"
   ]
  },
  {
   "cell_type": "code",
   "execution_count": 5,
   "metadata": {},
   "outputs": [
    {
     "name": "stdout",
     "output_type": "stream",
     "text": [
      "0    549\n",
      "1    342\n",
      "Name: Survived, dtype: int64\n",
      "\n",
      "\n",
      "3    491\n",
      "1    216\n",
      "2    184\n",
      "Name: Pclass, dtype: int64\n",
      "\n",
      "\n",
      "male      577\n",
      "female    314\n",
      "Name: Sex, dtype: int64\n",
      "\n",
      "\n",
      "[nan 'C85' 'C123' 'E46' 'G6' 'C103' 'D56' 'A6' 'C23 C25 C27' 'B78' 'D33'\n",
      " 'B30' 'C52' 'B28' 'C83' 'F33' 'F G73' 'E31' 'A5' 'D10 D12' 'D26' 'C110'\n",
      " 'B58 B60' 'E101' 'F E69' 'D47' 'B86' 'F2' 'C2' 'E33' 'B19' 'A7' 'C49'\n",
      " 'F4' 'A32' 'B4' 'B80' 'A31' 'D36' 'D15' 'C93' 'C78' 'D35' 'C87' 'B77'\n",
      " 'E67' 'B94' 'C125' 'C99' 'C118' 'D7' 'A19' 'B49' 'D' 'C22 C26' 'C106'\n",
      " 'C65' 'E36' 'C54' 'B57 B59 B63 B66' 'C7' 'E34' 'C32' 'B18' 'C124' 'C91'\n",
      " 'E40' 'T' 'C128' 'D37' 'B35' 'E50' 'C82' 'B96 B98' 'E10' 'E44' 'A34'\n",
      " 'C104' 'C111' 'C92' 'E38' 'D21' 'E12' 'E63' 'A14' 'B37' 'C30' 'D20' 'B79'\n",
      " 'E25' 'D46' 'B73' 'C95' 'B38' 'B39' 'B22' 'C86' 'C70' 'A16' 'C101' 'C68'\n",
      " 'A10' 'E68' 'B41' 'A20' 'D19' 'D50' 'D9' 'A23' 'B50' 'A26' 'D48' 'E58'\n",
      " 'C126' 'B71' 'B51 B53 B55' 'D49' 'B5' 'B20' 'F G63' 'C62 C64' 'E24' 'C90'\n",
      " 'C45' 'E8' 'B101' 'D45' 'C46' 'D30' 'E121' 'D11' 'E77' 'F38' 'B3' 'D6'\n",
      " 'B82 B84' 'D17' 'A36' 'B102' 'B69' 'E49' 'C47' 'D28' 'E17' 'A24' 'C50'\n",
      " 'B42' 'C148']\n",
      "\n",
      "\n",
      "B96 B98        4\n",
      "G6             4\n",
      "C23 C25 C27    4\n",
      "E101           3\n",
      "F2             3\n",
      "              ..\n",
      "E50            1\n",
      "C54            1\n",
      "D19            1\n",
      "E63            1\n",
      "D56            1\n",
      "Name: Cabin, Length: 147, dtype: int64\n",
      "\n",
      "\n",
      "S    644\n",
      "C    168\n",
      "Q     77\n",
      "Name: Embarked, dtype: int64\n"
     ]
    }
   ],
   "source": [
    "##investigte dataset\n",
    "print(df['Survived'].value_counts())\n",
    "print('\\n')\n",
    "print(df['Pclass'].value_counts())\n",
    "print('\\n')\n",
    "print(df['Sex'].value_counts())\n",
    "print('\\n')\n",
    "print(df['Cabin'].unique())\n",
    "print('\\n')\n",
    "print(df['Cabin'].value_counts())\n",
    "print('\\n')\n",
    "print(df['Embarked'].value_counts())\n",
    "\n",
    "\n"
   ]
  },
  {
   "cell_type": "code",
   "execution_count": 6,
   "metadata": {},
   "outputs": [
    {
     "name": "stdout",
     "output_type": "stream",
     "text": [
      "Data type of each column of Dataframe :\n",
      "PassengerId    float64\n",
      "Survived       float64\n",
      "Pclass         float64\n",
      "Name            object\n",
      "Sex             object\n",
      "Age            float64\n",
      "SibSp          float64\n",
      "Parch          float64\n",
      "Ticket          object\n",
      "Fare           float64\n",
      "Cabin           object\n",
      "Embarked        object\n",
      "dtype: object\n"
     ]
    }
   ],
   "source": [
    "\n",
    "empDfObj = pd.DataFrame(df,df.columns)\n",
    "dataTypeSeries = empDfObj.dtypes\n",
    "\n",
    "print('Data type of each column of Dataframe :')\n",
    "print(dataTypeSeries)"
   ]
  },
  {
   "cell_type": "markdown",
   "metadata": {},
   "source": [
    "Impute new values for Age"
   ]
  },
  {
   "cell_type": "code",
   "execution_count": 7,
   "metadata": {},
   "outputs": [
    {
     "data": {
      "text/plain": [
       "Sex     Pclass\n",
       "female  1         34.611765\n",
       "        2         28.722973\n",
       "        3         21.750000\n",
       "male    1         41.281386\n",
       "        2         30.740707\n",
       "        3         26.507589\n",
       "Name: Age, dtype: float64"
      ]
     },
     "execution_count": 7,
     "metadata": {},
     "output_type": "execute_result"
    }
   ],
   "source": [
    "##assess the average ages of passengers based on their Sex and Pclass\n",
    "\n",
    "df_byPclass = df.groupby(by=['Sex','Pclass'])\n",
    "df_byPclass = df.groupby(by=['Sex','Pclass'])\n",
    "df_byPclass['Age'].mean()\n",
    "#df_byPclass['Age_i'].mean() \n"
   ]
  },
  {
   "cell_type": "code",
   "execution_count": 8,
   "metadata": {},
   "outputs": [],
   "source": [
    "#Impute the average age based on the average age by 'Sex' and 'Pclass'\n",
    "df_byPclass = df.groupby(by=['Sex','Pclass'])\n",
    "df_byPclass['Age'].mean()\n",
    "\n",
    "df['C1'] = np.where(np.isnan(df['Age'].values),1,0) \n",
    "\n",
    "def new_val(df):    \n",
    "    if  (df['C1'] == 1 ) & (df['Sex'] == 'female' ) & (df['Pclass'] == 1)  :\n",
    "        return 35\n",
    "    elif (df['C1'] == 1) & (df['Sex'] == 'female')  & (df['Pclass'] == 2)  :\n",
    "        return 29\n",
    "    elif (df['C1'] == 1) & (df['Sex'] == 'female' ) & (df['Pclass'] == 3)  :\n",
    "        return 21\n",
    "    elif (df['C1'] == 1) & (df['Sex'] == 'male')  & (df['Pclass'] == 1)  :\n",
    "        return 4\n",
    "    elif (df['C1'] == 1) & (df['Sex'] == 'male')  & (df['Pclass'] == 2)   :\n",
    "        return 31   \n",
    "    elif (df['C1'] == 1) & (df['Sex'] == 'male')  & (df['Pclass'] == 3 )  :\n",
    "        return 27 \n",
    "    else:\n",
    "        return df['Age']\n",
    "\n",
    "df['Age_i'] = df.apply(new_val, axis = 1)\n"
   ]
  },
  {
   "cell_type": "code",
   "execution_count": 9,
   "metadata": {},
   "outputs": [],
   "source": [
    "###create Age categoricla variable\n",
    "df['Age_i'] = df['Age_i'].astype(int)\n",
    "\n",
    "def new_acat(df):    \n",
    "    if  (df['Age_i'] <= 12 )  :\n",
    "        return 'Child'\n",
    "    elif (df['Age_i'] > 12) & (df['Age_i'] <= 19)  :\n",
    "        return 'Teenager'\n",
    "    elif (df['Age_i'] > 19) & (df['Age_i'] <= 35 )  :\n",
    "        return 'Young_Adults'\n",
    "    elif (df['Age_i'] > 35) & (df['Age_i'] <= 60 )  :\n",
    "        return 'Middle_Aged'\n",
    "    elif (df['Age_i'] > 60)   :\n",
    "        return 'Elderly'   \n",
    "\n",
    "df['Age_Cat'] = df.apply(new_acat, axis = 1)\n",
    "\n"
   ]
  },
  {
   "cell_type": "code",
   "execution_count": 10,
   "metadata": {},
   "outputs": [],
   "source": [
    "##convert new age categories into dummy variables   \n",
    "age_dums = pd.get_dummies(df['Age_Cat'])\n",
    "df=df.join(age_dums, lsuffix=\"_left\", rsuffix=\"_right\")\n",
    "\n",
    "###\n",
    "##create numeric Age categorical variable for he Randow Forrest data\n",
    "df['Age_Cat_i'] = df['Age_Cat'].map({'Child':  0, 'Teenager':  1, 'Young_Adults': 2, 'Middle_Aged':  3, 'Elderly':  4 })\n"
   ]
  },
  {
   "cell_type": "code",
   "execution_count": 11,
   "metadata": {},
   "outputs": [
    {
     "name": "stdout",
     "output_type": "stream",
     "text": [
      "['Mr' 'Mrs' 'Miss' 'Master' 'Don' 'Rev' 'Dr' 'Mme' 'Ms' 'Major' 'Lady'\n",
      " 'Sir' 'Mlle' 'Col' 'Capt' 'Countess' 'Jonkheer']\n",
      "Mr          517\n",
      "Miss        182\n",
      "Mrs         125\n",
      "Master       40\n",
      "Dr            7\n",
      "Rev           6\n",
      "Col           2\n",
      "Mlle          2\n",
      "Major         2\n",
      "Don           1\n",
      "Countess      1\n",
      "Ms            1\n",
      "Mme           1\n",
      "Capt          1\n",
      "Sir           1\n",
      "Jonkheer      1\n",
      "Lady          1\n",
      "Name: Title, dtype: int64\n"
     ]
    }
   ],
   "source": [
    "#Extract the titles from the name field to \n",
    "import re #import the regular expresiona package\n",
    "\n",
    "def create_title(name):\n",
    "    \n",
    "    # try to find the pattern, returns None if nothing is found\n",
    "    title_search = re.search(' ([A-Za-z]+)\\.', name)\n",
    "    \n",
    "    # return the title if exists\n",
    "    if title_search:\n",
    "        return title_search.group(1)\n",
    "    \n",
    "    else:\n",
    "        return \"\"\n",
    "\n",
    "# create the new title column\n",
    "df['Title'] = df['Name'].apply(create_title)\n",
    "\n",
    "# print out all the different titles found\n",
    "print(df['Title'].unique()),\n",
    "print(df['Title'].value_counts())\n",
    "\n",
    "\n"
   ]
  },
  {
   "cell_type": "code",
   "execution_count": 12,
   "metadata": {},
   "outputs": [],
   "source": [
    "#group and rename the less frequent Titles into a 'RareTitle' categrory value:\n",
    "#Rename the followin titles:\n",
    "\n",
    "replacements = {\n",
    "   'Title': {\n",
    "    'Dr': 'RareTitle', \n",
    "    'Major': 'RareTitle', \n",
    "    'Col': 'RareTitle', \n",
    "    'Mile': 'RareTitle', \n",
    "    'Capt': 'RareTitle', \n",
    "    'Ms': 'RareTitle', \n",
    "    'Jonkheer': 'RareTitle', \n",
    "    'Don': 'RareTitle', \n",
    "    'Sir': 'RareTitle', \n",
    "    'Lady': 'RareTitle',\n",
    "    'Countess': 'RareTitle',\n",
    "    'M': 'RareTitle',\n",
    "    'Mme': 'RareTitle',\n",
    "    'Rev': 'RareTitle',\n",
    "    'Mlle': 'RareTitle'}\n",
    "}\n",
    "\n",
    "df.replace(replacements,  inplace=True)\n"
   ]
  },
  {
   "cell_type": "code",
   "execution_count": 13,
   "metadata": {},
   "outputs": [],
   "source": [
    "df['Title'].unique()\n",
    "df['Title'].value_counts()\n",
    "#convert the 'Title' column into a binary dummy set of variables for each unique categoy:\n",
    "#'Mr', 'Mrs', 'Miss', 'Master', 'RareTitle', 'Rev', 'Mlle'\n",
    "\n",
    "title_dums = pd.get_dummies(df['Title'])\n",
    "df=df.join(title_dums, lsuffix=\"_left\", rsuffix=\"_right\")"
   ]
  },
  {
   "cell_type": "code",
   "execution_count": 14,
   "metadata": {},
   "outputs": [
    {
     "data": {
      "text/plain": [
       "array(['Mr', 'Mrs', 'Miss', 'Master', 'RareTitle'], dtype=object)"
      ]
     },
     "execution_count": 14,
     "metadata": {},
     "output_type": "execute_result"
    }
   ],
   "source": [
    "df['Title'].unique()"
   ]
  },
  {
   "cell_type": "code",
   "execution_count": 15,
   "metadata": {},
   "outputs": [],
   "source": [
    "#also create a numeric Title_cat column for the Randowm Forrest Model:\n",
    "\n",
    "def title_acat(df):    \n",
    "    if  (df['Title'] == 'Mr' )  :\n",
    "        return 0\n",
    "    elif (df['Title'] == 'Mrs')   :\n",
    "        return 1\n",
    "    elif (df['Title'] == 'Miss')  :\n",
    "        return 2\n",
    "    elif (df['Title'] == 'Master')   :\n",
    "        return 3\n",
    "    elif (df['Title'] == 'RareTitle')   :\n",
    "        return 4   \n",
    "\n",
    "df['Title_Cat'] = df.apply(title_acat, axis = 1).astype(int)\n",
    "#df['Title_Cat'] = df['Title_Cat'].astype(int)"
   ]
  },
  {
   "cell_type": "markdown",
   "metadata": {},
   "source": [
    "modify the Fares variable"
   ]
  },
  {
   "cell_type": "code",
   "execution_count": 16,
   "metadata": {},
   "outputs": [
    {
     "data": {
      "image/png": "[encoded data removed]",
      "text/plain": [
       "<Figure size 700x500 with 1 Axes>"
      ]
     },
     "metadata": {},
     "output_type": "display_data"
    },
    {
     "data": {
      "text/plain": [
       "8.0500     43\n",
       "13.0000    42\n",
       "7.8958     38\n",
       "7.7500     34\n",
       "26.0000    31\n",
       "           ..\n",
       "50.4958     1\n",
       "13.8583     1\n",
       "8.4583      1\n",
       "7.7250      1\n",
       "7.5208      1\n",
       "Name: Fare, Length: 248, dtype: int64"
      ]
     },
     "execution_count": 16,
     "metadata": {},
     "output_type": "execute_result"
    }
   ],
   "source": [
    "#pd.qcut(df['Fare'], 4, labels=None, retbins=False, precision=3, duplicates='raise')\n",
    "\n",
    "# Import libraries\n",
    "import matplotlib.pyplot as plt\n",
    "fig = plt.figure(figsize =(7, 5))\n",
    "# Creating plot\n",
    "plt.boxplot(df['Fare'])\n",
    "# show plot\n",
    "plt.show()\n",
    "\n",
    "df['Fare'].value_counts()\n",
    "\n"
   ]
  },
  {
   "cell_type": "code",
   "execution_count": 17,
   "metadata": {},
   "outputs": [],
   "source": [
    "###create  new Fare categorical variable\n",
    "\n",
    "def new_fcat(df):    \n",
    "    if  (df['Fare'] < 10 )  :\n",
    "        return 'Fare_lt10'\n",
    "    elif (df['Fare'] >= 10) & (df['Fare'] <= 25)  :\n",
    "        return 'Fare_btw_10_25'\n",
    "    elif (df['Fare'] > 25) & (df['Fare'] <= 50 )  :\n",
    "        return 'Fare_mt25_50'\n",
    "    elif (df['Fare'] > 50) & (df['Fare'] <= 100 )  :\n",
    "        return 'Fare_mt50_100'\n",
    "    elif (df['Fare'] > 100)   :\n",
    "        return 'Fare_mt100'   \n",
    "\n",
    "df['Fare_Cat'] = df.apply(new_fcat, axis = 1)\n",
    "\n",
    "##make numeric 'Fare_Cat' column for Random Forrest model\n",
    "df['Fare_Cat'] = df.apply(new_fcat, axis = 1)\n"
   ]
  },
  {
   "cell_type": "code",
   "execution_count": 18,
   "metadata": {},
   "outputs": [],
   "source": [
    "\n",
    "df['Fare_Cat_i'] = df['Fare_Cat'].replace(['Fare_lt10', 'Fare_btw_10_25', 'Fare_mt25_50','Fare_mt50_100','Fare_mt100'],\n",
    "                        [0, 1,2,3,4])\n",
    "df['Fare_Cat_i'] = df['Fare_Cat_i'].astype(int)\n"
   ]
  },
  {
   "cell_type": "code",
   "execution_count": 19,
   "metadata": {},
   "outputs": [],
   "source": [
    "#create dummy variable for Fare variable\n",
    "\n",
    "df['Fare_Cat'].unique()\n",
    "df['Fare_Cat'].value_counts()\n",
    "\n",
    "fare_dums = pd.get_dummies(df['Fare_Cat'])\n",
    "df=df.join(fare_dums, lsuffix=\"_left\", rsuffix=\"_right\")"
   ]
  },
  {
   "cell_type": "code",
   "execution_count": 20,
   "metadata": {},
   "outputs": [
    {
     "name": "stdout",
     "output_type": "stream",
     "text": [
      "Remaining NaN values: 0\n"
     ]
    }
   ],
   "source": [
    "# Replace ['Embarked'] column NaN values with 'S' the most common value\n",
    "df['Embarked'] = df['Embarked'].fillna('S')\n",
    "# check if all values have been replaced\n",
    "print(\"Remaining NaN values: {}\".format(df['Embarked'].isnull().sum()))"
   ]
  },
  {
   "cell_type": "code",
   "execution_count": 21,
   "metadata": {},
   "outputs": [],
   "source": [
    "# convert 'Sex' and 'Embarked' into numeric variables for the model\n",
    "# female equals 0 and male equals 1 in the sex column\n",
    "df['Sex'] =  df['Sex'].map({'female': 0, 'male': 1})\n",
    "\n",
    "# C = 0, Q = 1, S = 2 in the embarked column\n",
    "df['Embarked'] = df['Embarked'].map({'C':  0, 'Q':  1, 'S': 2})"
   ]
  },
  {
   "cell_type": "markdown",
   "metadata": {},
   "source": [
    "Create a 'Deck' variable from the Cabin variable"
   ]
  },
  {
   "cell_type": "code",
   "execution_count": 22,
   "metadata": {},
   "outputs": [],
   "source": [
    "#df.drop([ 'Deck'], axis=1, inplace=True) "
   ]
  },
  {
   "cell_type": "code",
   "execution_count": 23,
   "metadata": {},
   "outputs": [],
   "source": [
    "import re #regex library for character search\n",
    "\n",
    "deck = {\"A\": \"Deck_A\", \"B\": \"Deck_B\", \"C\": \"Deck_C\", \"D\": \"Deck_D\", \"E\": \"Deck_E\", \"F\": \"Deck_F\", \"G\": \"Deck_G\", \"U\": \"U\"}\n",
    "\n",
    "df['Cabin'] = df['Cabin'].fillna(\"U0\")\n",
    "df['Deck'] = df['Cabin'].map(lambda x: re.compile(\"([a-zA-Z]+)\").search(x).group())\n",
    "df['Deck'] = df['Deck'].map(deck)\n",
    "df['Deck'] = df['Deck'].fillna(0) ##replace all the missing values with a 0\n",
    "df['Deck'] = df['Deck'].astype(str)\n"
   ]
  },
  {
   "cell_type": "code",
   "execution_count": 24,
   "metadata": {},
   "outputs": [],
   "source": [
    "##create 'Deck' dummies variable for the Logistic regression model\n",
    "Deck_dums = pd.get_dummies(df['Deck'])\n",
    "df=df.join(Deck_dums, lsuffix=\"_left\", rsuffix=\"_right\")\n",
    "\n",
    "##create numeric categorical variable for he Randow Forrest data\n",
    "df['Deck'] = df['Deck'].map({'Deck_A':  0, 'Deck_B':  1, 'Deck_C': 2, 'Deck_D':  3, 'Deck_E':  4, 'Deck_F': 5,  'Deck_G':  6, 'U':  7    })\n"
   ]
  },
  {
   "cell_type": "code",
   "execution_count": 25,
   "metadata": {},
   "outputs": [],
   "source": [
    "import seaborn as sns\n",
    "import matplotlib.pyplot as plt\n",
    "from calendar import c\n",
    "import plotly.express as go\n",
    "import numpy as np\n",
    "import plotly.express as px\n"
   ]
  },
  {
   "cell_type": "markdown",
   "metadata": {},
   "source": [
    "Calculate the number of surviving/non-surviving passengers and display it as a bar plot."
   ]
  },
  {
   "cell_type": "code",
   "execution_count": 26,
   "metadata": {},
   "outputs": [
    {
     "data": {
      "text/plain": [
       "<AxesSubplot:ylabel='Survived'>"
      ]
     },
     "execution_count": 26,
     "metadata": {},
     "output_type": "execute_result"
    },
    {
     "data": {
      "image/png": "[encoded data removed]",
      "text/plain": [
       "<Figure size 640x480 with 1 Axes>"
      ]
     },
     "metadata": {},
     "output_type": "display_data"
    }
   ],
   "source": [
    "#create groupby plot \n",
    "df.groupby(['Survived'])['Survived'].count().plot(kind='barh',x='Passengers')\n"
   ]
  },
  {
   "cell_type": "markdown",
   "metadata": {},
   "source": [
    "Calculate the proportion of surviving 1st class passengers with regards to the total number of 1st class passengers"
   ]
  },
  {
   "cell_type": "code",
   "execution_count": 27,
   "metadata": {},
   "outputs": [
    {
     "data": {
      "text/plain": [
       "<AxesSubplot:ylabel='Survived'>"
      ]
     },
     "execution_count": 27,
     "metadata": {},
     "output_type": "execute_result"
    },
    {
     "data": {
      "image/png": "[encoded data removed]",
      "text/plain": [
       "<Figure size 640x480 with 1 Axes>"
      ]
     },
     "metadata": {},
     "output_type": "display_data"
    }
   ],
   "source": [
    "from itertools import count\n",
    "from tkinter.tix import COLUMN\n",
    "\n",
    "\n",
    "surv_p =  df[['Survived', 'Pclass']]\n",
    "surv_p = surv_p[surv_p[\"Pclass\"] == 1]\n",
    "surv_p = surv_p.reset_index()\n",
    "\n",
    "\n",
    "surv_p.drop(['Pclass'], axis=1, inplace=True)\n",
    "surv_p = surv_p.rename(columns = {'index':'Counts'})\n",
    "\n",
    "prop = surv_p.groupby(by=['Survived'])\n",
    "prop  = prop.count()\n",
    "\n",
    "(prop['Counts'] / prop['Counts'].sum()) * 100,\n",
    "((prop['Counts'] / prop['Counts'].sum()) * 100).plot(kind='barh',x='Passengers')\n"
   ]
  },
  {
   "cell_type": "markdown",
   "metadata": {},
   "source": [
    "Create a bar plot with separate bars for male/female passengers and 1st/2nd/3rd class passengers"
   ]
  },
  {
   "cell_type": "code",
   "execution_count": 28,
   "metadata": {},
   "outputs": [
    {
     "data": {
      "text/plain": [
       "<AxesSubplot:xlabel='Pclass'>"
      ]
     },
     "execution_count": 28,
     "metadata": {},
     "output_type": "execute_result"
    },
    {
     "data": {
      "image/png": "[encoded data removed]",
      "text/plain": [
       "<Figure size 1500x700 with 1 Axes>"
      ]
     },
     "metadata": {},
     "output_type": "display_data"
    }
   ],
   "source": [
    "\n",
    "fig, ax = plt.subplots(figsize=(15,7))\n",
    "df.groupby(['Pclass','Sex']).count()['Survived'].unstack().plot(ax=ax,kind=\"bar\")\n",
    "\n",
    "#plot(ax=ax,kind=\"bar\")"
   ]
  },
  {
   "cell_type": "markdown",
   "metadata": {},
   "source": [
    "Create a histogram showing the age distribution of passengers. Compare surviving/non-surviving passengers"
   ]
  },
  {
   "cell_type": "code",
   "execution_count": 29,
   "metadata": {},
   "outputs": [],
   "source": [
    "# calculate the survival rates and counts for the different age groups\n",
    "age_surv = df[['Age_Cat', 'Survived']].groupby('Age_Cat').agg(['mean', 'count', 'sum'])\n",
    "# reindex to get the correct order in the calculated data frame\n",
    "age_surv = age_surv.reindex()\n",
    "\n",
    "# change the column headers\n",
    "age_surv.columns = age_surv.columns.droplevel() # remove multilevel index\n",
    "age_surv.columns = ['Survival rate', 'Total', 'Survived']\n",
    "\n",
    "# create a new column containing the number of passengers that died\n",
    "age_surv['Died'] = age_surv['Total'] - age_surv['Survived']\n",
    "\n",
    "age_surv = age_surv.reset_index() \n",
    "\n",
    "\n",
    "\n",
    "\n"
   ]
  },
  {
   "cell_type": "code",
   "execution_count": 30,
   "metadata": {},
   "outputs": [],
   "source": [
    "#create sort column for age_surv dataframe\n",
    "\n",
    "def new_acatn(age_surv):    \n",
    "    if  (age_surv['Age_Cat'] == 'Child' )  :\n",
    "        return 0\n",
    "    elif (age_surv['Age_Cat'] == 'Teenager' )  :\n",
    "        return 1\n",
    "    elif (age_surv['Age_Cat'] == 'Young_Adults' )  :\n",
    "        return 2\n",
    "    elif (age_surv['Age_Cat'] == 'Middle_Aged' )  :\n",
    "        return 3\n",
    "    elif (age_surv['Age_Cat'] == 'Elderly' )  :\n",
    "        return 4   \n",
    "\n",
    "#age_surv['Age_Cats_n'] = age_surv.apply(new_acatn, axis = 1)\n",
    "age_surv['Age_Cats_n'] = age_surv.apply(new_acatn, axis = 1)\n",
    "age_surv.sort_values('Age_Cats_n', inplace= True)\n"
   ]
  },
  {
   "cell_type": "code",
   "execution_count": 31,
   "metadata": {},
   "outputs": [
    {
     "data": {
      "image/png": "[encoded data removed]",
      "text/plain": [
       "<Figure size 640x480 with 1 Axes>"
      ]
     },
     "metadata": {},
     "output_type": "display_data"
    }
   ],
   "source": [
    "ind = np.arange(len( age_surv))\n",
    "width = 0.4\n",
    "\n",
    "# bar plot\n",
    "fig, ax = plt.subplots()\n",
    "survived = age_surv['Survived'].values\n",
    "bar1 = ax.bar(ind, survived, width=width, color='blue', label='Survived')\n",
    "died = age_surv['Died'].values\n",
    "bar2 = ax.bar(ind + width, died, width=width, color='cyan', \n",
    "              label='Died')\n",
    "\n",
    "# format plot\n",
    "ax.set(xlabel='Age', xticks=(ind + width), xticklabels=age_surv['Age_Cat'].values, ylabel='Number of passengers', \n",
    "       title='Survival by Age Group')\n",
    "plt.legend()\n",
    "plt.show()\n"
   ]
  },
  {
   "cell_type": "markdown",
   "metadata": {},
   "source": [
    "Calculate the average age for survived and drowned passengers separately.\n"
   ]
  },
  {
   "cell_type": "code",
   "execution_count": 32,
   "metadata": {},
   "outputs": [
    {
     "data": {
      "text/html": [
       "<div>\n",
       "<style scoped>\n",
       "    .dataframe tbody tr th:only-of-type {\n",
       "        vertical-align: middle;\n",
       "    }\n",
       "\n",
       "    .dataframe tbody tr th {\n",
       "        vertical-align: top;\n",
       "    }\n",
       "\n",
       "    .dataframe thead tr th {\n",
       "        text-align: left;\n",
       "    }\n",
       "\n",
       "    .dataframe thead tr:last-of-type th {\n",
       "        text-align: right;\n",
       "    }\n",
       "</style>\n",
       "<table border=\"1\" class=\"dataframe\">\n",
       "  <thead>\n",
       "    <tr>\n",
       "      <th></th>\n",
       "      <th colspan=\"3\" halign=\"left\">Age_i</th>\n",
       "    </tr>\n",
       "    <tr>\n",
       "      <th></th>\n",
       "      <th>mean</th>\n",
       "      <th>count</th>\n",
       "      <th>sum</th>\n",
       "    </tr>\n",
       "    <tr>\n",
       "      <th>Survived</th>\n",
       "      <th></th>\n",
       "      <th></th>\n",
       "      <th></th>\n",
       "    </tr>\n",
       "  </thead>\n",
       "  <tbody>\n",
       "    <tr>\n",
       "      <th>0</th>\n",
       "      <td>28.979964</td>\n",
       "      <td>549</td>\n",
       "      <td>15910</td>\n",
       "    </tr>\n",
       "    <tr>\n",
       "      <th>1</th>\n",
       "      <td>27.593567</td>\n",
       "      <td>342</td>\n",
       "      <td>9437</td>\n",
       "    </tr>\n",
       "  </tbody>\n",
       "</table>\n",
       "</div>"
      ],
      "text/plain": [
       "              Age_i             \n",
       "               mean count    sum\n",
       "Survived                        \n",
       "0         28.979964   549  15910\n",
       "1         27.593567   342   9437"
      ]
     },
     "execution_count": 32,
     "metadata": {},
     "output_type": "execute_result"
    }
   ],
   "source": [
    "df[[ 'Survived','Age_i']].groupby('Survived').agg(['mean', 'count', 'sum'])"
   ]
  },
  {
   "cell_type": "markdown",
   "metadata": {},
   "source": [
    "Create a table counting the number of surviving/dead passengers separately for 1st/2nd/3rd class and male/female."
   ]
  },
  {
   "cell_type": "code",
   "execution_count": 33,
   "metadata": {},
   "outputs": [
    {
     "data": {
      "text/plain": [
       "Pclass  Sex\n",
       "1       0       94\n",
       "        1      122\n",
       "2       0       76\n",
       "        1      108\n",
       "3       0      144\n",
       "        1      347\n",
       "Name: Survived, dtype: int64"
      ]
     },
     "execution_count": 33,
     "metadata": {},
     "output_type": "execute_result"
    }
   ],
   "source": [
    "df.groupby(['Pclass','Sex']).count()['Survived']\n"
   ]
  },
  {
   "cell_type": "code",
   "execution_count": 36,
   "metadata": {},
   "outputs": [
    {
     "name": "stdout",
     "output_type": "stream",
     "text": [
      "Stored 'df' (DataFrame)\n"
     ]
    }
   ],
   "source": [
    "#Save the  df dataframe so that it can be used in the Logistic Regression model\n",
    "\n",
    "#df.drop([df.index[339]], inplace = True)\n",
    "#df.drop(['0'], axis=1, inplace=True)\n",
    "\n",
    "if '0' in df.columns:\n",
    "    df.drop(['0'], axis=1, inplace=True)\n",
    "\n",
    "df = df.dropna()\n",
    "df = df.reset_index()\n",
    "\n",
    "#if 'level_0' in df.columns:\n",
    "    #df.drop(['level_0'], axis=1, inplace=True)\n",
    "\n",
    "\n",
    "\n",
    "%store df"
   ]
  },
  {
   "cell_type": "code",
   "execution_count": 35,
   "metadata": {},
   "outputs": [],
   "source": [
    "#df.drop(['level_0'], axis=1, inplace=True)"
   ]
  }
 ],
 "metadata": {
  "kernelspec": {
   "display_name": "Python 3.10.7 64-bit",
   "language": "python",
   "name": "python3"
  },
  "language_info": {
   "codemirror_mode": {
    "name": "ipython",
    "version": 3
   },
   "file_extension": ".py",
   "mimetype": "text/x-python",
   "name": "python",
   "nbconvert_exporter": "python",
   "pygments_lexer": "ipython3",
   "version": "3.10.7"
  },
  "orig_nbformat": 4,
  "vscode": {
   "interpreter": {
    "hash": "f09ff2775d7407c2cf5d3467f8a20afd6c3e47667e08536d937bcbe3f94dac6a"
   }
  }
 },
 "nbformat": 4,
 "nbformat_minor": 2
}
