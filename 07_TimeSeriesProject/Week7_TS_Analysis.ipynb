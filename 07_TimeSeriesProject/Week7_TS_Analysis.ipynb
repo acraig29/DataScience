{
 "cells": [
  {
   "cell_type": "code",
   "execution_count": null,
   "metadata": {},
   "outputs": [],
   "source": [
    "import pandas as pd\n",
    "import numpy as np\n",
    "import matplotlib.pylab as plt\n",
    "#%matplotlib inline\n",
    "from datetime import date, datetime\n",
    "import os\n",
    "import seaborn as sns\n",
    " \n",
    "from sklearn.linear_model import LinearRegression\n",
    "\n",
    "# Set figure size to (14,6)\n",
    "plt.rcParams['figure.figsize'] = (14,6)\n",
    "# Set some easthetic\n",
    "sns.set()\n"
   ]
  },
  {
   "cell_type": "code",
   "execution_count": null,
   "metadata": {},
   "outputs": [],
   "source": [
    "wd = 'Hamburg/'\n",
    "#df = pd.read_csv(wd + 'hamb_temp.txt', index_col=0, header =0)\n",
    "df = pd.read_csv(wd + 'hamb_temp.txt', index_col = 0, \n",
    "                      parse_dates = True,sep=\",\")\n",
    "df['Date_dt'] = df['DATE']\n",
    "df.set_index('DATE', inplace=True)\n",
    "#df['Date_dt'] = str(df['DATE'])"
   ]
  },
  {
   "cell_type": "code",
   "execution_count": null,
   "metadata": {},
   "outputs": [],
   "source": [
    "df.head()"
   ]
  },
  {
   "cell_type": "code",
   "execution_count": null,
   "metadata": {},
   "outputs": [],
   "source": [
    "def plot_flights(df, title='Monthly Passenger Numbers in 1000 over Time', ylim=True):\n",
    "    '''\n",
    "    Custom plotting function for plotting the flights dataset\n",
    "    \n",
    "    Parameters\n",
    "    ----------\n",
    "    df : pd.DataFrame\n",
    "        The data to plot.\n",
    "    title : str\n",
    "        The title of the plot\n",
    "    ylim : bool\n",
    "        Whether to fix the minimum value of y; defalut is True\n",
    "    \n",
    "    Returns\n",
    "    -------\n",
    "    Plots the data\n",
    "    '''\n",
    "    df.plot()\n",
    "    plt.title(title)\n",
    "    plt.ylabel('# Temperature C')\n",
    "    if ylim:\n",
    "        plt.ylim(ymin=0)\n",
    "    plt.show()"
   ]
  },
  {
   "cell_type": "code",
   "execution_count": null,
   "metadata": {},
   "outputs": [],
   "source": [
    "plot_flights(df=df)"
   ]
  },
  {
   "cell_type": "code",
   "execution_count": null,
   "metadata": {},
   "outputs": [],
   "source": [
    "df['Date_dt'] = pd.to_datetime(df['Date_dt'], format='%Y%m%d')\n"
   ]
  },
  {
   "cell_type": "code",
   "execution_count": null,
   "metadata": {},
   "outputs": [],
   "source": [
    "df.dtypes\n"
   ]
  },
  {
   "cell_type": "code",
   "execution_count": null,
   "metadata": {},
   "outputs": [],
   "source": [
    "df.drop(df.columns[[1]], axis=1, inplace=True)"
   ]
  },
  {
   "cell_type": "code",
   "execution_count": null,
   "metadata": {},
   "outputs": [],
   "source": [
    "#df['TG'] = df['TG'] / 10\n",
    "df.rename(columns = {'TG' : 'Avg_temp'}, inplace = True)\n",
    "df['Avg_temp'] = df['Avg_temp'] / 10\n"
   ]
  },
  {
   "cell_type": "code",
   "execution_count": null,
   "metadata": {},
   "outputs": [],
   "source": [
    "ts = df['Avg_temp']\n",
    "ts.head(10)"
   ]
  },
  {
   "cell_type": "code",
   "execution_count": null,
   "metadata": {},
   "outputs": [],
   "source": [
    "plt.plot(ts)"
   ]
  },
  {
   "cell_type": "code",
   "execution_count": null,
   "metadata": {},
   "outputs": [],
   "source": [
    "ts.hist(bins=200)"
   ]
  },
  {
   "cell_type": "code",
   "execution_count": null,
   "metadata": {},
   "outputs": [],
   "source": [
    "from statsmodels.tsa.stattools import adfuller\n",
    "\n",
    "def test_stationarity(timeseries):\n",
    "    \n",
    "    #Determing rolling statistics\n",
    "    rolmean = pd.rolling_mean(timeseries, window=30)\n",
    "    rolstd = pd.rolling_std(timeseries, window=30)\n",
    "#Plot rolling statistics:\n",
    "    plt.plot(timeseries, color='blue',label='Original')\n",
    "    plt.plot(rolmean, color='red', label='Rolling Mean')\n",
    "    plt.plot(rolstd, color='black', label = 'Rolling Std')\n",
    "    plt.legend(loc='best')\n",
    "    plt.title('Rolling Mean & Standard Deviation')\n",
    "    plt.show()\n",
    "    #Perform Dickey-Fuller test:\n",
    "    print('Results of Dickey-Fuller Test:')\n",
    "    dftest = adfuller(timeseries, autolag='AIC')\n",
    "    dfoutput = pd.Series(dftest[0:4], index=['Test Statistic','p-value','#Lags Used','Number of Observations Used'])\n",
    "    \n",
    "    for key,value in dftest[4].items():\n",
    "        dfoutput['Critical Value (%s)'%key] = value\n",
    "    print(dfoutput)"
   ]
  },
  {
   "cell_type": "code",
   "execution_count": null,
   "metadata": {},
   "outputs": [],
   "source": [
    "ts.plot(kind='kde')"
   ]
  },
  {
   "cell_type": "code",
   "execution_count": null,
   "metadata": {},
   "outputs": [],
   "source": [
    "df.describe()"
   ]
  },
  {
   "cell_type": "code",
   "execution_count": null,
   "metadata": {},
   "outputs": [],
   "source": [
    "df.columns"
   ]
  },
  {
   "cell_type": "code",
   "execution_count": null,
   "metadata": {},
   "outputs": [],
   "source": [
    "df.index  =df['Date_dt']"
   ]
  },
  {
   "cell_type": "code",
   "execution_count": null,
   "metadata": {},
   "outputs": [],
   "source": [
    "#create new date columns based on the 'datetime' string column\n",
    "df['Date_dt'] = pd.to_datetime(df['Date_dt'])\n",
    " \n",
    "#year\n",
    "from calendar import month_name\n",
    "\n",
    "df['year'] = df['Date_dt'].dt.year\n",
    "#Month\n",
    "df['month'] = df['Date_dt'].dt.month\n",
    "df['day_month'] = df['Date_dt'].dt.month_name()\n",
    "\n",
    "#day\n",
    "df['day'] = df['Date_dt'].dt.day\n",
    "df['day_name'] = df['Date_dt'].dt.day_name()\n"
   ]
  },
  {
   "cell_type": "code",
   "execution_count": null,
   "metadata": {},
   "outputs": [],
   "source": [
    "##Add a timestep feature\n",
    "df['timestep'] = range(len(df))"
   ]
  },
  {
   "cell_type": "code",
   "execution_count": null,
   "metadata": {},
   "outputs": [],
   "source": [
    "###make dummy variables for year\n",
    "seasonal_dummies = pd.get_dummies(df.index.year,\n",
    "                                  prefix='year',\n",
    "                                  drop_first=False).set_index(df.index)\n",
    "\n",
    "df = df.join(seasonal_dummies)"
   ]
  },
  {
   "cell_type": "code",
   "execution_count": null,
   "metadata": {},
   "outputs": [],
   "source": [
    "###make dummy variables for month\n",
    "seasonal_dummies2 = pd.get_dummies(df.index.month,\n",
    "                                  prefix='month',\n",
    "                                  drop_first=False).set_index(df.index)\n",
    "\n",
    "df = df.join(seasonal_dummies2)"
   ]
  },
  {
   "cell_type": "code",
   "execution_count": null,
   "metadata": {},
   "outputs": [],
   "source": [
    "####create a small test dataset by removing all 2022 data points\n",
    "\n",
    "#test = df.loc[df.index >= '2021-10-01 00:00:00']\n",
    "#training = df.loc[df.index < '2021-10-01 00:00:00']\n",
    "\n",
    "test = df.loc[df.index >= '2022-06-01 00:00:00']\n",
    "training = df.loc[df.index < '2022-06-01 00:00:00']\n",
    "\n"
   ]
  },
  {
   "cell_type": "code",
   "execution_count": null,
   "metadata": {},
   "outputs": [],
   "source": [
    "##make a baseline model called model m\n",
    "#######################################################################\n",
    "X = training[['timestep']]\n",
    "y = training['Avg_temp']\n",
    "\n",
    "m = LinearRegression()\n",
    "m.fit(X,y)"
   ]
  },
  {
   "cell_type": "code",
   "execution_count": null,
   "metadata": {},
   "outputs": [],
   "source": [
    "training['ts_trend'] = m.predict(X) \n",
    "training"
   ]
  },
  {
   "cell_type": "code",
   "execution_count": null,
   "metadata": {},
   "outputs": [],
   "source": [
    "plot_flights(df=training[['Avg_temp','ts_trend']])"
   ]
  },
  {
   "cell_type": "code",
   "execution_count": null,
   "metadata": {},
   "outputs": [],
   "source": [
    "##  Model the seasonality\n",
    "######generate model called model m2"
   ]
  },
  {
   "cell_type": "code",
   "execution_count": null,
   "metadata": {},
   "outputs": [],
   "source": [
    "training.columns"
   ]
  },
  {
   "cell_type": "code",
   "execution_count": null,
   "metadata": {},
   "outputs": [],
   "source": [
    "X2 = training.drop(['Avg_temp', 'month', 'year','day_month' , 'day', 'day_name','ts_trend'],axis=1) \n",
    "X2.set_index('Date_dt', inplace=True)\n",
    "y2= training['Avg_temp']\n",
    "m2 = LinearRegression()\n",
    "m2.fit(X2,y2)"
   ]
  },
  {
   "cell_type": "code",
   "execution_count": null,
   "metadata": {},
   "outputs": [],
   "source": [
    "training['trend_with_seasonal'] = m2.predict(X2)\n",
    "training.head(10)"
   ]
  },
  {
   "cell_type": "code",
   "execution_count": null,
   "metadata": {},
   "outputs": [],
   "source": [
    "plot_flights(training[['Avg_temp','trend_with_seasonal']])"
   ]
  },
  {
   "cell_type": "code",
   "execution_count": null,
   "metadata": {},
   "outputs": [],
   "source": [
    "training"
   ]
  },
  {
   "cell_type": "code",
   "execution_count": null,
   "metadata": {},
   "outputs": [],
   "source": [
    "#Build alternate m2 model by removing Year dummy value"
   ]
  },
  {
   "cell_type": "code",
   "execution_count": null,
   "metadata": {},
   "outputs": [],
   "source": [
    "\n",
    "X2_my = training[['timestep','month_1', 'month_2', 'month_3', 'month_4', 'month_5', 'month_6', 'month_7', 'month_8', 'month_9', \n",
    "'month_10', 'month_11', 'month_12']]\n",
    "#X2_my.index"
   ]
  },
  {
   "cell_type": "code",
   "execution_count": null,
   "metadata": {},
   "outputs": [],
   "source": [
    "###create revises seasonal model but remove the year dummy data\n",
    "\n",
    "X2_my = training[['timestep','month_1', 'month_2', 'month_3', 'month_4', 'month_5', 'month_6', 'month_7', 'month_8', 'month_9', \n",
    "'month_10', 'month_11', 'month_12']]\n",
    "#X2_my.set_index('Date_dt', inplace=True)\n",
    "y2_my= training['Avg_temp']\n",
    "m2_my = LinearRegression()\n",
    "m2_my.fit(X2_my,y2_my)"
   ]
  },
  {
   "cell_type": "code",
   "execution_count": null,
   "metadata": {},
   "outputs": [],
   "source": [
    "training['trend_with_seasonal'] = m2_my.predict(X2_my)\n",
    "training.head(10)"
   ]
  },
  {
   "cell_type": "code",
   "execution_count": null,
   "metadata": {},
   "outputs": [],
   "source": [
    "plot_flights(training[['Avg_temp','trend_with_seasonal']])"
   ]
  },
  {
   "cell_type": "code",
   "execution_count": null,
   "metadata": {},
   "outputs": [],
   "source": [
    "## - Extract the remainder\n",
    "########################################"
   ]
  },
  {
   "cell_type": "code",
   "execution_count": null,
   "metadata": {},
   "outputs": [],
   "source": [
    "training['remainder'] = training['Avg_temp'] - training['trend_with_seasonal']"
   ]
  },
  {
   "cell_type": "code",
   "execution_count": null,
   "metadata": {},
   "outputs": [],
   "source": [
    "plot_flights(training['remainder'],title = \"Remainder\",ylim=False)"
   ]
  },
  {
   "cell_type": "code",
   "execution_count": null,
   "metadata": {},
   "outputs": [],
   "source": [
    "######Use remainder to assess the numner of lags required for final model"
   ]
  },
  {
   "cell_type": "code",
   "execution_count": null,
   "metadata": {},
   "outputs": [],
   "source": [
    "#from pandas.io.json.normalize import nested_to_record\n",
    "training['remainder'].to_csv('flights_remainder.csv')"
   ]
  },
  {
   "cell_type": "code",
   "execution_count": null,
   "metadata": {},
   "outputs": [],
   "source": [
    "#load in remainder file\n",
    "df_rem = pd.read_csv('flights_remainder.csv')"
   ]
  },
  {
   "cell_type": "code",
   "execution_count": null,
   "metadata": {},
   "outputs": [],
   "source": [
    "\n",
    "df_rem['lag1'] = df_rem['remainder'].shift(1)"
   ]
  },
  {
   "cell_type": "code",
   "execution_count": null,
   "metadata": {},
   "outputs": [],
   "source": [
    "df_rem.corr()"
   ]
  },
  {
   "cell_type": "code",
   "execution_count": null,
   "metadata": {},
   "outputs": [],
   "source": [
    "sns.scatterplot(x='lag1', y='remainder', data=df_rem);"
   ]
  },
  {
   "cell_type": "code",
   "execution_count": null,
   "metadata": {},
   "outputs": [],
   "source": [
    "df_rem.dropna(inplace=True)\n",
    "df_rem.head()"
   ]
  },
  {
   "cell_type": "code",
   "execution_count": null,
   "metadata": {},
   "outputs": [],
   "source": [
    "df_rem['lag2'] = df_rem['remainder'].shift(2)"
   ]
  },
  {
   "cell_type": "code",
   "execution_count": null,
   "metadata": {},
   "outputs": [],
   "source": [
    "df_rem.dropna(inplace=True)\n",
    "df_rem.head()"
   ]
  },
  {
   "cell_type": "code",
   "execution_count": null,
   "metadata": {},
   "outputs": [],
   "source": [
    "sns.scatterplot(x='lag2', y='remainder', data=df_rem);"
   ]
  },
  {
   "cell_type": "code",
   "execution_count": null,
   "metadata": {},
   "outputs": [],
   "source": [
    "df_rem['lag3'] = df_rem['remainder'].shift(3)\n",
    "df_rem.dropna(inplace=True)\n",
    "df_rem.head()"
   ]
  },
  {
   "cell_type": "code",
   "execution_count": null,
   "metadata": {},
   "outputs": [],
   "source": [
    "df_rem.dropna(inplace=True)\n",
    "df_rem.head()"
   ]
  },
  {
   "cell_type": "code",
   "execution_count": null,
   "metadata": {},
   "outputs": [],
   "source": [
    "sns.scatterplot(x='lag3', y='remainder', data=df_rem);"
   ]
  },
  {
   "cell_type": "code",
   "execution_count": null,
   "metadata": {},
   "outputs": [],
   "source": [
    "####################################################\n",
    "#################################"
   ]
  },
  {
   "cell_type": "code",
   "execution_count": null,
   "metadata": {},
   "outputs": [],
   "source": [
    "\n",
    "##build model with 3 lags"
   ]
  },
  {
   "cell_type": "markdown",
   "metadata": {},
   "source": [
    "#Run an Autoregression (Linear Regression) of lag1 on the remainder"
   ]
  },
  {
   "cell_type": "code",
   "execution_count": null,
   "metadata": {},
   "outputs": [],
   "source": [
    "X_l3 = df_rem[['lag1','lag2' ,'lag3' ]]\n",
    "y_l3 = df_rem['remainder']"
   ]
  },
  {
   "cell_type": "code",
   "execution_count": null,
   "metadata": {},
   "outputs": [],
   "source": [
    "# Create and fit the model calle arm3\n",
    "arm3 = LinearRegression()\n",
    "arm3.fit(X_l3 , y_l3)\n",
    "# Create predictions\n",
    "df_rem['predictions_ar1'] = arm3.predict(X_l3)\n",
    "df_rem"
   ]
  },
  {
   "cell_type": "code",
   "execution_count": null,
   "metadata": {},
   "outputs": [],
   "source": [
    "arm3.coef_"
   ]
  },
  {
   "cell_type": "code",
   "execution_count": null,
   "metadata": {},
   "outputs": [],
   "source": [
    "df_rem.columns"
   ]
  },
  {
   "cell_type": "code",
   "execution_count": null,
   "metadata": {},
   "outputs": [],
   "source": [
    "###Assess what number of lags is needed with pacf plot\n",
    "\n",
    "#from statsmodels.graphics.tsaplots import plot_acf  \n",
    "from statsmodels.graphics.tsaplots import plot_pacf\n",
    "#import plot_pacf\n",
    "plot_pacf(df_rem['remainder'])\n",
    "plt.xlabel('lags');"
   ]
  },
  {
   "cell_type": "code",
   "execution_count": null,
   "metadata": {},
   "outputs": [],
   "source": [
    "###Build final full model with the 3lags\n",
    "##################################################################\n",
    "#########################################################################"
   ]
  },
  {
   "cell_type": "code",
   "execution_count": null,
   "metadata": {},
   "outputs": [],
   "source": [
    "##create the 3 lags in the training dataset that were explored in the previous section\n",
    "\n",
    "training['lag1'] = training['remainder'].shift(1)\n",
    "training.dropna(inplace=True)\n",
    "training['lag2'] = training['remainder'].shift(2)\n",
    "training.dropna(inplace=True)\n",
    "training['lag3'] = training['remainder'].shift(3)\n",
    "training.dropna(inplace=True)\n",
    "training.head() "
   ]
  },
  {
   "cell_type": "code",
   "execution_count": null,
   "metadata": {},
   "outputs": [],
   "source": [
    "# Assign X_full and build model\n",
    "X_full = training.drop(columns=['Avg_temp', 'month', 'year','day_month' , 'day', 'day_name'\n",
    ", 'trend_with_seasonal', 'remainder', 'ts_trend'],axis=1)\n",
    "X_full.set_index('Date_dt', inplace=True)\n",
    "y_full = training['Avg_temp']"
   ]
  },
  {
   "cell_type": "code",
   "execution_count": null,
   "metadata": {},
   "outputs": [],
   "source": [
    "###fit the final model m3\n",
    "######################################################################################\n",
    "############################################################################################\n",
    "m3 = LinearRegression()\n",
    "m3.fit(X_full,y_full)"
   ]
  },
  {
   "cell_type": "code",
   "execution_count": null,
   "metadata": {},
   "outputs": [],
   "source": [
    "training['predictions_full_model'] = m3.predict(X_full)\n",
    "training"
   ]
  },
  {
   "cell_type": "code",
   "execution_count": null,
   "metadata": {},
   "outputs": [],
   "source": [
    "#choose model with 3 lags only called model m3\n",
    "#use the training dataset since we now know that we need 3 lags of the remainder\n",
    "##recreate 3 lags and run the full model after our previous investigations "
   ]
  },
  {
   "cell_type": "code",
   "execution_count": null,
   "metadata": {},
   "outputs": [],
   "source": [
    "training.columns"
   ]
  },
  {
   "cell_type": "code",
   "execution_count": null,
   "metadata": {},
   "outputs": [],
   "source": [
    "##Some extraneous Model dataset cleanup that is redundant\n",
    "####drop the 'predictions_full_model' column for the cross validation phase\n",
    "'''X_full = X_full.drop(columns=['predictions_full_model'],axis=1)\n",
    "X_full.tail()\n",
    "X_full = X_full.drop(columns=['year_2022'],axis=1)\n",
    "X_full = X_full.loc[X_full.index >= '1937-01-01 00:00:00']\n",
    "y_full = y_full.loc[y_full.index >= '1937-01-01 00:00:00']\n",
    "'''"
   ]
  },
  {
   "cell_type": "code",
   "execution_count": null,
   "metadata": {},
   "outputs": [],
   "source": [
    "###run statsmodel ARIMA models#############\n",
    "#################################"
   ]
  },
  {
   "cell_type": "code",
   "execution_count": null,
   "metadata": {},
   "outputs": [],
   "source": [
    "from statsmodels.api import OLS, add_constant, qqplot\n",
    "from statsmodels.tsa.ar_model import AutoReg, ar_select_order\n",
    "from statsmodels.graphics.tsaplots import plot_pacf\n",
    "\n",
    "selected_order = ar_select_order(training['remainder'], maxlag = 5)"
   ]
  },
  {
   "cell_type": "code",
   "execution_count": null,
   "metadata": {},
   "outputs": [],
   "source": [
    "print(f\"The lag we need to include are {selected_order.ar_lags}\")"
   ]
  },
  {
   "cell_type": "code",
   "execution_count": null,
   "metadata": {},
   "outputs": [],
   "source": [
    "from statsmodels.tsa.ar_model import AutoReg\n",
    "\n",
    "ar_model = AutoReg(endog=training['remainder'], lags=3).fit()\n",
    "ar_model.summary()"
   ]
  },
  {
   "cell_type": "code",
   "execution_count": null,
   "metadata": {},
   "outputs": [],
   "source": [
    "ar_model3 = AutoReg(endog=training['remainder'], lags=10).fit()\n",
    "ar_model3.summary()"
   ]
  },
  {
   "cell_type": "code",
   "execution_count": null,
   "metadata": {},
   "outputs": [],
   "source": [
    "###final model chosen is model with 3 lags: either ar_model3 or m3 "
   ]
  },
  {
   "cell_type": "code",
   "execution_count": null,
   "metadata": {},
   "outputs": [],
   "source": [
    "####Evaluating Forecast###############################################################\n",
    "##########################################"
   ]
  },
  {
   "cell_type": "code",
   "execution_count": null,
   "metadata": {},
   "outputs": [],
   "source": [
    "###Model 3 comparison \n",
    "plot_flights(training[['Avg_temp',  'predictions_full_model' ,'trend_with_seasonal']])"
   ]
  },
  {
   "cell_type": "code",
   "execution_count": null,
   "metadata": {},
   "outputs": [],
   "source": [
    "##model 3 final coefficients\n",
    "m3.coef_"
   ]
  },
  {
   "cell_type": "code",
   "execution_count": null,
   "metadata": {},
   "outputs": [],
   "source": [
    "#CROSS VALIDATION OF THE FINAL m3 ARIMA MODEL\n",
    "#######################################################################"
   ]
  },
  {
   "cell_type": "code",
   "execution_count": null,
   "metadata": {},
   "outputs": [],
   "source": [
    "from sklearn.linear_model import LinearRegression\n",
    "from sklearn.model_selection import TimeSeriesSplit, cross_val_score, KFold\n",
    "from statsmodels.tsa.ar_model import AutoReg\n",
    "\n"
   ]
  },
  {
   "cell_type": "code",
   "execution_count": null,
   "metadata": {},
   "outputs": [],
   "source": [
    "plt.rcParams['figure.figsize'] = (14,6)"
   ]
  },
  {
   "cell_type": "code",
   "execution_count": null,
   "metadata": {},
   "outputs": [],
   "source": [
    "#Could not get this For loop to work and generate the correct Cross validation\n",
    "# Split the training data into folds\n",
    "#ts_split = TimeSeriesSplit(n_splits=10)\n",
    "''''for i, (train_index, validation_index) in enumerate(ts_split.split(X_full, y_full)):\n",
    "    print(f\"\"\"The training data for the {i+1}th iteration are the observations steps \n",
    "    {train_index}\"\"\")\n",
    "    print(f\"\"\"The validation data for the {i+1}th iteration are the observations steps\n",
    "    {validation_index}\"\"\")\n",
    "    print('\\n')\n",
    "    '''"
   ]
  },
  {
   "cell_type": "code",
   "execution_count": null,
   "metadata": {},
   "outputs": [],
   "source": [
    "####drop the 'predictions_full_model' column for the cross validation phase\n",
    "#X_full = X_full.drop(columns=['predictions_full_model'],axis=1)"
   ]
  },
  {
   "cell_type": "code",
   "execution_count": null,
   "metadata": {},
   "outputs": [],
   "source": [
    "# Set the Cross Validation parameters with randomisation\n",
    "#time_series_split = ts_split.split(X_full, y_full,) \n",
    "cv = KFold(n_splits=10, random_state=1, shuffle=True)"
   ]
  },
  {
   "cell_type": "code",
   "execution_count": null,
   "metadata": {},
   "outputs": [],
   "source": [
    "# Do the cross validation: Remember these are the 'test scores' in the training data.\n",
    "result = cross_val_score(estimator=m3,\n",
    "                         X=X_full, y=y_full, \n",
    "                         cv=cv)\n",
    "result"
   ]
  },
  {
   "cell_type": "code",
   "execution_count": null,
   "metadata": {},
   "outputs": [],
   "source": [
    "result.mean()"
   ]
  },
  {
   "cell_type": "code",
   "execution_count": null,
   "metadata": {},
   "outputs": [],
   "source": [
    "# Test the final aRIMA  model m3 with 3 lags###########################\n",
    "###############################################\n",
    "##########################################"
   ]
  },
  {
   "cell_type": "code",
   "execution_count": null,
   "metadata": {},
   "outputs": [],
   "source": [
    "test.head()"
   ]
  },
  {
   "cell_type": "code",
   "execution_count": null,
   "metadata": {},
   "outputs": [],
   "source": [
    "# Get last timestep of the training data\n",
    "last_train_timestep = X_full['timestep'][-1]"
   ]
  },
  {
   "cell_type": "code",
   "execution_count": null,
   "metadata": {},
   "outputs": [],
   "source": [
    "#last_train_timestep = training['timestep'][-1]"
   ]
  },
  {
   "cell_type": "code",
   "execution_count": null,
   "metadata": {},
   "outputs": [],
   "source": [
    "last_train_timestep "
   ]
  },
  {
   "cell_type": "code",
   "execution_count": null,
   "metadata": {},
   "outputs": [],
   "source": [
    "# Create a timestep for the whole test data\n",
    "test['timestep'] = list(range(last_train_timestep + 1, \n",
    "                            last_train_timestep + len(test) + 1))\n",
    "test.head()"
   ]
  },
  {
   "cell_type": "code",
   "execution_count": null,
   "metadata": {},
   "outputs": [],
   "source": [
    "#set index to Date_dt \n",
    "test.set_index('Date_dt', inplace=True)"
   ]
  },
  {
   "cell_type": "code",
   "execution_count": null,
   "metadata": {},
   "outputs": [],
   "source": [
    "test.columns"
   ]
  },
  {
   "cell_type": "code",
   "execution_count": null,
   "metadata": {},
   "outputs": [],
   "source": []
  },
  {
   "cell_type": "code",
   "execution_count": null,
   "metadata": {},
   "outputs": [],
   "source": [
    "###dummy variables for Year and Month are already in place for the test set as they got created before the original split\n",
    "####Drop Avg_temp and some other variables from test dataset:\n",
    "\n",
    "y_test = test['Avg_temp'] ##\n",
    "X_test = test.drop([ 'month', 'year','day_month' , 'day', 'day_name'],axis=1) \n"
   ]
  },
  {
   "cell_type": "markdown",
   "metadata": {},
   "source": [
    "#Predict trend and seasonality for the test using final arima model **m** (which is trend_seasonal ##model for the training).\n",
    "\n",
    "*Use model m generated using training set to predict  and add 'ts_trend' o  the test dataset\n",
    "*Use model m2 generated using training set to predict and add 'trend_with_seasonal' to the test dataset\n",
    "\n"
   ]
  },
  {
   "cell_type": "code",
   "execution_count": null,
   "metadata": {},
   "outputs": [],
   "source": [
    "#y_test[['Avg_temp']]"
   ]
  },
  {
   "cell_type": "code",
   "execution_count": null,
   "metadata": {},
   "outputs": [],
   "source": [
    "#Use model m generated using training set to predict  and add 'ts_trend' o  the test dataset\n",
    "\n",
    "X_test = test[['timestep']]\n",
    "#y_test = y_test['Avg_temp']\n",
    "\n",
    "test['ts_trend'] = m.predict(X_test) #Xtest should have same number of columns as Dataset X\n",
    "test.head()\n"
   ]
  },
  {
   "cell_type": "code",
   "execution_count": null,
   "metadata": {},
   "outputs": [],
   "source": [
    "#Use model m2 generated using training set to predict and add 'trend_with_seasonal' to the test dataset\n",
    "#m2_my.predict(X2_my) alternate model is m2_my with not year dummies\n",
    "\n",
    "X_test = test.drop([ 'Avg_temp','month', 'year','day_month' , 'day', 'day_name', 'ts_trend'],axis=1) \n",
    "#X_test should look liek X2 dataset\n",
    "test['trend_with_seasonal'] = m2.predict(X_test) \n",
    "test.head()"
   ]
  },
  {
   "cell_type": "code",
   "execution_count": null,
   "metadata": {},
   "outputs": [],
   "source": [
    "test.head(5)"
   ]
  },
  {
   "cell_type": "code",
   "execution_count": null,
   "metadata": {},
   "outputs": [],
   "source": [
    "plot_flights(test[['Avg_temp', 'trend_with_seasonal']], ylim=False)"
   ]
  },
  {
   "cell_type": "code",
   "execution_count": null,
   "metadata": {},
   "outputs": [],
   "source": [
    "X_test_my = test[['timestep','month_1', 'month_2', 'month_3', 'month_4', 'month_5', 'month_6', 'month_7', 'month_8', 'month_9', \n",
    "'month_10', 'month_11', 'month_12']]"
   ]
  },
  {
   "cell_type": "code",
   "execution_count": null,
   "metadata": {},
   "outputs": [],
   "source": [
    "\n",
    "X_test_my = test[['timestep','month_1', 'month_2', 'month_3', 'month_4', 'month_5', 'month_6', 'month_7', 'month_8', 'month_9', \n",
    "'month_10', 'month_11', 'month_12']]\n",
    "#X_test should look liek X2 dataset\n",
    "test['trend_with_seasonal'] = m2_my.predict(X_test_my) \n",
    "test.head()"
   ]
  },
  {
   "cell_type": "code",
   "execution_count": null,
   "metadata": {},
   "outputs": [],
   "source": [
    "plot_flights(test[['Avg_temp', 'trend_with_seasonal']], ylim=False)"
   ]
  },
  {
   "cell_type": "code",
   "execution_count": null,
   "metadata": {},
   "outputs": [],
   "source": [
    "##Calculate the remainder for the test set."
   ]
  },
  {
   "cell_type": "code",
   "execution_count": null,
   "metadata": {},
   "outputs": [],
   "source": [
    "test['remainder'] = test['Avg_temp'] - test['trend_with_seasonal']"
   ]
  },
  {
   "cell_type": "markdown",
   "metadata": {},
   "source": [
    "And finally the lag for the remainder as our additional feature for the AR model."
   ]
  },
  {
   "cell_type": "code",
   "execution_count": null,
   "metadata": {},
   "outputs": [],
   "source": [
    "test['lag1'] = test['remainder'].shift(1)\n",
    "training.dropna(inplace=True)\n",
    "test['lag2'] = test['remainder'].shift(2)\n",
    "training.dropna(inplace=True)\n",
    "test['lag3'] = test['remainder'].shift(3)\n",
    "training.dropna(inplace=True)"
   ]
  },
  {
   "cell_type": "code",
   "execution_count": null,
   "metadata": {},
   "outputs": [],
   "source": [
    "last_n_rows = X_full.iloc[-3:]"
   ]
  },
  {
   "cell_type": "code",
   "execution_count": null,
   "metadata": {},
   "outputs": [],
   "source": [
    "last_n_rows[['timestep','lag1','lag2','lag3']]"
   ]
  },
  {
   "cell_type": "code",
   "execution_count": null,
   "metadata": {},
   "outputs": [],
   "source": [
    "last_n_rows"
   ]
  },
  {
   "cell_type": "code",
   "execution_count": null,
   "metadata": {},
   "outputs": [],
   "source": [
    "#end of the trainin dataset, use these values to fill in the missing lag value for the test set first 3 rows\n",
    "last_n_rows.iloc[0:,100:103]  \n",
    "last_n_rows.iloc[2,100]   ##replacement value for the lag1 in the dataset\n",
    "last_n_rows.iloc[1,101]   ##replacement value for the first missing value of lag2 in the dataset\n",
    "last_n_rows.iloc[2,101]   ##replacement value for the the first missing value of  lag2 in the dataset\n",
    "last_n_rows.iloc[0,101]   ##replacement value for the the first missing value of  lag2 in the dataset\n",
    "last_n_rows.iloc[1,102]   ##replacement value for the the second missing value of  lag2 in the dataset\n",
    "last_n_rows.iloc[2,102]   ##replacement value for the the first missing value of  lag2 in the dataset"
   ]
  },
  {
   "cell_type": "code",
   "execution_count": null,
   "metadata": {},
   "outputs": [],
   "source": [
    "#fill in the lag null values in the test dataset"
   ]
  },
  {
   "cell_type": "code",
   "execution_count": null,
   "metadata": {},
   "outputs": [],
   "source": [
    "test.iloc[-3:]"
   ]
  },
  {
   "cell_type": "code",
   "execution_count": null,
   "metadata": {},
   "outputs": [],
   "source": [
    "############Replace the test set 3 lags with the last values from the training set\n",
    "test.loc['2022-06-01', 'lag1']  \n",
    "test.loc['2022-06-01', 'lag1'] = last_n_rows.iloc[2,100] ##replce lag 1 first value\n",
    "test.loc['2022-06-01', 'lag2'] = last_n_rows.iloc[0,101] ##replce lag 2 first value\n",
    "test.loc['2022-06-01', 'lag3'] = last_n_rows.iloc[0,102] ##replce lag 3 first value\n",
    "\n",
    "test.loc['2022-06-02', 'lag2'] = last_n_rows.iloc[2,102]  ##replce lag 2 second  value\n",
    "\n",
    "test.loc['2022-06-02', 'lag3'] = last_n_rows.iloc[1,102]  ##replce lag 3 second value\n",
    "test.loc['2022-06-03', 'lag3'] = last_n_rows.iloc[2,102]   ##replce lag 3 third value\n"
   ]
  },
  {
   "cell_type": "code",
   "execution_count": null,
   "metadata": {},
   "outputs": [],
   "source": [
    "#X_test = test.drop([ 'Avg_temp','month', 'year','day_month' , 'day', 'day_name', 'ts_trend'],axis=1) "
   ]
  },
  {
   "cell_type": "code",
   "execution_count": null,
   "metadata": {},
   "outputs": [],
   "source": [
    "# create the test datset for the m3 model\n",
    "#X_full_test = test.drop(columns=['predictions_full_model'],axis=1)"
   ]
  },
  {
   "cell_type": "code",
   "execution_count": null,
   "metadata": {},
   "outputs": [],
   "source": [
    "X_full_test = test.drop(['remainder', 'trend_with_seasonal', 'Avg_temp','month', 'year','day_month' , 'day', 'day_name', 'ts_trend'],axis=1) "
   ]
  },
  {
   "cell_type": "markdown",
   "metadata": {},
   "source": []
  },
  {
   "cell_type": "code",
   "execution_count": null,
   "metadata": {},
   "outputs": [],
   "source": [
    "# Create the predictions\n",
    "test['predictions_full_model'] = m3.predict(X_full_test)## X_full_test should look like X_full"
   ]
  },
  {
   "cell_type": "code",
   "execution_count": null,
   "metadata": {},
   "outputs": [],
   "source": [
    "plot_flights(test[['Avg_temp', 'trend_with_seasonal', 'predictions_full_model']], ylim=False)"
   ]
  },
  {
   "cell_type": "code",
   "execution_count": null,
   "metadata": {},
   "outputs": [],
   "source": [
    "# Create the complete dataset and plot it\n",
    "temp_full = training[['Avg_temp', 'trend_with_seasonal', 'predictions_full_model']].append(test[['Avg_temp', 'trend_with_seasonal', 'predictions_full_model']])"
   ]
  },
  {
   "cell_type": "code",
   "execution_count": null,
   "metadata": {},
   "outputs": [],
   "source": [
    "temp_full.head(-5)"
   ]
  },
  {
   "cell_type": "code",
   "execution_count": null,
   "metadata": {},
   "outputs": [],
   "source": [
    "plot_flights(temp_full)"
   ]
  },
  {
   "cell_type": "code",
   "execution_count": null,
   "metadata": {},
   "outputs": [],
   "source": [
    "X_test.head(1)"
   ]
  },
  {
   "cell_type": "code",
   "execution_count": null,
   "metadata": {},
   "outputs": [],
   "source": [
    "##calculate test score for model"
   ]
  },
  {
   "cell_type": "code",
   "execution_count": null,
   "metadata": {},
   "outputs": [],
   "source": [
    "print(f\"\"\"\n",
    "full model = {m3.score(X_full_test, test['Avg_temp'])} #X_full_test should look like X_full\n",
    "trend_seasonal = {m2.score(X_test, test['Avg_temp'])} \n",
    "\"\"\") ##X_test should look like  X2"
   ]
  },
  {
   "cell_type": "code",
   "execution_count": null,
   "metadata": {},
   "outputs": [],
   "source": [
    "# 13) - Predict the future"
   ]
  },
  {
   "cell_type": "code",
   "execution_count": null,
   "metadata": {},
   "outputs": [],
   "source": []
  },
  {
   "cell_type": "code",
   "execution_count": null,
   "metadata": {},
   "outputs": [],
   "source": []
  },
  {
   "cell_type": "code",
   "execution_count": null,
   "metadata": {},
   "outputs": [],
   "source": []
  },
  {
   "cell_type": "code",
   "execution_count": null,
   "metadata": {},
   "outputs": [],
   "source": []
  },
  {
   "cell_type": "code",
   "execution_count": null,
   "metadata": {},
   "outputs": [],
   "source": []
  },
  {
   "cell_type": "code",
   "execution_count": null,
   "metadata": {},
   "outputs": [],
   "source": []
  }
 ],
 "metadata": {
  "kernelspec": {
   "display_name": "Python 3.10.7 64-bit",
   "language": "python",
   "name": "python3"
  },
  "language_info": {
   "codemirror_mode": {
    "name": "ipython",
    "version": 3
   },
   "file_extension": ".py",
   "mimetype": "text/x-python",
   "name": "python",
   "nbconvert_exporter": "python",
   "pygments_lexer": "ipython3",
   "version": "3.10.7"
  },
  "orig_nbformat": 4,
  "vscode": {
   "interpreter": {
    "hash": "f09ff2775d7407c2cf5d3467f8a20afd6c3e47667e08536d937bcbe3f94dac6a"
   }
  }
 },
 "nbformat": 4,
 "nbformat_minor": 2
}
