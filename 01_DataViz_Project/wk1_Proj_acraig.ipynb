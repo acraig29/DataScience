{
 "cells": [
  {
   "cell_type": "markdown",
   "metadata": {},
   "source": [
    "Import Datasets"
   ]
  },
  {
   "cell_type": "code",
   "execution_count": null,
   "metadata": {},
   "outputs": [],
   "source": [
    "\n",
    "import pandas as pd\n",
    "import os\n",
    "import numpy as np\n",
    "#wd = os.getcwd()\n",
    "wd = 'C:/Users/lisbo/OneDrive/AC Career/Spiced_Academy_DS/spiced_projects/cascabel-curve-student-code/week_01/data/'\n",
    "\n",
    "#df = pd.read_csv('/data/processed_data.csv')\n",
    "#fert = pd.read_csv('C:/Users/lisbo/OneDrive/AC Career/Spiced_Academy_DS/spiced_projects/cascabel-curve-student-code/week_01/data/gapminder_total_fertility.csv', index_col=0, header =0)\n",
    "\n",
    "fert = pd.read_csv(wd + 'gapminder_total_fertility.csv', index_col=0, header =0)\n",
    "cont = pd.read_csv(wd + 'continents.csv', index_col=0, sep = ';', header =0)\n",
    "life = pd.read_excel(wd + 'gapminder_lifeexpectancy.xlsx',index_col=0, header =0 )\n",
    "pop = pd.read_excel(wd + 'gapminder_population.xlsx',index_col=0, header =0 )\n",
    "\n",
    "\n",
    "#lex = pd.read_csv(gapminder_lifeexpectancy.xlsx)\n"
   ]
  },
  {
   "cell_type": "markdown",
   "metadata": {},
   "source": [
    "Format Fertilisation Dataset"
   ]
  },
  {
   "cell_type": "code",
   "execution_count": null,
   "metadata": {},
   "outputs": [],
   "source": [
    "##Fertilisation dataset formatting\n",
    "fert.columns = fert.columns.astype(int)\n",
    "fert.columns\n",
    "fert.index.name = 'country'\n",
    "fert = fert.reset_index()\n",
    "fert = fert.melt(id_vars='country', var_name='year', value_name='fertility_rate')\n",
    "#fert.dropna( inplace=True)\n",
    "\n",
    "##Life Expectancy dataset formatting\n",
    "life.index.name = 'country'\n",
    "life = life.reset_index()\n",
    "life = life.melt(id_vars='country', var_name='year', value_name='Life_Expectancy')\n",
    "#life.dropna( inplace=True)\n",
    "\n",
    "##Population dataset formatting\n",
    "pop.index.name = 'country'\n",
    "pop= pop.reset_index()\n",
    "pop = pop.melt(id_vars='country', var_name='year', value_name='Population')\n",
    "#pop.dropna( inplace=True)\n",
    "\n",
    "##Country dataset formatting\n",
    "cont.reset_index(inplace= True)\n",
    "#cont.dropna( inplace=True)\n",
    "\n"
   ]
  },
  {
   "cell_type": "markdown",
   "metadata": {},
   "source": [
    "Data exploration of Fertility Dataset"
   ]
  },
  {
   "cell_type": "code",
   "execution_count": null,
   "metadata": {},
   "outputs": [],
   "source": [
    "\n",
    "fert.columns\n",
    "print('\\n')\n",
    "print(fert.describe()   );\n",
    "print('\\n')\n",
    "print(fert.isna().sum() );\n",
    "print('\\n')\n",
    "fert.info()\n",
    "print('\\n')\n",
    "ls = list(fert[\"year\"].value_counts())\n",
    "print(ls)"
   ]
  },
  {
   "cell_type": "markdown",
   "metadata": {},
   "source": [
    "Data exploration of Life Expectancy Dataset"
   ]
  },
  {
   "cell_type": "code",
   "execution_count": null,
   "metadata": {},
   "outputs": [],
   "source": [
    "life.columns\n",
    "print('\\n')\n",
    "print(life.describe()   );\n",
    "print('\\n')\n",
    "print(life.isna().sum() );\n",
    "print('\\n')\n",
    "life.info()\n",
    "print('\\n')\n",
    "ls = list(life[\"year\"].value_counts())\n",
    "print(ls)"
   ]
  },
  {
   "cell_type": "markdown",
   "metadata": {},
   "source": [
    "Data exploration of Population and Continents Dataset"
   ]
  },
  {
   "cell_type": "code",
   "execution_count": null,
   "metadata": {},
   "outputs": [],
   "source": [
    "\n",
    "pop[\"Pop_xMIL\"] = pop[\"Population\"] / 1e+07\n",
    "pop.columns\n",
    "print('\\n')\n",
    "print(pop.describe()   );\n",
    "print('\\n')\n",
    "print(pop.isna().sum() );\n",
    "print('\\n')\n",
    "pop.info()\n",
    "print('\\n')\n",
    "ls = list(pop[\"year\"].value_counts())\n",
    "print(ls)"
   ]
  },
  {
   "cell_type": "markdown",
   "metadata": {},
   "source": [
    "Data exploration of Population and Continents Dataset"
   ]
  },
  {
   "cell_type": "code",
   "execution_count": null,
   "metadata": {},
   "outputs": [],
   "source": [
    "\n",
    "cont.columns\n",
    "print('\\n')\n",
    "print(cont.describe()   );\n",
    "print('\\n')\n",
    "print(cont.isna().sum() );\n",
    "print('\\n')\n",
    "cont.info()\n",
    "print('\\n')\n"
   ]
  },
  {
   "cell_type": "markdown",
   "metadata": {},
   "source": [
    "Merge/join all 4 Datasets"
   ]
  },
  {
   "cell_type": "code",
   "execution_count": null,
   "metadata": {},
   "outputs": [],
   "source": [
    "\n",
    "df = fert.merge(life)   \n",
    "df = df.merge(pop, on=['country','year'], how='left')\n",
    "\n",
    "df = df.merge(cont,on='country', how='inner')\n",
    "df = df.reset_index(drop=True) \n",
    "df.columns\n"
   ]
  },
  {
   "cell_type": "markdown",
   "metadata": {},
   "source": [
    "Make histograms to explore numberical variable"
   ]
  },
  {
   "cell_type": "code",
   "execution_count": null,
   "metadata": {},
   "outputs": [],
   "source": [
    "#lifeexp = lifeexp[[1950, 1975, 2000, 2015]]\n",
    "\n",
    "from turtle import color\n",
    "import matplotlib.pyplot as plt\n",
    "\n",
    "year_val = input(\"please enter year between 1800 and 2016:\")\n",
    "df_slice = df.loc[df['year'] == int(year_val)]\n",
    "\n",
    "#plt.hist(df_slice[[\"Life_Expectancy\" ,'fertility_rate'        ]], bins=20)\n",
    "df_slice[['Life_Expectancy', 'fertility_rate', 'Pop_xMIL']].hist(bins=20, figsize=(8,7));\n",
    "plt.title('Year: ' + year_val)\n",
    "#plt.title(\"Life Expectancy distribution\")\n",
    "#plt.xlabel(\"Life Expectancy (years)\")\n",
    "#plt.xlabel(\"Fertility Rate\")\n",
    "plt.ylabel(\"Frequency\")\n",
    "plt.show()\n",
    "\n",
    "\n"
   ]
  },
  {
   "cell_type": "markdown",
   "metadata": {},
   "source": [
    "Interactive histogram showing change in relationship by Year"
   ]
  },
  {
   "cell_type": "code",
   "execution_count": null,
   "metadata": {},
   "outputs": [],
   "source": [
    "df.sort_values(['year'])\n",
    "\n",
    "gbcy = df.groupby(['continent','year']).agg('mean')\n",
    "gbcy.reset_index(inplace= True)\n",
    "gbcy.head()"
   ]
  },
  {
   "cell_type": "code",
   "execution_count": null,
   "metadata": {},
   "outputs": [],
   "source": [
    "#import plotly.graph_objects as px\n",
    "from calendar import c\n",
    "import plotly.express as go\n",
    "import numpy as np\n",
    "import plotly.express as px\n",
    "#df = px.data.tips()\n",
    "  \n",
    "fig = px.scatter(df, x=\"Life_Expectancy\", y=\"fertility_rate\", \n",
    "                 animation_frame=\"year\", color=\"continent\",\n",
    "                  range_x = [10,90], range_y=[0,10])\n",
    "#fig[\"layout\"].pop(\"updatemenus\")\n",
    "\n",
    "#px.hist\n",
    "\n",
    "#px.axis([0, 90, 0, 10])\n",
    "\n",
    "\n",
    "\n",
    "\n",
    "fig.show()\n"
   ]
  },
  {
   "cell_type": "code",
   "execution_count": null,
   "metadata": {},
   "outputs": [],
   "source": [
    "import seaborn as sns\n",
    "import matplotlib.pyplot as plt\n",
    "\n",
    "df_snsslice = df.loc[df['year'] == 1960]\n",
    "\n",
    "\n",
    "sns.scatterplot(x='Life_Expectancy', y='fertility_rate',data=df_snsslice, alpha=0.8, hue = 'continent')"
   ]
  },
  {
   "cell_type": "markdown",
   "metadata": {},
   "source": [
    "Animated Plot of Life Expectancy versus Fertility Rate "
   ]
  },
  {
   "cell_type": "code",
   "execution_count": null,
   "metadata": {},
   "outputs": [],
   "source": [
    "import matplotlib.pyplot as plt\n",
    "#import imageio as io\n",
    "import imageio.v2 as io \n",
    "\n",
    "from IPython.display import Image\n",
    "from IPython.core.display import HTML \n",
    "\n",
    "images = []\n",
    "colrs = {'Asia':'red', 'Europe':'green',  'Africa':'yellow','North America':'magenta', 'South America':'cyan', 'Australia and Oceania':'blue'}\n",
    "df['Pop_xMIL'] = df['Population'] / 1e+6\n",
    "\n",
    "\n",
    "#only run animation between years 1985 to  due to memory constraints\n",
    "for y in range(1990, 2010, 1):\n",
    "    #print(y)\n",
    "    df_subset = df.loc[df['year'] == y]\n",
    "    df_subset= df_subset.reset_index()\n",
    "    \n",
    "    #fig, ax = plt.subplots()\n",
    "    \n",
    "    plt.axis([0, 90, 0, 10])\n",
    "    plt.title('Life_Expectancy relationship with Fertility_rate: ' + str(y))\n",
    "    plt.xlabel('Life_Expectancy (years)')\n",
    "    plt.ylabel('Fertility_rate')\n",
    "    plt.legend(df_subset['continent'].map(colrs),\n",
    "                    loc=\"lower right\", title=\"Continent\")\n",
    "    \n",
    "    # Plotting the graph\n",
    "    plt.scatter(df_subset['Life_Expectancy'], df_subset['fertility_rate'],  linewidths=1, alpha=.9,\n",
    "    c=df_subset['continent'].map(colrs), cmap='viridis', s=df_subset['Pop_xMIL'] )\n",
    "    \n",
    "    #save individual image file to local directory\n",
    "    plt.savefig('lifeexp_' + str(y) + '.png', dpi=120)\n",
    "    plt.close()\n",
    "\n",
    "    for i in range(0, 20):\n",
    "        filename = 'lifeexp_' + str(y) + '.png'.format(i)\n",
    "        images.append(io.imread(filename))\n",
    "    io.mimsave('output.gif', images, fps=25)\n",
    "\n",
    "\n",
    "Image(url= \"output.gif\", width=450, height=350)"
   ]
  }
 ],
 "metadata": {
  "kernelspec": {
   "display_name": "Python 3.7.1 32-bit",
   "language": "python",
   "name": "python3"
  },
  "language_info": {
   "codemirror_mode": {
    "name": "ipython",
    "version": 3
   },
   "file_extension": ".py",
   "mimetype": "text/x-python",
   "name": "python",
   "nbconvert_exporter": "python",
   "pygments_lexer": "ipython3",
   "version": "3.7.1"
  },
  "orig_nbformat": 4,
  "vscode": {
   "interpreter": {
    "hash": "0cfb223db4819573a1a735b7061e6260113ec44f4ccf8e030c31ccb798307531"
   }
  }
 },
 "nbformat": 4,
 "nbformat_minor": 2
}
