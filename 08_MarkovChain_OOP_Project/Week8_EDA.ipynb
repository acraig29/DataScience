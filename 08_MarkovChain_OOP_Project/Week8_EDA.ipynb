{
 "cells": [
  {
   "cell_type": "code",
   "execution_count": 816,
   "metadata": {},
   "outputs": [],
   "source": [
    "import pandas as pd\n",
    "import numpy as np\n",
    "import matplotlib.pylab as plt\n",
    "#%matplotlib inline\n",
    "from datetime import date, datetime\n",
    "import os\n",
    "import seaborn as sns\n",
    " \n",
    "from sklearn.linear_model import LinearRegression\n",
    "import random\n",
    "\n",
    "from customer_class import Customer"
   ]
  },
  {
   "cell_type": "code",
   "execution_count": 817,
   "metadata": {},
   "outputs": [],
   "source": [
    "import pandas as pd\n",
    "\n",
    "wd = 'data/'\n",
    "\n",
    "f1 = pd.read_csv(wd + 'monday.csv', index_col = 0, parse_dates = True,sep=\";\")\n",
    "f2 = pd.read_csv(wd + 'tuesday.csv', index_col = 0, parse_dates = True,sep=\";\")\n",
    "f3 =pd.read_csv(wd + 'wednesday.csv', index_col = 0, parse_dates = True,sep=\";\")\n",
    "f4 =pd.read_csv(wd + 'thursday.csv', index_col = 0, parse_dates = True,sep=\";\")\n",
    "f5 =pd.read_csv(wd + 'friday.csv', index_col = 0, parse_dates = True,sep=\";\")\n",
    "\n",
    "df =pd.concat([f1, f2,f3,f4,f5],ignore_index=False)\n",
    "#merged.to_csv('merged.csv', index=None, header=None)"
   ]
  },
  {
   "cell_type": "code",
   "execution_count": 818,
   "metadata": {},
   "outputs": [
    {
     "data": {
      "text/plain": [
       "DatetimeIndex(['2019-09-02 07:03:00', '2019-09-02 07:03:00',\n",
       "               '2019-09-02 07:04:00', '2019-09-02 07:04:00',\n",
       "               '2019-09-02 07:04:00', '2019-09-02 07:04:00',\n",
       "               '2019-09-02 07:04:00', '2019-09-02 07:04:00',\n",
       "               '2019-09-02 07:05:00', '2019-09-02 07:05:00',\n",
       "               ...\n",
       "               '2019-09-06 21:49:00', '2019-09-06 21:49:00',\n",
       "               '2019-09-06 21:49:00', '2019-09-06 21:49:00',\n",
       "               '2019-09-06 21:50:00', '2019-09-06 21:50:00',\n",
       "               '2019-09-06 21:50:00', '2019-09-06 21:50:00',\n",
       "               '2019-09-06 21:50:00', '2019-09-06 21:50:00'],\n",
       "              dtype='datetime64[ns]', name='timestamp', length=24877, freq=None)"
      ]
     },
     "execution_count": 818,
     "metadata": {},
     "output_type": "execute_result"
    }
   ],
   "source": [
    "df.index"
   ]
  },
  {
   "cell_type": "code",
   "execution_count": 819,
   "metadata": {},
   "outputs": [],
   "source": [
    " #year\n",
    "from calendar import month_name\n",
    "\n",
    "#day\n",
    "\n",
    "df['day_name'] = df.index.day_name()\n",
    "df['day'] = df.index.day\n",
    "\n",
    "df['year'] = df.index.year\n",
    "#Month\n",
    "df['month'] = df.index.month\n",
    "df['day_month'] = df.index.month_name()\n",
    "\n",
    "#hour\n",
    "df['hour'] = df.index.hour\n",
    "#df['day_month'] = df.index.month_name()\n",
    "\n",
    "\n",
    "#minutes\n",
    "df['minute'] = df.index.minute\n",
    "#df['day_month'] = df.index.month_name()\n",
    "\n"
   ]
  },
  {
   "cell_type": "code",
   "execution_count": 820,
   "metadata": {},
   "outputs": [
    {
     "data": {
      "text/html": [
       "<div>\n",
       "<style scoped>\n",
       "    .dataframe tbody tr th:only-of-type {\n",
       "        vertical-align: middle;\n",
       "    }\n",
       "\n",
       "    .dataframe tbody tr th {\n",
       "        vertical-align: top;\n",
       "    }\n",
       "\n",
       "    .dataframe thead th {\n",
       "        text-align: right;\n",
       "    }\n",
       "</style>\n",
       "<table border=\"1\" class=\"dataframe\">\n",
       "  <thead>\n",
       "    <tr style=\"text-align: right;\">\n",
       "      <th></th>\n",
       "      <th>customer_no</th>\n",
       "      <th>location</th>\n",
       "      <th>day_name</th>\n",
       "      <th>day</th>\n",
       "      <th>year</th>\n",
       "      <th>month</th>\n",
       "      <th>day_month</th>\n",
       "      <th>hour</th>\n",
       "      <th>minute</th>\n",
       "    </tr>\n",
       "    <tr>\n",
       "      <th>timestamp</th>\n",
       "      <th></th>\n",
       "      <th></th>\n",
       "      <th></th>\n",
       "      <th></th>\n",
       "      <th></th>\n",
       "      <th></th>\n",
       "      <th></th>\n",
       "      <th></th>\n",
       "      <th></th>\n",
       "    </tr>\n",
       "  </thead>\n",
       "  <tbody>\n",
       "    <tr>\n",
       "      <th>2019-09-02 07:03:00</th>\n",
       "      <td>1</td>\n",
       "      <td>dairy</td>\n",
       "      <td>Monday</td>\n",
       "      <td>2</td>\n",
       "      <td>2019</td>\n",
       "      <td>9</td>\n",
       "      <td>September</td>\n",
       "      <td>7</td>\n",
       "      <td>3</td>\n",
       "    </tr>\n",
       "    <tr>\n",
       "      <th>2019-09-02 07:03:00</th>\n",
       "      <td>2</td>\n",
       "      <td>dairy</td>\n",
       "      <td>Monday</td>\n",
       "      <td>2</td>\n",
       "      <td>2019</td>\n",
       "      <td>9</td>\n",
       "      <td>September</td>\n",
       "      <td>7</td>\n",
       "      <td>3</td>\n",
       "    </tr>\n",
       "    <tr>\n",
       "      <th>2019-09-02 07:04:00</th>\n",
       "      <td>3</td>\n",
       "      <td>dairy</td>\n",
       "      <td>Monday</td>\n",
       "      <td>2</td>\n",
       "      <td>2019</td>\n",
       "      <td>9</td>\n",
       "      <td>September</td>\n",
       "      <td>7</td>\n",
       "      <td>4</td>\n",
       "    </tr>\n",
       "    <tr>\n",
       "      <th>2019-09-02 07:04:00</th>\n",
       "      <td>4</td>\n",
       "      <td>dairy</td>\n",
       "      <td>Monday</td>\n",
       "      <td>2</td>\n",
       "      <td>2019</td>\n",
       "      <td>9</td>\n",
       "      <td>September</td>\n",
       "      <td>7</td>\n",
       "      <td>4</td>\n",
       "    </tr>\n",
       "    <tr>\n",
       "      <th>2019-09-02 07:04:00</th>\n",
       "      <td>5</td>\n",
       "      <td>spices</td>\n",
       "      <td>Monday</td>\n",
       "      <td>2</td>\n",
       "      <td>2019</td>\n",
       "      <td>9</td>\n",
       "      <td>September</td>\n",
       "      <td>7</td>\n",
       "      <td>4</td>\n",
       "    </tr>\n",
       "    <tr>\n",
       "      <th>...</th>\n",
       "      <td>...</td>\n",
       "      <td>...</td>\n",
       "      <td>...</td>\n",
       "      <td>...</td>\n",
       "      <td>...</td>\n",
       "      <td>...</td>\n",
       "      <td>...</td>\n",
       "      <td>...</td>\n",
       "      <td>...</td>\n",
       "    </tr>\n",
       "    <tr>\n",
       "      <th>2019-09-02 21:49:00</th>\n",
       "      <td>1442</td>\n",
       "      <td>checkout</td>\n",
       "      <td>Monday</td>\n",
       "      <td>2</td>\n",
       "      <td>2019</td>\n",
       "      <td>9</td>\n",
       "      <td>September</td>\n",
       "      <td>21</td>\n",
       "      <td>49</td>\n",
       "    </tr>\n",
       "    <tr>\n",
       "      <th>2019-09-02 21:49:00</th>\n",
       "      <td>1444</td>\n",
       "      <td>checkout</td>\n",
       "      <td>Monday</td>\n",
       "      <td>2</td>\n",
       "      <td>2019</td>\n",
       "      <td>9</td>\n",
       "      <td>September</td>\n",
       "      <td>21</td>\n",
       "      <td>49</td>\n",
       "    </tr>\n",
       "    <tr>\n",
       "      <th>2019-09-02 21:49:00</th>\n",
       "      <td>1445</td>\n",
       "      <td>dairy</td>\n",
       "      <td>Monday</td>\n",
       "      <td>2</td>\n",
       "      <td>2019</td>\n",
       "      <td>9</td>\n",
       "      <td>September</td>\n",
       "      <td>21</td>\n",
       "      <td>49</td>\n",
       "    </tr>\n",
       "    <tr>\n",
       "      <th>2019-09-02 21:50:00</th>\n",
       "      <td>1446</td>\n",
       "      <td>dairy</td>\n",
       "      <td>Monday</td>\n",
       "      <td>2</td>\n",
       "      <td>2019</td>\n",
       "      <td>9</td>\n",
       "      <td>September</td>\n",
       "      <td>21</td>\n",
       "      <td>50</td>\n",
       "    </tr>\n",
       "    <tr>\n",
       "      <th>2019-09-02 21:50:00</th>\n",
       "      <td>1447</td>\n",
       "      <td>fruit</td>\n",
       "      <td>Monday</td>\n",
       "      <td>2</td>\n",
       "      <td>2019</td>\n",
       "      <td>9</td>\n",
       "      <td>September</td>\n",
       "      <td>21</td>\n",
       "      <td>50</td>\n",
       "    </tr>\n",
       "  </tbody>\n",
       "</table>\n",
       "<p>4884 rows × 9 columns</p>\n",
       "</div>"
      ],
      "text/plain": [
       "                     customer_no  location day_name  ...  day_month  hour  minute\n",
       "timestamp                                            ...                         \n",
       "2019-09-02 07:03:00            1     dairy   Monday  ...  September     7       3\n",
       "2019-09-02 07:03:00            2     dairy   Monday  ...  September     7       3\n",
       "2019-09-02 07:04:00            3     dairy   Monday  ...  September     7       4\n",
       "2019-09-02 07:04:00            4     dairy   Monday  ...  September     7       4\n",
       "2019-09-02 07:04:00            5    spices   Monday  ...  September     7       4\n",
       "...                          ...       ...      ...  ...        ...   ...     ...\n",
       "2019-09-02 21:49:00         1442  checkout   Monday  ...  September    21      49\n",
       "2019-09-02 21:49:00         1444  checkout   Monday  ...  September    21      49\n",
       "2019-09-02 21:49:00         1445     dairy   Monday  ...  September    21      49\n",
       "2019-09-02 21:50:00         1446     dairy   Monday  ...  September    21      50\n",
       "2019-09-02 21:50:00         1447     fruit   Monday  ...  September    21      50\n",
       "\n",
       "[4884 rows x 9 columns]"
      ]
     },
     "execution_count": 820,
     "metadata": {},
     "output_type": "execute_result"
    }
   ],
   "source": [
    "#df.loc[df['day_name'].isin(\"Monday\")]\n",
    "\n",
    "df[df['day_name'] == \"Monday\"]"
   ]
  },
  {
   "cell_type": "code",
   "execution_count": 821,
   "metadata": {},
   "outputs": [
    {
     "name": "stderr",
     "output_type": "stream",
     "text": [
      "C:\\temp\\ipykernel_11520\\3753338990.py:1: FutureWarning: Dropping invalid columns in DataFrameGroupBy.agg is deprecated. In a future version, a TypeError will be raised. Before calling .agg, select only columns which should be valid for the function.\n",
      "  df[df['day_name'] == \"Monday\"].groupby(['customer_no','day_name']).agg(lambda x:   x.iloc[-1] -x.iloc[0])\n"
     ]
    },
    {
     "data": {
      "text/html": [
       "<div>\n",
       "<style scoped>\n",
       "    .dataframe tbody tr th:only-of-type {\n",
       "        vertical-align: middle;\n",
       "    }\n",
       "\n",
       "    .dataframe tbody tr th {\n",
       "        vertical-align: top;\n",
       "    }\n",
       "\n",
       "    .dataframe thead th {\n",
       "        text-align: right;\n",
       "    }\n",
       "</style>\n",
       "<table border=\"1\" class=\"dataframe\">\n",
       "  <thead>\n",
       "    <tr style=\"text-align: right;\">\n",
       "      <th></th>\n",
       "      <th></th>\n",
       "      <th>day</th>\n",
       "      <th>year</th>\n",
       "      <th>month</th>\n",
       "      <th>hour</th>\n",
       "      <th>minute</th>\n",
       "    </tr>\n",
       "    <tr>\n",
       "      <th>customer_no</th>\n",
       "      <th>day_name</th>\n",
       "      <th></th>\n",
       "      <th></th>\n",
       "      <th></th>\n",
       "      <th></th>\n",
       "      <th></th>\n",
       "    </tr>\n",
       "  </thead>\n",
       "  <tbody>\n",
       "    <tr>\n",
       "      <th>1</th>\n",
       "      <th>Monday</th>\n",
       "      <td>0</td>\n",
       "      <td>0</td>\n",
       "      <td>0</td>\n",
       "      <td>0</td>\n",
       "      <td>2</td>\n",
       "    </tr>\n",
       "    <tr>\n",
       "      <th>2</th>\n",
       "      <th>Monday</th>\n",
       "      <td>0</td>\n",
       "      <td>0</td>\n",
       "      <td>0</td>\n",
       "      <td>0</td>\n",
       "      <td>3</td>\n",
       "    </tr>\n",
       "    <tr>\n",
       "      <th>3</th>\n",
       "      <th>Monday</th>\n",
       "      <td>0</td>\n",
       "      <td>0</td>\n",
       "      <td>0</td>\n",
       "      <td>0</td>\n",
       "      <td>2</td>\n",
       "    </tr>\n",
       "    <tr>\n",
       "      <th>4</th>\n",
       "      <th>Monday</th>\n",
       "      <td>0</td>\n",
       "      <td>0</td>\n",
       "      <td>0</td>\n",
       "      <td>0</td>\n",
       "      <td>4</td>\n",
       "    </tr>\n",
       "    <tr>\n",
       "      <th>5</th>\n",
       "      <th>Monday</th>\n",
       "      <td>0</td>\n",
       "      <td>0</td>\n",
       "      <td>0</td>\n",
       "      <td>0</td>\n",
       "      <td>1</td>\n",
       "    </tr>\n",
       "    <tr>\n",
       "      <th>...</th>\n",
       "      <th>...</th>\n",
       "      <td>...</td>\n",
       "      <td>...</td>\n",
       "      <td>...</td>\n",
       "      <td>...</td>\n",
       "      <td>...</td>\n",
       "    </tr>\n",
       "    <tr>\n",
       "      <th>1443</th>\n",
       "      <th>Monday</th>\n",
       "      <td>0</td>\n",
       "      <td>0</td>\n",
       "      <td>0</td>\n",
       "      <td>0</td>\n",
       "      <td>1</td>\n",
       "    </tr>\n",
       "    <tr>\n",
       "      <th>1444</th>\n",
       "      <th>Monday</th>\n",
       "      <td>0</td>\n",
       "      <td>0</td>\n",
       "      <td>0</td>\n",
       "      <td>0</td>\n",
       "      <td>1</td>\n",
       "    </tr>\n",
       "    <tr>\n",
       "      <th>1445</th>\n",
       "      <th>Monday</th>\n",
       "      <td>0</td>\n",
       "      <td>0</td>\n",
       "      <td>0</td>\n",
       "      <td>0</td>\n",
       "      <td>0</td>\n",
       "    </tr>\n",
       "    <tr>\n",
       "      <th>1446</th>\n",
       "      <th>Monday</th>\n",
       "      <td>0</td>\n",
       "      <td>0</td>\n",
       "      <td>0</td>\n",
       "      <td>0</td>\n",
       "      <td>0</td>\n",
       "    </tr>\n",
       "    <tr>\n",
       "      <th>1447</th>\n",
       "      <th>Monday</th>\n",
       "      <td>0</td>\n",
       "      <td>0</td>\n",
       "      <td>0</td>\n",
       "      <td>0</td>\n",
       "      <td>0</td>\n",
       "    </tr>\n",
       "  </tbody>\n",
       "</table>\n",
       "<p>1447 rows × 5 columns</p>\n",
       "</div>"
      ],
      "text/plain": [
       "                      day  year  month  hour  minute\n",
       "customer_no day_name                                \n",
       "1           Monday      0     0      0     0       2\n",
       "2           Monday      0     0      0     0       3\n",
       "3           Monday      0     0      0     0       2\n",
       "4           Monday      0     0      0     0       4\n",
       "5           Monday      0     0      0     0       1\n",
       "...                   ...   ...    ...   ...     ...\n",
       "1443        Monday      0     0      0     0       1\n",
       "1444        Monday      0     0      0     0       1\n",
       "1445        Monday      0     0      0     0       0\n",
       "1446        Monday      0     0      0     0       0\n",
       "1447        Monday      0     0      0     0       0\n",
       "\n",
       "[1447 rows x 5 columns]"
      ]
     },
     "execution_count": 821,
     "metadata": {},
     "output_type": "execute_result"
    }
   ],
   "source": [
    "df[df['day_name'] == \"Monday\"].groupby(['customer_no','day_name']).agg(lambda x:   x.iloc[-1] -x.iloc[0])"
   ]
  },
  {
   "cell_type": "code",
   "execution_count": 822,
   "metadata": {},
   "outputs": [
    {
     "name": "stderr",
     "output_type": "stream",
     "text": [
      "C:\\temp\\ipykernel_11520\\3222524183.py:1: FutureWarning: Dropping invalid columns in DataFrameGroupBy.agg is deprecated. In a future version, a TypeError will be raised. Before calling .agg, select only columns which should be valid for the function.\n",
      "  df_m = df[df['day_name'] == \"Monday\"].groupby(['customer_no','day_name']).agg(lambda x:   x.iloc[-1] -x.iloc[0]).reset_index()\n",
      "C:\\temp\\ipykernel_11520\\3222524183.py:2: FutureWarning: Dropping invalid columns in DataFrameGroupBy.agg is deprecated. In a future version, a TypeError will be raised. Before calling .agg, select only columns which should be valid for the function.\n",
      "  df_tu =df[df['day_name'] == \"Tuesday\"].groupby(['customer_no','day_name']).agg(lambda x:   x.iloc[-1] -x.iloc[0]).reset_index()\n",
      "C:\\temp\\ipykernel_11520\\3222524183.py:3: FutureWarning: Dropping invalid columns in DataFrameGroupBy.agg is deprecated. In a future version, a TypeError will be raised. Before calling .agg, select only columns which should be valid for the function.\n",
      "  df_w =df[df['day_name'] == \"Wednesday\"].groupby(['customer_no','day_name']).agg(lambda x:   x.iloc[-1] -x.iloc[0]).reset_index()\n",
      "C:\\temp\\ipykernel_11520\\3222524183.py:4: FutureWarning: Dropping invalid columns in DataFrameGroupBy.agg is deprecated. In a future version, a TypeError will be raised. Before calling .agg, select only columns which should be valid for the function.\n",
      "  df_th =df[df['day_name'] == \"Thursday\"].groupby(['customer_no','day_name']).agg(lambda x:   x.iloc[-1] -x.iloc[0]).reset_index()\n",
      "C:\\temp\\ipykernel_11520\\3222524183.py:5: FutureWarning: Dropping invalid columns in DataFrameGroupBy.agg is deprecated. In a future version, a TypeError will be raised. Before calling .agg, select only columns which should be valid for the function.\n",
      "  df_f =df[df['day_name'] == \"Friday\"].groupby(['customer_no','day_name']).agg(lambda x:   x.iloc[-1] -x.iloc[0]).reset_index()\n"
     ]
    }
   ],
   "source": [
    "df_m = df[df['day_name'] == \"Monday\"].groupby(['customer_no','day_name']).agg(lambda x:   x.iloc[-1] -x.iloc[0]).reset_index()\n",
    "df_tu =df[df['day_name'] == \"Tuesday\"].groupby(['customer_no','day_name']).agg(lambda x:   x.iloc[-1] -x.iloc[0]).reset_index()\n",
    "df_w =df[df['day_name'] == \"Wednesday\"].groupby(['customer_no','day_name']).agg(lambda x:   x.iloc[-1] -x.iloc[0]).reset_index()\n",
    "df_th =df[df['day_name'] == \"Thursday\"].groupby(['customer_no','day_name']).agg(lambda x:   x.iloc[-1] -x.iloc[0]).reset_index()\n",
    "df_f =df[df['day_name'] == \"Friday\"].groupby(['customer_no','day_name']).agg(lambda x:   x.iloc[-1] -x.iloc[0]).reset_index()\n"
   ]
  },
  {
   "cell_type": "code",
   "execution_count": 823,
   "metadata": {},
   "outputs": [],
   "source": [
    "#combine above datasts to creaate duration dataset to for calculating time spent in store\n",
    "\n",
    "df_duration =pd.concat([df_m, df_tu,df_w,df_th,df_f],ignore_index=False)\n",
    "df_duration.rename(columns={'minute':'duration'}, inplace=True)\n"
   ]
  },
  {
   "cell_type": "code",
   "execution_count": null,
   "metadata": {},
   "outputs": [],
   "source": [
    "#df_m[['First','Last']] = df_m.index.str.split(\",\",expand=True,)\n"
   ]
  },
  {
   "cell_type": "code",
   "execution_count": null,
   "metadata": {},
   "outputs": [],
   "source": [
    "## Join df_m back on the original weekday datasets: f1, f2, f3,f4 ,f5 and re merge horizonally"
   ]
  },
  {
   "cell_type": "code",
   "execution_count": null,
   "metadata": {},
   "outputs": [],
   "source": [
    "df_m\n",
    "dfM = df.join(df_m, on=['customer_no','day_name'])\n",
    "\n",
    "#pd.merge(df, df1, on=['Courses','Fee'])"
   ]
  },
  {
   "cell_type": "code",
   "execution_count": 824,
   "metadata": {},
   "outputs": [],
   "source": [
    "df2 =pd.concat([df_m, df_tu,df_w,df_th,df_f],ignore_index=False)"
   ]
  },
  {
   "cell_type": "code",
   "execution_count": null,
   "metadata": {},
   "outputs": [],
   "source": [
    "###Calculate the total number of customers in each section"
   ]
  },
  {
   "cell_type": "code",
   "execution_count": 825,
   "metadata": {},
   "outputs": [
    {
     "data": {
      "text/plain": [
       "location  day_name \n",
       "checkout  Friday       1502\n",
       "          Monday       1437\n",
       "          Thursday     1532\n",
       "          Tuesday      1420\n",
       "          Wednesday    1526\n",
       "dairy     Friday        761\n",
       "          Monday        720\n",
       "          Thursday      782\n",
       "          Tuesday       751\n",
       "          Wednesday     804\n",
       "drinks    Friday        688\n",
       "          Monday        661\n",
       "          Thursday      632\n",
       "          Tuesday       581\n",
       "          Wednesday     652\n",
       "fruit     Friday        874\n",
       "          Monday        827\n",
       "          Thursday      872\n",
       "          Tuesday       827\n",
       "          Wednesday     884\n",
       "spices    Friday        633\n",
       "          Monday        584\n",
       "          Thursday      613\n",
       "          Tuesday       543\n",
       "          Wednesday     565\n",
       "Name: customer_no, dtype: int64"
      ]
     },
     "execution_count": 825,
     "metadata": {},
     "output_type": "execute_result"
    }
   ],
   "source": [
    "df.groupby(['location', 'day_name'])['customer_no'].nunique()"
   ]
  },
  {
   "cell_type": "code",
   "execution_count": 826,
   "metadata": {},
   "outputs": [
    {
     "data": {
      "text/html": [
       "<div>\n",
       "<style scoped>\n",
       "    .dataframe tbody tr th:only-of-type {\n",
       "        vertical-align: middle;\n",
       "    }\n",
       "\n",
       "    .dataframe tbody tr th {\n",
       "        vertical-align: top;\n",
       "    }\n",
       "\n",
       "    .dataframe thead th {\n",
       "        text-align: right;\n",
       "    }\n",
       "</style>\n",
       "<table border=\"1\" class=\"dataframe\">\n",
       "  <thead>\n",
       "    <tr style=\"text-align: right;\">\n",
       "      <th>day_name</th>\n",
       "      <th>Friday</th>\n",
       "      <th>Monday</th>\n",
       "      <th>Thursday</th>\n",
       "      <th>Tuesday</th>\n",
       "      <th>Wednesday</th>\n",
       "    </tr>\n",
       "    <tr>\n",
       "      <th>location</th>\n",
       "      <th></th>\n",
       "      <th></th>\n",
       "      <th></th>\n",
       "      <th></th>\n",
       "      <th></th>\n",
       "    </tr>\n",
       "  </thead>\n",
       "  <tbody>\n",
       "    <tr>\n",
       "      <th>checkout</th>\n",
       "      <td>1502</td>\n",
       "      <td>1437</td>\n",
       "      <td>1532</td>\n",
       "      <td>1420</td>\n",
       "      <td>1526</td>\n",
       "    </tr>\n",
       "    <tr>\n",
       "      <th>dairy</th>\n",
       "      <td>761</td>\n",
       "      <td>720</td>\n",
       "      <td>782</td>\n",
       "      <td>751</td>\n",
       "      <td>804</td>\n",
       "    </tr>\n",
       "    <tr>\n",
       "      <th>drinks</th>\n",
       "      <td>688</td>\n",
       "      <td>661</td>\n",
       "      <td>632</td>\n",
       "      <td>581</td>\n",
       "      <td>652</td>\n",
       "    </tr>\n",
       "    <tr>\n",
       "      <th>fruit</th>\n",
       "      <td>874</td>\n",
       "      <td>827</td>\n",
       "      <td>872</td>\n",
       "      <td>827</td>\n",
       "      <td>884</td>\n",
       "    </tr>\n",
       "    <tr>\n",
       "      <th>spices</th>\n",
       "      <td>633</td>\n",
       "      <td>584</td>\n",
       "      <td>613</td>\n",
       "      <td>543</td>\n",
       "      <td>565</td>\n",
       "    </tr>\n",
       "  </tbody>\n",
       "</table>\n",
       "</div>"
      ],
      "text/plain": [
       "day_name  Friday  Monday  Thursday  Tuesday  Wednesday\n",
       "location                                              \n",
       "checkout    1502    1437      1532     1420       1526\n",
       "dairy        761     720       782      751        804\n",
       "drinks       688     661       632      581        652\n",
       "fruit        874     827       872      827        884\n",
       "spices       633     584       613      543        565"
      ]
     },
     "execution_count": 826,
     "metadata": {},
     "output_type": "execute_result"
    }
   ],
   "source": [
    "pd.crosstab(df.location,df.day_name, values = df.customer_no, aggfunc = 'nunique')\n",
    "#pd.crosstab(index = df.Region, columns = df.Type, values = df.Sales, aggfunc = 'mean')\n"
   ]
  },
  {
   "cell_type": "code",
   "execution_count": null,
   "metadata": {},
   "outputs": [],
   "source": [
    "####Calculate the total number of customers in each section over time"
   ]
  },
  {
   "cell_type": "code",
   "execution_count": 827,
   "metadata": {},
   "outputs": [
    {
     "data": {
      "text/html": [
       "<div>\n",
       "<style scoped>\n",
       "    .dataframe tbody tr th:only-of-type {\n",
       "        vertical-align: middle;\n",
       "    }\n",
       "\n",
       "    .dataframe tbody tr th {\n",
       "        vertical-align: top;\n",
       "    }\n",
       "\n",
       "    .dataframe thead th {\n",
       "        text-align: right;\n",
       "    }\n",
       "</style>\n",
       "<table border=\"1\" class=\"dataframe\">\n",
       "  <thead>\n",
       "    <tr style=\"text-align: right;\">\n",
       "      <th>hour</th>\n",
       "      <th>7</th>\n",
       "      <th>8</th>\n",
       "      <th>9</th>\n",
       "      <th>10</th>\n",
       "      <th>11</th>\n",
       "      <th>12</th>\n",
       "      <th>13</th>\n",
       "      <th>14</th>\n",
       "      <th>15</th>\n",
       "      <th>16</th>\n",
       "      <th>17</th>\n",
       "      <th>18</th>\n",
       "      <th>19</th>\n",
       "      <th>20</th>\n",
       "      <th>21</th>\n",
       "    </tr>\n",
       "    <tr>\n",
       "      <th>day</th>\n",
       "      <th></th>\n",
       "      <th></th>\n",
       "      <th></th>\n",
       "      <th></th>\n",
       "      <th></th>\n",
       "      <th></th>\n",
       "      <th></th>\n",
       "      <th></th>\n",
       "      <th></th>\n",
       "      <th></th>\n",
       "      <th></th>\n",
       "      <th></th>\n",
       "      <th></th>\n",
       "      <th></th>\n",
       "      <th></th>\n",
       "    </tr>\n",
       "  </thead>\n",
       "  <tbody>\n",
       "    <tr>\n",
       "      <th>2</th>\n",
       "      <td>102</td>\n",
       "      <td>123</td>\n",
       "      <td>99</td>\n",
       "      <td>94</td>\n",
       "      <td>60</td>\n",
       "      <td>84</td>\n",
       "      <td>130</td>\n",
       "      <td>96</td>\n",
       "      <td>100</td>\n",
       "      <td>99</td>\n",
       "      <td>131</td>\n",
       "      <td>148</td>\n",
       "      <td>140</td>\n",
       "      <td>116</td>\n",
       "      <td>62</td>\n",
       "    </tr>\n",
       "    <tr>\n",
       "      <th>3</th>\n",
       "      <td>104</td>\n",
       "      <td>136</td>\n",
       "      <td>85</td>\n",
       "      <td>86</td>\n",
       "      <td>49</td>\n",
       "      <td>67</td>\n",
       "      <td>115</td>\n",
       "      <td>115</td>\n",
       "      <td>80</td>\n",
       "      <td>125</td>\n",
       "      <td>124</td>\n",
       "      <td>147</td>\n",
       "      <td>141</td>\n",
       "      <td>106</td>\n",
       "      <td>64</td>\n",
       "    </tr>\n",
       "    <tr>\n",
       "      <th>4</th>\n",
       "      <td>87</td>\n",
       "      <td>181</td>\n",
       "      <td>128</td>\n",
       "      <td>94</td>\n",
       "      <td>94</td>\n",
       "      <td>91</td>\n",
       "      <td>116</td>\n",
       "      <td>116</td>\n",
       "      <td>84</td>\n",
       "      <td>106</td>\n",
       "      <td>102</td>\n",
       "      <td>107</td>\n",
       "      <td>207</td>\n",
       "      <td>92</td>\n",
       "      <td>61</td>\n",
       "    </tr>\n",
       "    <tr>\n",
       "      <th>5</th>\n",
       "      <td>105</td>\n",
       "      <td>153</td>\n",
       "      <td>114</td>\n",
       "      <td>99</td>\n",
       "      <td>77</td>\n",
       "      <td>87</td>\n",
       "      <td>89</td>\n",
       "      <td>102</td>\n",
       "      <td>93</td>\n",
       "      <td>129</td>\n",
       "      <td>127</td>\n",
       "      <td>140</td>\n",
       "      <td>182</td>\n",
       "      <td>123</td>\n",
       "      <td>86</td>\n",
       "    </tr>\n",
       "    <tr>\n",
       "      <th>6</th>\n",
       "      <td>94</td>\n",
       "      <td>152</td>\n",
       "      <td>95</td>\n",
       "      <td>88</td>\n",
       "      <td>90</td>\n",
       "      <td>95</td>\n",
       "      <td>121</td>\n",
       "      <td>113</td>\n",
       "      <td>88</td>\n",
       "      <td>108</td>\n",
       "      <td>129</td>\n",
       "      <td>163</td>\n",
       "      <td>154</td>\n",
       "      <td>110</td>\n",
       "      <td>60</td>\n",
       "    </tr>\n",
       "  </tbody>\n",
       "</table>\n",
       "</div>"
      ],
      "text/plain": [
       "hour   7    8    9   10  11  12   13   14   15   16   17   18   19   20  21\n",
       "day                                                                        \n",
       "2     102  123   99  94  60  84  130   96  100   99  131  148  140  116  62\n",
       "3     104  136   85  86  49  67  115  115   80  125  124  147  141  106  64\n",
       "4      87  181  128  94  94  91  116  116   84  106  102  107  207   92  61\n",
       "5     105  153  114  99  77  87   89  102   93  129  127  140  182  123  86\n",
       "6      94  152   95  88  90  95  121  113   88  108  129  163  154  110  60"
      ]
     },
     "execution_count": 827,
     "metadata": {},
     "output_type": "execute_result"
    }
   ],
   "source": [
    "#pd.crosstab(df.location,df.index, values = df.customer_no, aggfunc = 'nunique')\n",
    "\n",
    "df.groupby([ df.index])['customer_no'].nunique()\n",
    "df.groupby([ 'day'])['customer_no'].nunique()\n",
    "df.groupby([ 'hour'])['customer_no'].nunique()\n",
    "\n",
    "pd.crosstab(df.day ,df.hour, values = df.customer_no, aggfunc = 'nunique')\n",
    "\n"
   ]
  },
  {
   "cell_type": "code",
   "execution_count": null,
   "metadata": {},
   "outputs": [],
   "source": [
    "####Display the number of customers at checkout over time"
   ]
  },
  {
   "cell_type": "code",
   "execution_count": null,
   "metadata": {},
   "outputs": [
    {
     "data": {
      "text/html": [
       "<div>\n",
       "<style scoped>\n",
       "    .dataframe tbody tr th:only-of-type {\n",
       "        vertical-align: middle;\n",
       "    }\n",
       "\n",
       "    .dataframe tbody tr th {\n",
       "        vertical-align: top;\n",
       "    }\n",
       "\n",
       "    .dataframe thead th {\n",
       "        text-align: right;\n",
       "    }\n",
       "</style>\n",
       "<table border=\"1\" class=\"dataframe\">\n",
       "  <thead>\n",
       "    <tr style=\"text-align: right;\">\n",
       "      <th>day_name</th>\n",
       "      <th>Friday</th>\n",
       "      <th>Monday</th>\n",
       "      <th>Thursday</th>\n",
       "      <th>Tuesday</th>\n",
       "      <th>Wednesday</th>\n",
       "    </tr>\n",
       "    <tr>\n",
       "      <th>location</th>\n",
       "      <th></th>\n",
       "      <th></th>\n",
       "      <th></th>\n",
       "      <th></th>\n",
       "      <th></th>\n",
       "    </tr>\n",
       "  </thead>\n",
       "  <tbody>\n",
       "    <tr>\n",
       "      <th>False</th>\n",
       "      <td>1510</td>\n",
       "      <td>1447</td>\n",
       "      <td>1535</td>\n",
       "      <td>1422</td>\n",
       "      <td>1531</td>\n",
       "    </tr>\n",
       "    <tr>\n",
       "      <th>True</th>\n",
       "      <td>1502</td>\n",
       "      <td>1437</td>\n",
       "      <td>1532</td>\n",
       "      <td>1420</td>\n",
       "      <td>1526</td>\n",
       "    </tr>\n",
       "  </tbody>\n",
       "</table>\n",
       "</div>"
      ],
      "text/plain": [
       "day_name  Friday  Monday  Thursday  Tuesday  Wednesday\n",
       "location                                              \n",
       "False       1510    1447      1535     1422       1531\n",
       "True        1502    1437      1532     1420       1526"
      ]
     },
     "execution_count": 15,
     "metadata": {},
     "output_type": "execute_result"
    }
   ],
   "source": [
    "pd.crosstab(df.location ==\"checkout\",df.day_name, values = df.customer_no, aggfunc = 'nunique')"
   ]
  },
  {
   "cell_type": "code",
   "execution_count": null,
   "metadata": {},
   "outputs": [],
   "source": [
    "###Calculate the time each customer spent in the market\n",
    "#using the 'df_duration' dataset"
   ]
  },
  {
   "cell_type": "code",
   "execution_count": null,
   "metadata": {},
   "outputs": [
    {
     "data": {
      "text/plain": [
       "customer_no\n",
       "1       3\n",
       "2       5\n",
       "3       4\n",
       "4       4\n",
       "5       4\n",
       "       ..\n",
       "1531    1\n",
       "1532    1\n",
       "1533    1\n",
       "1534    1\n",
       "1535    1\n",
       "Name: duration, Length: 1535, dtype: int64"
      ]
     },
     "execution_count": 16,
     "metadata": {},
     "output_type": "execute_result"
    }
   ],
   "source": [
    "df_duration.groupby(['customer_no'])['duration'].nunique()\n"
   ]
  },
  {
   "cell_type": "code",
   "execution_count": null,
   "metadata": {},
   "outputs": [],
   "source": [
    "###Calculate the total number of customers in the supermarket over time."
   ]
  },
  {
   "cell_type": "code",
   "execution_count": 828,
   "metadata": {},
   "outputs": [
    {
     "data": {
      "text/plain": [
       "DatetimeIndex(['2019-09-02 07:03:00', '2019-09-02 07:03:00',\n",
       "               '2019-09-02 07:04:00', '2019-09-02 07:04:00',\n",
       "               '2019-09-02 07:04:00', '2019-09-02 07:04:00',\n",
       "               '2019-09-02 07:04:00', '2019-09-02 07:04:00',\n",
       "               '2019-09-02 07:05:00', '2019-09-02 07:05:00',\n",
       "               ...\n",
       "               '2019-09-06 21:49:00', '2019-09-06 21:49:00',\n",
       "               '2019-09-06 21:49:00', '2019-09-06 21:49:00',\n",
       "               '2019-09-06 21:50:00', '2019-09-06 21:50:00',\n",
       "               '2019-09-06 21:50:00', '2019-09-06 21:50:00',\n",
       "               '2019-09-06 21:50:00', '2019-09-06 21:50:00'],\n",
       "              dtype='datetime64[ns]', name='timestamp', length=24877, freq=None)"
      ]
     },
     "execution_count": 828,
     "metadata": {},
     "output_type": "execute_result"
    }
   ],
   "source": [
    "df.index"
   ]
  },
  {
   "cell_type": "code",
   "execution_count": null,
   "metadata": {},
   "outputs": [],
   "source": [
    " ##Plot the distribution of customers of their first visited section versus following sections (treat all sections visited after the first as “following”)."
   ]
  },
  {
   "cell_type": "code",
   "execution_count": null,
   "metadata": {},
   "outputs": [],
   "source": [
    "\n",
    "#df['rank']= df[['day_name','customer_no']].rank(ascending=1)\n",
    "\n",
    "#df[\"Rank\"] = df[[ 'customer_no',  'day_name']].rank(method ='dense')\n",
    "#df.sort_values([ 'customer_no',  'timestamp'])"
   ]
  },
  {
   "cell_type": "code",
   "execution_count": 829,
   "metadata": {},
   "outputs": [],
   "source": [
    "#df['rank_seller_by_close_date'] = df.groupby('seller_name')['close_date'].rank(method='first')\n",
    "\n",
    "df['rank'] = df.groupby([ 'customer_no','day_name'])['location'].rank(method='dense')"
   ]
  },
  {
   "cell_type": "code",
   "execution_count": 830,
   "metadata": {},
   "outputs": [],
   "source": [
    "df.sort_values(by=['day_name','customer_no'], inplace=True)"
   ]
  },
  {
   "cell_type": "code",
   "execution_count": 831,
   "metadata": {},
   "outputs": [],
   "source": [
    "df['timestep2'] = range(len(df))\n",
    "#df2.set_index('timestep2', inplace=True)"
   ]
  },
  {
   "cell_type": "code",
   "execution_count": 832,
   "metadata": {},
   "outputs": [],
   "source": [
    "df['after'] =  df.groupby(['day_name','customer_no'])['location'].shift(-1)\n"
   ]
  },
  {
   "cell_type": "code",
   "execution_count": 833,
   "metadata": {},
   "outputs": [],
   "source": [
    "df[\"after\"].fillna(\"checkout\", inplace = True)"
   ]
  },
  {
   "cell_type": "code",
   "execution_count": 834,
   "metadata": {},
   "outputs": [],
   "source": [
    "tm = pd.crosstab( df['location'],df['after'], normalize=0)"
   ]
  },
  {
   "cell_type": "code",
   "execution_count": 859,
   "metadata": {},
   "outputs": [],
   "source": [
    "#tm = tm.to_records(index=False)\n",
    "#tm = tm.to_numpy()\n",
    "#df.as_matrix(columns=[df[1:]])\n",
    "\n",
    "dict = {}\n",
    "dict = tm.values"
   ]
  },
  {
   "cell_type": "code",
   "execution_count": 860,
   "metadata": {},
   "outputs": [
    {
     "data": {
      "text/plain": [
       "array([[1.        , 0.        , 0.        , 0.        , 0.        ],\n",
       "       [0.3930327 , 0.        , 0.22248344, 0.1893567 , 0.19512716],\n",
       "       [0.53725992, 0.02714469, 0.        , 0.21895006, 0.21664533],\n",
       "       [0.50019524, 0.23799297, 0.13607966, 0.        , 0.12573214],\n",
       "       [0.25199787, 0.323122  , 0.27277571, 0.15210442, 0.        ]])"
      ]
     },
     "execution_count": 860,
     "metadata": {},
     "output_type": "execute_result"
    }
   ],
   "source": [
    "dict"
   ]
  },
  {
   "cell_type": "code",
   "execution_count": 837,
   "metadata": {},
   "outputs": [
    {
     "data": {
      "text/html": [
       "<div>\n",
       "<style scoped>\n",
       "    .dataframe tbody tr th:only-of-type {\n",
       "        vertical-align: middle;\n",
       "    }\n",
       "\n",
       "    .dataframe tbody tr th {\n",
       "        vertical-align: top;\n",
       "    }\n",
       "\n",
       "    .dataframe thead th {\n",
       "        text-align: right;\n",
       "    }\n",
       "</style>\n",
       "<table border=\"1\" class=\"dataframe\">\n",
       "  <thead>\n",
       "    <tr style=\"text-align: right;\">\n",
       "      <th>after</th>\n",
       "      <th>checkout</th>\n",
       "      <th>dairy</th>\n",
       "      <th>drinks</th>\n",
       "      <th>fruit</th>\n",
       "      <th>spices</th>\n",
       "    </tr>\n",
       "    <tr>\n",
       "      <th>location</th>\n",
       "      <th></th>\n",
       "      <th></th>\n",
       "      <th></th>\n",
       "      <th></th>\n",
       "      <th></th>\n",
       "    </tr>\n",
       "  </thead>\n",
       "  <tbody>\n",
       "    <tr>\n",
       "      <th>checkout</th>\n",
       "      <td>1.000000</td>\n",
       "      <td>0.000000</td>\n",
       "      <td>0.000000</td>\n",
       "      <td>0.000000</td>\n",
       "      <td>0.000000</td>\n",
       "    </tr>\n",
       "    <tr>\n",
       "      <th>dairy</th>\n",
       "      <td>0.393033</td>\n",
       "      <td>0.000000</td>\n",
       "      <td>0.222483</td>\n",
       "      <td>0.189357</td>\n",
       "      <td>0.195127</td>\n",
       "    </tr>\n",
       "    <tr>\n",
       "      <th>drinks</th>\n",
       "      <td>0.537260</td>\n",
       "      <td>0.027145</td>\n",
       "      <td>0.000000</td>\n",
       "      <td>0.218950</td>\n",
       "      <td>0.216645</td>\n",
       "    </tr>\n",
       "    <tr>\n",
       "      <th>fruit</th>\n",
       "      <td>0.500195</td>\n",
       "      <td>0.237993</td>\n",
       "      <td>0.136080</td>\n",
       "      <td>0.000000</td>\n",
       "      <td>0.125732</td>\n",
       "    </tr>\n",
       "    <tr>\n",
       "      <th>spices</th>\n",
       "      <td>0.251998</td>\n",
       "      <td>0.323122</td>\n",
       "      <td>0.272776</td>\n",
       "      <td>0.152104</td>\n",
       "      <td>0.000000</td>\n",
       "    </tr>\n",
       "  </tbody>\n",
       "</table>\n",
       "</div>"
      ],
      "text/plain": [
       "after     checkout     dairy    drinks     fruit    spices\n",
       "location                                                  \n",
       "checkout  1.000000  0.000000  0.000000  0.000000  0.000000\n",
       "dairy     0.393033  0.000000  0.222483  0.189357  0.195127\n",
       "drinks    0.537260  0.027145  0.000000  0.218950  0.216645\n",
       "fruit     0.500195  0.237993  0.136080  0.000000  0.125732\n",
       "spices    0.251998  0.323122  0.272776  0.152104  0.000000"
      ]
     },
     "execution_count": 837,
     "metadata": {},
     "output_type": "execute_result"
    }
   ],
   "source": [
    "tm"
   ]
  },
  {
   "cell_type": "code",
   "execution_count": 508,
   "metadata": {},
   "outputs": [],
   "source": [
    "#tm2 = tm.iloc[1:]"
   ]
  },
  {
   "cell_type": "code",
   "execution_count": 868,
   "metadata": {},
   "outputs": [
    {
     "data": {
      "text/plain": [
       "{'checkout': {'checkout': 1.0,\n",
       "  'dairy': 0.0,\n",
       "  'drinks': 0.0,\n",
       "  'fruit': 0.0,\n",
       "  'spices': 0.0},\n",
       " 'dairy': {'checkout': 0.3930326992947211,\n",
       "  'dairy': 0.0,\n",
       "  'drinks': 0.22248343663175893,\n",
       "  'fruit': 0.18935670014960462,\n",
       "  'spices': 0.19512716392391535},\n",
       " 'drinks': {'checkout': 0.5372599231754162,\n",
       "  'dairy': 0.02714468629961588,\n",
       "  'drinks': 0.0,\n",
       "  'fruit': 0.21895006402048656,\n",
       "  'spices': 0.21664532650448143},\n",
       " 'fruit': {'checkout': 0.5001952362358454,\n",
       "  'dairy': 0.23799297149550958,\n",
       "  'drinks': 0.13607965638422492,\n",
       "  'fruit': 0.0,\n",
       "  'spices': 0.12573213588442014},\n",
       " 'spices': {'checkout': 0.25199786893979753,\n",
       "  'dairy': 0.3231220031965903,\n",
       "  'drinks': 0.27277570591369205,\n",
       "  'fruit': 0.15210442194992008,\n",
       "  'spices': 0.0}}"
      ]
     },
     "execution_count": 868,
     "metadata": {},
     "output_type": "execute_result"
    }
   ],
   "source": [
    "#dict = df.to_dict('dict')\n",
    "\n",
    "dict = tm.T.to_dict()\n",
    "dict.keys()\n",
    "dict\n"
   ]
  },
  {
   "cell_type": "code",
   "execution_count": 492,
   "metadata": {},
   "outputs": [],
   "source": [
    "#del dict['checkout']"
   ]
  },
  {
   "cell_type": "code",
   "execution_count": 867,
   "metadata": {},
   "outputs": [
    {
     "data": {
      "text/plain": [
       "array([[1.        , 0.        , 0.        , 0.        , 0.        ],\n",
       "       [0.3930327 , 0.        , 0.22248344, 0.1893567 , 0.19512716],\n",
       "       [0.53725992, 0.02714469, 0.        , 0.21895006, 0.21664533],\n",
       "       [0.50019524, 0.23799297, 0.13607966, 0.        , 0.12573214],\n",
       "       [0.25199787, 0.323122  , 0.27277571, 0.15210442, 0.        ]])"
      ]
     },
     "execution_count": 867,
     "metadata": {},
     "output_type": "execute_result"
    }
   ],
   "source": [
    "dict"
   ]
  },
  {
   "cell_type": "code",
   "execution_count": 869,
   "metadata": {},
   "outputs": [
    {
     "data": {
      "text/plain": [
       "['checkout', 'dairy', 'drinks', 'fruit', 'spices']"
      ]
     },
     "execution_count": 869,
     "metadata": {},
     "output_type": "execute_result"
    }
   ],
   "source": [
    "list(dict.keys())\n",
    "#r = list(['checkout'])"
   ]
  },
  {
   "cell_type": "code",
   "execution_count": 452,
   "metadata": {},
   "outputs": [
    {
     "data": {
      "text/plain": [
       "['checkout', 'dairy', 'drinks', 'fruit', 'spices']"
      ]
     },
     "execution_count": 452,
     "metadata": {},
     "output_type": "execute_result"
    }
   ],
   "source": [
    "ls"
   ]
  },
  {
   "cell_type": "code",
   "execution_count": 458,
   "metadata": {},
   "outputs": [],
   "source": [
    "no_co = [x for x in ls if  x not in r or r.remove(x)]"
   ]
  },
  {
   "cell_type": "code",
   "execution_count": 456,
   "metadata": {},
   "outputs": [
    {
     "data": {
      "text/plain": [
       "['dairy', 'drinks', 'fruit', 'spices']"
      ]
     },
     "execution_count": 456,
     "metadata": {},
     "output_type": "execute_result"
    }
   ],
   "source": [
    "no_co"
   ]
  },
  {
   "cell_type": "code",
   "execution_count": 478,
   "metadata": {},
   "outputs": [
    {
     "data": {
      "text/plain": [
       "array([[0.        , 0.        , 0.        , 0.        ],\n",
       "       [0.        , 0.22248344, 0.1893567 , 0.19512716],\n",
       "       [0.02714469, 0.        , 0.21895006, 0.21664533],\n",
       "       [0.23799297, 0.13607966, 0.        , 0.12573214],\n",
       "       [0.323122  , 0.27277571, 0.15210442, 0.        ]])"
      ]
     },
     "execution_count": 478,
     "metadata": {},
     "output_type": "execute_result"
    }
   ],
   "source": [
    "tm.loc[:, tm.columns!='checkout'].values"
   ]
  },
  {
   "cell_type": "code",
   "execution_count": 840,
   "metadata": {},
   "outputs": [],
   "source": [
    "tm = tm.T"
   ]
  },
  {
   "cell_type": "code",
   "execution_count": 871,
   "metadata": {},
   "outputs": [],
   "source": [
    "\n",
    "            \n",
    " "
   ]
  },
  {
   "cell_type": "code",
   "execution_count": 889,
   "metadata": {},
   "outputs": [],
   "source": [
    "#cust1 = Customer()\n",
    "Helen_Smith = Customer('Helen Smith', 'dairy', dict, 3)"
   ]
  },
  {
   "cell_type": "code",
   "execution_count": 893,
   "metadata": {},
   "outputs": [
    {
     "data": {
      "text/plain": [
       "False"
      ]
     },
     "execution_count": 893,
     "metadata": {},
     "output_type": "execute_result"
    }
   ],
   "source": [
    "Helen_Smith.is_active()"
   ]
  },
  {
   "cell_type": "code",
   "execution_count": 892,
   "metadata": {},
   "outputs": [
    {
     "data": {
      "text/plain": [
       "'spices'"
      ]
     },
     "execution_count": 892,
     "metadata": {},
     "output_type": "execute_result"
    }
   ],
   "source": [
    "Helen_Smith.next_state(current_state='dairy')"
   ]
  },
  {
   "cell_type": "code",
   "execution_count": 896,
   "metadata": {},
   "outputs": [
    {
     "data": {
      "text/plain": [
       "['drinks', 'spices', 'dairy', 'spices']"
      ]
     },
     "execution_count": 896,
     "metadata": {},
     "output_type": "execute_result"
    }
   ],
   "source": [
    "Helen_Smith.make_cust_data(current_state='dairy', num_states=4)"
   ]
  },
  {
   "cell_type": "code",
   "execution_count": 378,
   "metadata": {},
   "outputs": [
    {
     "data": {
      "text/plain": [
       "['spices', 'checkout', 'fruit', 'checkout']"
      ]
     },
     "execution_count": 378,
     "metadata": {},
     "output_type": "execute_result"
    }
   ],
   "source": []
  },
  {
   "cell_type": "code",
   "execution_count": 886,
   "metadata": {},
   "outputs": [],
   "source": [
    "import datetime as dt\n",
    "#pd.to_datetime(df.index)\n",
    "df['time'] = pd.to_datetime(df.index).time\n"
   ]
  },
  {
   "cell_type": "code",
   "execution_count": 887,
   "metadata": {},
   "outputs": [
    {
     "name": "stdout",
     "output_type": "stream",
     "text": [
      "DatetimeIndex(['2019-09-06 07:00:00', '2019-09-06 07:04:00',\n",
      "               '2019-09-06 07:05:00', '2019-09-06 07:00:00',\n",
      "               '2019-09-06 07:01:00', '2019-09-06 07:00:00',\n",
      "               '2019-09-06 07:03:00', '2019-09-06 07:04:00',\n",
      "               '2019-09-06 07:11:00', '2019-09-06 07:01:00',\n",
      "               ...\n",
      "               '2019-09-04 21:45:00', '2019-09-04 21:48:00',\n",
      "               '2019-09-04 21:45:00', '2019-09-04 21:47:00',\n",
      "               '2019-09-04 21:49:00', '2019-09-04 21:46:00',\n",
      "               '2019-09-04 21:47:00', '2019-09-04 21:49:00',\n",
      "               '2019-09-04 21:46:00', '2019-09-04 21:49:00'],\n",
      "              dtype='datetime64[ns]', name='timestamp', length=24877, freq=None)\n"
     ]
    }
   ],
   "source": [
    "from datetime import datetime, timedelta\n",
    "\n",
    "result = df.index + timedelta(minutes=0)\n",
    "df['time'] = pd.to_datetime(df.index).time\n",
    "\n",
    "print(result)  "
   ]
  },
  {
   "cell_type": "code",
   "execution_count": null,
   "metadata": {},
   "outputs": [],
   "source": []
  },
  {
   "cell_type": "code",
   "execution_count": null,
   "metadata": {},
   "outputs": [],
   "source": []
  },
  {
   "cell_type": "code",
   "execution_count": 56,
   "metadata": {},
   "outputs": [],
   "source": [
    "### export original dataframe transition matrix to be used in the Supermarket class\n",
    "# export the transition prob matrix to csv\n",
    "\n",
    "tm.to_csv('./data/transition_matrix.csv')\n"
   ]
  }
 ],
 "metadata": {
  "kernelspec": {
   "display_name": "Python 3.10.7 64-bit",
   "language": "python",
   "name": "python3"
  },
  "language_info": {
   "codemirror_mode": {
    "name": "ipython",
    "version": 3
   },
   "file_extension": ".py",
   "mimetype": "text/x-python",
   "name": "python",
   "nbconvert_exporter": "python",
   "pygments_lexer": "ipython3",
   "version": "3.10.7"
  },
  "orig_nbformat": 4,
  "vscode": {
   "interpreter": {
    "hash": "f09ff2775d7407c2cf5d3467f8a20afd6c3e47667e08536d937bcbe3f94dac6a"
   }
  }
 },
 "nbformat": 4,
 "nbformat_minor": 2
}
