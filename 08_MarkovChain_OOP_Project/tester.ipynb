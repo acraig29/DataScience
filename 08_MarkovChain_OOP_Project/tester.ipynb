{
 "cells": [
  {
   "cell_type": "code",
   "execution_count": 92,
   "metadata": {},
   "outputs": [],
   "source": [
    "import pandas as pd\n",
    "import numpy as np\n",
    "import matplotlib.pylab as plt\n",
    "#%matplotlib inline\n",
    "from datetime import date, datetime\n",
    "import os\n",
    "\n",
    "from customer_class import Customer\n",
    "from supermarket import Supermarket\n"
   ]
  },
  {
   "cell_type": "code",
   "execution_count": 93,
   "metadata": {},
   "outputs": [],
   "source": [
    "import sys\n",
    "sys.path.insert(0, \"..\")"
   ]
  },
  {
   "cell_type": "code",
   "execution_count": 3,
   "metadata": {},
   "outputs": [],
   "source": [
    "#import transition matrix\n",
    "tm = pd.read_csv('./data/transition_matrix.csv')\n",
    "dict = tm.T.to_dict()\n",
    "\n"
   ]
  },
  {
   "cell_type": "code",
   "execution_count": 4,
   "metadata": {},
   "outputs": [
    {
     "data": {
      "text/html": [
       "<div>\n",
       "<style scoped>\n",
       "    .dataframe tbody tr th:only-of-type {\n",
       "        vertical-align: middle;\n",
       "    }\n",
       "\n",
       "    .dataframe tbody tr th {\n",
       "        vertical-align: top;\n",
       "    }\n",
       "\n",
       "    .dataframe thead th {\n",
       "        text-align: right;\n",
       "    }\n",
       "</style>\n",
       "<table border=\"1\" class=\"dataframe\">\n",
       "  <thead>\n",
       "    <tr style=\"text-align: right;\">\n",
       "      <th></th>\n",
       "      <th>location</th>\n",
       "      <th>checkout</th>\n",
       "      <th>dairy</th>\n",
       "      <th>drinks</th>\n",
       "      <th>fruit</th>\n",
       "      <th>spices</th>\n",
       "    </tr>\n",
       "  </thead>\n",
       "  <tbody>\n",
       "    <tr>\n",
       "      <th>0</th>\n",
       "      <td>checkout</td>\n",
       "      <td>1.000000</td>\n",
       "      <td>0.000000</td>\n",
       "      <td>0.000000</td>\n",
       "      <td>0.000000</td>\n",
       "      <td>0.000000</td>\n",
       "    </tr>\n",
       "    <tr>\n",
       "      <th>1</th>\n",
       "      <td>dairy</td>\n",
       "      <td>0.393033</td>\n",
       "      <td>0.000000</td>\n",
       "      <td>0.222483</td>\n",
       "      <td>0.189357</td>\n",
       "      <td>0.195127</td>\n",
       "    </tr>\n",
       "    <tr>\n",
       "      <th>2</th>\n",
       "      <td>drinks</td>\n",
       "      <td>0.537260</td>\n",
       "      <td>0.027145</td>\n",
       "      <td>0.000000</td>\n",
       "      <td>0.218950</td>\n",
       "      <td>0.216645</td>\n",
       "    </tr>\n",
       "    <tr>\n",
       "      <th>3</th>\n",
       "      <td>fruit</td>\n",
       "      <td>0.500195</td>\n",
       "      <td>0.237993</td>\n",
       "      <td>0.136080</td>\n",
       "      <td>0.000000</td>\n",
       "      <td>0.125732</td>\n",
       "    </tr>\n",
       "    <tr>\n",
       "      <th>4</th>\n",
       "      <td>spices</td>\n",
       "      <td>0.251998</td>\n",
       "      <td>0.323122</td>\n",
       "      <td>0.272776</td>\n",
       "      <td>0.152104</td>\n",
       "      <td>0.000000</td>\n",
       "    </tr>\n",
       "  </tbody>\n",
       "</table>\n",
       "</div>"
      ],
      "text/plain": [
       "   location  checkout     dairy    drinks     fruit    spices\n",
       "0  checkout  1.000000  0.000000  0.000000  0.000000  0.000000\n",
       "1     dairy  0.393033  0.000000  0.222483  0.189357  0.195127\n",
       "2    drinks  0.537260  0.027145  0.000000  0.218950  0.216645\n",
       "3     fruit  0.500195  0.237993  0.136080  0.000000  0.125732\n",
       "4    spices  0.251998  0.323122  0.272776  0.152104  0.000000"
      ]
     },
     "execution_count": 4,
     "metadata": {},
     "output_type": "execute_result"
    }
   ],
   "source": [
    "tm"
   ]
  },
  {
   "cell_type": "code",
   "execution_count": 5,
   "metadata": {},
   "outputs": [
    {
     "data": {
      "text/plain": [
       "{0: {'location': 'checkout',\n",
       "  'checkout': 1.0,\n",
       "  'dairy': 0.0,\n",
       "  'drinks': 0.0,\n",
       "  'fruit': 0.0,\n",
       "  'spices': 0.0},\n",
       " 1: {'location': 'dairy',\n",
       "  'checkout': 0.3930326992947211,\n",
       "  'dairy': 0.0,\n",
       "  'drinks': 0.2224834366317589,\n",
       "  'fruit': 0.1893567001496046,\n",
       "  'spices': 0.1951271639239153},\n",
       " 2: {'location': 'drinks',\n",
       "  'checkout': 0.5372599231754162,\n",
       "  'dairy': 0.0271446862996158,\n",
       "  'drinks': 0.0,\n",
       "  'fruit': 0.2189500640204865,\n",
       "  'spices': 0.2166453265044814},\n",
       " 3: {'location': 'fruit',\n",
       "  'checkout': 0.5001952362358454,\n",
       "  'dairy': 0.2379929714955095,\n",
       "  'drinks': 0.1360796563842249,\n",
       "  'fruit': 0.0,\n",
       "  'spices': 0.1257321358844201},\n",
       " 4: {'location': 'spices',\n",
       "  'checkout': 0.2519978689397975,\n",
       "  'dairy': 0.3231220031965903,\n",
       "  'drinks': 0.272775705913692,\n",
       "  'fruit': 0.15210442194992,\n",
       "  'spices': 0.0}}"
      ]
     },
     "execution_count": 5,
     "metadata": {},
     "output_type": "execute_result"
    }
   ],
   "source": [
    "dict"
   ]
  },
  {
   "cell_type": "code",
   "execution_count": 10,
   "metadata": {},
   "outputs": [],
   "source": [
    "tala = Customer('Tala Smith', 'drinks', dict, 3)"
   ]
  },
  {
   "cell_type": "code",
   "execution_count": null,
   "metadata": {},
   "outputs": [],
   "source": [
    "tala.next_state(current_state='dairy')"
   ]
  },
  {
   "cell_type": "code",
   "execution_count": null,
   "metadata": {},
   "outputs": [],
   "source": [
    "jenny.make_cust_data(current_state='dairy', num_states=5)"
   ]
  },
  {
   "cell_type": "code",
   "execution_count": null,
   "metadata": {},
   "outputs": [],
   "source": [
    "#####test supemarket class"
   ]
  },
  {
   "cell_type": "code",
   "execution_count": 94,
   "metadata": {},
   "outputs": [],
   "source": [
    "new_day = Supermarket(['Helen Smith', 'Henrik Craig', 'Quentin Jones'], 4, 9)"
   ]
  },
  {
   "cell_type": "code",
   "execution_count": 84,
   "metadata": {},
   "outputs": [
    {
     "data": {
      "text/plain": [
       "Supermarket(\"[]\", \"0\")"
      ]
     },
     "execution_count": 84,
     "metadata": {},
     "output_type": "execute_result"
    }
   ],
   "source": [
    "new_day"
   ]
  },
  {
   "cell_type": "code",
   "execution_count": 95,
   "metadata": {},
   "outputs": [],
   "source": [
    "new_day.add_new_customers(15,9)"
   ]
  },
  {
   "cell_type": "code",
   "execution_count": null,
   "metadata": {},
   "outputs": [],
   "source": [
    "new_day.next_minute()"
   ]
  },
  {
   "cell_type": "code",
   "execution_count": 102,
   "metadata": {},
   "outputs": [
    {
     "name": "stdout",
     "output_type": "stream",
     "text": [
      "Helen Smith is at drinks\n",
      "Henrik Craig is at fruit\n",
      "Quentin Jones is at fruit\n"
     ]
    }
   ],
   "source": [
    "customer_names = ['Helen Smith', 'Henrik Craig', 'Quentin Jones']\n",
    "for customer_name in customer_names:\n",
    "    cust = Customer(customer_name, np.random.choice(['dairy','drinks', 'fruit', 'spices']), dict)\n",
    "    #print(cust)\n",
    "    customer_obj = cust.name\n",
    "    print(f\"{customer_obj} is at {cust.state}\")\n",
    "    #new_day.add_new_customers(cust)"
   ]
  }
 ],
 "metadata": {
  "kernelspec": {
   "display_name": "Python 3.10.7 64-bit",
   "language": "python",
   "name": "python3"
  },
  "language_info": {
   "codemirror_mode": {
    "name": "ipython",
    "version": 3
   },
   "file_extension": ".py",
   "mimetype": "text/x-python",
   "name": "python",
   "nbconvert_exporter": "python",
   "pygments_lexer": "ipython3",
   "version": "3.10.7"
  },
  "orig_nbformat": 4,
  "vscode": {
   "interpreter": {
    "hash": "f09ff2775d7407c2cf5d3467f8a20afd6c3e47667e08536d937bcbe3f94dac6a"
   }
  }
 },
 "nbformat": 4,
 "nbformat_minor": 2
}
